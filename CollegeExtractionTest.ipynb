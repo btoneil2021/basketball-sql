{
  "nbformat": 4,
  "nbformat_minor": 0,
  "metadata": {
    "colab": {
      "provenance": [],
      "authorship_tag": "ABX9TyOtfypbVO9YDfB3OhB7RgMV",
      "include_colab_link": true
    },
    "kernelspec": {
      "name": "python3",
      "display_name": "Python 3"
    },
    "language_info": {
      "name": "python"
    }
  },
  "cells": [
    {
      "cell_type": "markdown",
      "metadata": {
        "id": "view-in-github",
        "colab_type": "text"
      },
      "source": [
        "<a href=\"https://colab.research.google.com/github/btoneil2021/basketball-sql/blob/main/CollegeExtractionTest.ipynb\" target=\"_parent\"><img src=\"https://colab.research.google.com/assets/colab-badge.svg\" alt=\"Open In Colab\"/></a>"
      ]
    },
    {
      "cell_type": "markdown",
      "source": [
        "To-Do:\n",
        "- Extract school names from big list\n",
        "- Take a team name from a player\n",
        "- Use rapidfuzz to map the two"
      ],
      "metadata": {
        "id": "ob4itbDHeYK4"
      }
    },
    {
      "cell_type": "markdown",
      "source": [
        "# Part 1 - Extract School Names from Big List!"
      ],
      "metadata": {
        "id": "SPRm1VQJh_Gf"
      }
    },
    {
      "cell_type": "code",
      "source": [
        "# Extract Names from list (https://www.ncsasports.org/mens-basketball/colleges)"
      ],
      "metadata": {
        "id": "6EMe4qEPejVe"
      },
      "execution_count": null,
      "outputs": []
    },
    {
      "cell_type": "code",
      "source": [
        "%%shell\n",
        "pip install chromedriver_autoinstaller\n",
        "pip install selenium\n",
        "pip install rapidfuzz"
      ],
      "metadata": {
        "colab": {
          "base_uri": "https://localhost:8080/"
        },
        "id": "nyN1alG6fImf",
        "outputId": "87900f96-ed9b-4670-a5ef-74eb56940fd9"
      },
      "execution_count": 4,
      "outputs": [
        {
          "output_type": "stream",
          "name": "stdout",
          "text": [
            "Collecting chromedriver_autoinstaller\n",
            "  Downloading chromedriver_autoinstaller-0.6.4-py3-none-any.whl.metadata (2.1 kB)\n",
            "Requirement already satisfied: packaging>=23.1 in /usr/local/lib/python3.11/dist-packages (from chromedriver_autoinstaller) (24.2)\n",
            "Downloading chromedriver_autoinstaller-0.6.4-py3-none-any.whl (7.6 kB)\n",
            "Installing collected packages: chromedriver_autoinstaller\n",
            "Successfully installed chromedriver_autoinstaller-0.6.4\n",
            "Collecting selenium\n",
            "  Downloading selenium-4.31.0-py3-none-any.whl.metadata (7.5 kB)\n",
            "Requirement already satisfied: urllib3<3,>=1.26 in /usr/local/lib/python3.11/dist-packages (from urllib3[socks]<3,>=1.26->selenium) (2.4.0)\n",
            "Collecting trio~=0.17 (from selenium)\n",
            "  Downloading trio-0.30.0-py3-none-any.whl.metadata (8.5 kB)\n",
            "Collecting trio-websocket~=0.9 (from selenium)\n",
            "  Downloading trio_websocket-0.12.2-py3-none-any.whl.metadata (5.1 kB)\n",
            "Requirement already satisfied: certifi>=2021.10.8 in /usr/local/lib/python3.11/dist-packages (from selenium) (2025.4.26)\n",
            "Requirement already satisfied: typing_extensions~=4.9 in /usr/local/lib/python3.11/dist-packages (from selenium) (4.13.2)\n",
            "Requirement already satisfied: websocket-client~=1.8 in /usr/local/lib/python3.11/dist-packages (from selenium) (1.8.0)\n",
            "Requirement already satisfied: attrs>=23.2.0 in /usr/local/lib/python3.11/dist-packages (from trio~=0.17->selenium) (25.3.0)\n",
            "Requirement already satisfied: sortedcontainers in /usr/local/lib/python3.11/dist-packages (from trio~=0.17->selenium) (2.4.0)\n",
            "Requirement already satisfied: idna in /usr/local/lib/python3.11/dist-packages (from trio~=0.17->selenium) (3.10)\n",
            "Collecting outcome (from trio~=0.17->selenium)\n",
            "  Downloading outcome-1.3.0.post0-py2.py3-none-any.whl.metadata (2.6 kB)\n",
            "Requirement already satisfied: sniffio>=1.3.0 in /usr/local/lib/python3.11/dist-packages (from trio~=0.17->selenium) (1.3.1)\n",
            "Collecting wsproto>=0.14 (from trio-websocket~=0.9->selenium)\n",
            "  Downloading wsproto-1.2.0-py3-none-any.whl.metadata (5.6 kB)\n",
            "Requirement already satisfied: pysocks!=1.5.7,<2.0,>=1.5.6 in /usr/local/lib/python3.11/dist-packages (from urllib3[socks]<3,>=1.26->selenium) (1.7.1)\n",
            "Requirement already satisfied: h11<1,>=0.9.0 in /usr/local/lib/python3.11/dist-packages (from wsproto>=0.14->trio-websocket~=0.9->selenium) (0.16.0)\n",
            "Downloading selenium-4.31.0-py3-none-any.whl (9.4 MB)\n",
            "\u001b[2K   \u001b[90m━━━━━━━━━━━━━━━━━━━━━━━━━━━━━━━━━━━━━━━━\u001b[0m \u001b[32m9.4/9.4 MB\u001b[0m \u001b[31m58.9 MB/s\u001b[0m eta \u001b[36m0:00:00\u001b[0m\n",
            "\u001b[?25hDownloading trio-0.30.0-py3-none-any.whl (499 kB)\n",
            "\u001b[2K   \u001b[90m━━━━━━━━━━━━━━━━━━━━━━━━━━━━━━━━━━━━━━━━\u001b[0m \u001b[32m499.2/499.2 kB\u001b[0m \u001b[31m36.8 MB/s\u001b[0m eta \u001b[36m0:00:00\u001b[0m\n",
            "\u001b[?25hDownloading trio_websocket-0.12.2-py3-none-any.whl (21 kB)\n",
            "Downloading outcome-1.3.0.post0-py2.py3-none-any.whl (10 kB)\n",
            "Downloading wsproto-1.2.0-py3-none-any.whl (24 kB)\n",
            "Installing collected packages: wsproto, outcome, trio, trio-websocket, selenium\n",
            "Successfully installed outcome-1.3.0.post0 selenium-4.31.0 trio-0.30.0 trio-websocket-0.12.2 wsproto-1.2.0\n",
            "Collecting rapidfuzz\n",
            "  Downloading rapidfuzz-3.13.0-cp311-cp311-manylinux_2_17_x86_64.manylinux2014_x86_64.whl.metadata (12 kB)\n",
            "Downloading rapidfuzz-3.13.0-cp311-cp311-manylinux_2_17_x86_64.manylinux2014_x86_64.whl (3.1 MB)\n",
            "\u001b[2K   \u001b[90m━━━━━━━━━━━━━━━━━━━━━━━━━━━━━━━━━━━━━━━━\u001b[0m \u001b[32m3.1/3.1 MB\u001b[0m \u001b[31m22.0 MB/s\u001b[0m eta \u001b[36m0:00:00\u001b[0m\n",
            "\u001b[?25hInstalling collected packages: rapidfuzz\n",
            "Successfully installed rapidfuzz-3.13.0\n"
          ]
        },
        {
          "output_type": "execute_result",
          "data": {
            "text/plain": []
          },
          "metadata": {},
          "execution_count": 4
        }
      ]
    },
    {
      "cell_type": "code",
      "source": [
        "import sys\n",
        "import chromedriver_autoinstaller\n",
        "from selenium import webdriver\n",
        "from bs4 import BeautifulSoup\n",
        "import re\n",
        "import threading\n",
        "import unicodedata\n",
        "import rapidfuzz"
      ],
      "metadata": {
        "id": "Gjp0saH3fMwm"
      },
      "execution_count": 5,
      "outputs": []
    },
    {
      "cell_type": "code",
      "source": [
        "def get_soup(url):\n",
        "  chrome_options = webdriver.ChromeOptions()\n",
        "  chrome_options.add_argument('--headless')\n",
        "  chrome_options.add_argument('--no-sandbox')\n",
        "  chrome_options.add_argument('--disable-dev-shm-usage')\n",
        "\n",
        "  driver = webdriver.Chrome(options=chrome_options)\n",
        "\n",
        "  driver.get(url)\n",
        "\n",
        "  driver.implicitly_wait(1)\n",
        "\n",
        "  soup = BeautifulSoup(driver.page_source, 'html.parser')\n",
        "\n",
        "  driver.quit()\n",
        "\n",
        "  return soup"
      ],
      "metadata": {
        "id": "klpkSL9XfRUG"
      },
      "execution_count": 6,
      "outputs": []
    },
    {
      "cell_type": "code",
      "source": [
        "soup = get_soup('https://www.ncsasports.org/mens-basketball/colleges')"
      ],
      "metadata": {
        "id": "pBT35PkrfaKk"
      },
      "execution_count": 7,
      "outputs": []
    },
    {
      "cell_type": "code",
      "source": [
        "college_table = soup.find('section', {'class': 'wp-block-ncsa-college-list'})"
      ],
      "metadata": {
        "collapsed": true,
        "id": "DDoEB-hMfc3v"
      },
      "execution_count": 8,
      "outputs": []
    },
    {
      "cell_type": "code",
      "source": [
        "college_rows = college_table.find_all('div', {'itemprop': 'itemListElement'})"
      ],
      "metadata": {
        "id": "m1HgyKHkf9lY"
      },
      "execution_count": 9,
      "outputs": []
    },
    {
      "cell_type": "code",
      "source": [
        "colleges = []\n",
        "for div in college_rows:\n",
        "  name_div = div.find('div', {'itemprop': 'name'})\n",
        "  name = name_div.text\n",
        "  colleges.append(name)"
      ],
      "metadata": {
        "id": "TQfUOoCjhEep"
      },
      "execution_count": 10,
      "outputs": []
    },
    {
      "cell_type": "code",
      "source": [
        "print(colleges)"
      ],
      "metadata": {
        "colab": {
          "base_uri": "https://localhost:8080/"
        },
        "id": "vsmsTExbh23I",
        "outputId": "addcd63a-9a3e-4a6f-fff0-1fd304eaa5ab"
      },
      "execution_count": 11,
      "outputs": [
        {
          "output_type": "stream",
          "name": "stdout",
          "text": [
            "['Abilene Christian University', 'Academy of Art University', 'Adams State University', 'Adelphi University', 'Adrian College', 'Alabama A&M University', 'Alabama State University', 'Albany State University', 'Albany Technical College', 'Albertus Magnus College', 'Albion College', 'Albright College', 'Alcorn State University', 'Alderson Broaddus University', 'Alfred University', 'Alice Lloyd College', 'Allan Hancock College', 'Allegany College of Maryland', 'Allegheny College', 'Allen Community College', 'Allen University', 'Alliance University', 'Alma College', 'Alpena Community College', 'Alvernia University', 'American International College', 'American River College', 'American University', 'Amherst College', 'Anderson University – Indiana', 'Anderson University – South Carolina', 'Andrew College', 'Angelina College', 'Angelo State University', 'Anna Maria College', 'Anne Arundel Community College', 'Anoka-Ramsey Community College', 'Appalachian State University', 'Aquinas College – Michigan', 'Arcadia University', 'Arizona Christian University', 'Arizona State University', 'Arizona Western College', 'Arkansas Baptist College', 'Arkansas State University', 'Arkansas State University – Mid-South', 'Arkansas Tech University', 'ASA College – Miami', 'Asbury University', 'Ashland University', 'Assumption University', 'Atlantic Cape Community College', 'Auburn University', 'Auburn University – Montgomery', 'Augsburg University', 'Augusta University', 'Augustana College – Illinois', 'Augustana University – South Dakota', 'Aurora University', 'Austin College', 'Austin Peay State University', 'Ave Maria University', 'Averett University', 'Avila University', 'Azusa Pacific University', 'Babson College', 'Bacone College', 'Baker University', 'Bakersfield College', 'Baldwin Wallace University', 'Ball State University', 'Baltimore City Community College', 'Bard College', 'Barry University', 'Barstow Community College', 'Barton College', 'Barton Community College', 'Bates College', 'Baton Rouge Community College', 'Bay College', 'Baylor University', 'Belhaven University', 'Bellarmine University', 'Bellarmine University', 'Bellevue College', 'Bellevue University', 'Belmont Abbey College', 'Belmont University', 'Beloit College', 'Bemidji State University', 'Benedict College', 'Benedictine College', 'Benedictine University', 'Benedictine University – Mesa', 'Bentley University', 'Berea College', 'Bergen Community College', 'Berry College', 'Bethany College – Kansas', 'Bethany College – West Virginia', 'Bethany Lutheran College', 'Bethel College – Kansas', 'Bethel University – Indiana', 'Bethel University – Minnesota', 'Bethel University – Tennessee', 'Bethune-Cookman University', 'Bevill State Community College', 'Big Bend Community College', 'Biola University', 'Birmingham-Southern College', 'Bishop State Community College', 'Bismarck State College', 'Black Hawk College – East Campus', 'Black Hawk College – Quad Cities', 'Black Hills State University', 'Blackburn College', 'Blinn College', 'Bloomfield College', 'Bloomsburg University of Pennsylvania', 'Blue Mountain College', 'Blue Mountain Community College', 'Bluefield State University', 'Bluefield University', 'Bluffton University', 'Boise State University', 'Bossier Parish Community College', 'Boston College', 'Boston University', 'Bowdoin College', 'Bowie State University', 'Bowling Green State University', 'Bradley University', 'Brandeis University', 'Brescia University', 'Brevard College', 'Brewton-Parker College', 'Briar Cliff University', 'Bridgewater College', 'Bridgewater State University', 'Brigham Young University', 'Bristol Community College', 'Brookdale Community College', 'Brookhaven College', 'Brown University', 'Brunswick Community College', 'Bryan College – Tennessee', 'Bryant & Stratton College – Milwaukee', 'Bryant & Stratton College – Ohio', 'Bryant & Stratton College – Virginia', 'Bryant University', 'Bucknell University', 'Bucks County Community College', 'Buena Vista University', 'Bunker Hill Community College', 'Bushnell University', 'Butler Community College', 'Butler County Community College', 'Butler University', 'Butte College', 'Cabrini University', 'Cairn University', 'Cal Poly Humboldt', 'Caldwell Community College & Technical Institute', 'Caldwell University', 'Calhoun Community College', 'California Baptist University', 'California Institute of Technology', 'California Lutheran University', 'California Polytechnic State University – San Luis Obispo', 'California State Polytechnic University – Pomona', 'California State University – Bakersfield', 'California State University – Chico', 'California State University – Dominguez Hills', 'California State University – East Bay', 'California State University – Fresno', 'California State University – Fullerton', 'California State University – Long Beach', 'California State University – Los Angeles', 'California State University – Monterey Bay', 'California State University – Northridge', 'California State University – Sacramento', 'California State University – San Bernardino', 'California State University – San Marcos', 'California State University – Stanislaus', 'California State University Maritime Academy', 'Calumet College of St. Joseph', 'Calvin University', 'Camden County College', 'Cameron University', 'Campbell University', 'Campbellsville University', 'Canisius College', 'Cape Fear Community College', 'Capital University', 'Carl Sandburg College', 'Carleton College', 'Carlow University', 'Carnegie Mellon University', 'Carroll College', 'Carroll University', 'Carson-Newman University', 'Carthage College', 'Case Western Reserve University', 'Casper College', 'Castleton University', 'Catawba College', 'Catawba Valley Community College', 'Catholic University of America', 'Cecil College', 'Cedar Valley College', 'Cedarville University', 'Centenary College of Louisiana', 'Centenary University – New Jersey', 'Central Arizona College', 'Central Baptist College', 'Central Carolina Community College', 'Central Christian College of Kansas', 'Central College', 'Central Community College', 'Central Connecticut State University', 'Central Georgia Technical College', 'Central Lakes College – Brainerd', 'Central Maine Community College', 'Central Methodist University', 'Central Michigan University', 'Central State University', 'Central Washington University', 'Central Wyoming College', 'Centralia College', 'Centre College', 'Chabot College', 'Chadron State College', 'Chaffey College', 'Chaminade University of Honolulu', 'Chandler-Gilbert Community College', 'Chapman University', 'Charleston Southern University', 'Chatham University', 'Chattahoochee Valley Community College', 'Chattanooga State Community College', 'Chemeketa Community College', 'Chesapeake College', 'Chestnut Hill College', 'Chicago State University', 'Chipola College', 'Chowan University', 'Christian Brothers University', 'Christopher Newport University', 'Citrus College', 'City Colleges of Chicago – Kennedy-King College', 'City Colleges of Chicago – Malcolm X College', 'City Colleges of Chicago – Olive-Harvey College', 'Clackamas Community College', 'Claflin University', 'Claremont-Mudd-Scripps Colleges', 'Clarendon College', 'Clark Atlanta University', 'Clark State College', 'Clark University', 'Clarke University', 'Clarks Summit University', 'Clarkson University', 'Clayton State University', 'Clemson University', 'Cleveland State Community College', 'Cleveland State University', 'Cloud County Community College', 'Coahoma Community College', 'Coastal Alabama Community College – Bay Minette (South)', 'Coastal Alabama Community College – Monroeville (North)', 'Coastal Bend College', 'Coastal Carolina University', 'Cochise College', 'Coe College', 'Coffeyville Community College', 'Coker University', 'Colby College', 'Colby Community College', 'Colby-Sawyer College', 'Colgate University', 'College of Charleston', 'College of Coastal Georgia', 'College of DuPage', 'College of Lake County', 'College of Marin', 'College of Mount Saint Vincent', 'College of Southern Idaho', 'College of Southern Maryland', 'College of Southern Nevada', 'College of the Canyons', 'College of the Desert', 'College of the Holy Cross', 'College of the Redwoods', 'College of the Sequoias', 'College of Wooster', 'Collin College', 'Colorado Christian University', 'Colorado College', 'Colorado Mesa University', 'Colorado Northwestern Community College', 'Colorado School of Mines', 'Colorado State University', 'Colorado State University – Pueblo', 'Columbia Basin College', 'Columbia College – California', 'Columbia College – Missouri', 'Columbia International University', 'Columbia State Community College', 'Columbia University', 'Columbia-Greene Community College', 'Columbus State University', 'Community Christian College', 'Community College of Allegheny County', 'Community College of Beaver County', 'Community College of Philadelphia', 'Community College of Rhode Island', 'Concord University', 'Concordia College – Minnesota', 'Concordia University – Ann Arbor', 'Concordia University – Chicago', 'Concordia University – Irvine', 'Concordia University – Nebraska', 'Concordia University – Texas', 'Concordia University Wisconsin', 'Concordia University, St. Paul – Minnesota', 'Connecticut College', 'Connors State College', 'Converse University', 'Copiah-Lincoln Community College', 'Copper Mountain College', 'Coppin State University', 'Corban University', 'Cornell College', 'Cornell University', 'Cornerstone University', 'Corning Community College', 'County College of Morris', 'Covenant College', 'Cowley County Community College', 'Creighton University', \"Crowley's Ridge College\", 'Crown College', 'Culinary Institute of America', 'Culver-Stockton College', 'Cumberland University', 'Curry College', 'Cuyahoga Community College', 'Cuyamaca College', 'Cypress College', \"D'Youville University\", 'Daemen University', 'Dakota College at Bottineau', 'Dakota State University', 'Dakota Wesleyan University', 'Dallas Baptist University', 'Dallas College-Mountain View ', 'Danville Area Community College', 'Dartmouth College', 'Davenport University', 'Davidson College', 'Davidson County Community College', 'Davis & Elkins College', 'Dawson Community College', 'Daytona State College', 'Dean College', 'Defiance College', 'Delaware County Community College', 'Delaware State University', 'Delaware Technical Community College', 'Delaware Valley University', 'Delgado Community College', 'Delta College – Michigan', 'Delta State University', 'Denison University', 'Denmark Technical College', 'DePaul University', 'DePauw University', 'Des Moines Area Community College', 'DeSales University', 'Dickinson College', 'Dickinson State University', 'Dillard University', 'Doane University', 'Dodge City Community College', 'Dominican University – Illinois', 'Dominican University – New York', 'Dominican University of California', 'Dordt University', 'Drake University', 'Drew University', 'Drexel University', 'Drury University', 'Duke University', 'Duquesne University', 'Dyersburg State Community College', 'Earlham College', 'East Carolina University', 'East Central Community College', 'East Central University', 'East Georgia State College', 'East Los Angeles College', 'East Mississippi Community College', 'East Stroudsburg University of Pennsylvania', 'East Tennessee State University', 'East Texas Baptist University', 'Eastern Arizona College', 'Eastern Connecticut State University', 'Eastern Florida State College', 'Eastern Illinois University', 'Eastern Kentucky University', 'Eastern Mennonite University', 'Eastern Michigan University', 'Eastern Nazarene College', 'Eastern New Mexico University', 'Eastern Oklahoma State College', 'Eastern Oregon University', 'Eastern University', 'Eastern Washington University', 'Eastern Wyoming College', 'Eastfield College', 'Eckerd College', 'Edgewood College', 'Edison State Community College', 'Edmonds College', 'Edward Waters University', 'El Camino College', 'Elgin Community College', 'Elizabeth City State University', 'Elizabethtown College', 'Ellsworth Community College', 'Elmhurst University', 'Elmira College', 'Elms College', 'Elon University', 'Embry-Riddle Aeronautical University', 'Embry-Riddle Aeronautical University (Arizona Campus)', 'Emerson College', 'Emmanuel College – Georgia', 'Emmanuel College – Massachusetts', 'Emory & Henry College', 'Emory University', 'Emporia State University', 'Endicott College', 'Enterprise State Community College', 'Erskine College', 'Essex County College', 'Eureka College', 'Evangel University', 'Everett Community College', 'Evergreen State College', 'Fairfield University', 'Fairleigh Dickinson University', 'Fairleigh Dickinson University – College at Florham', 'Fairmont State University', 'Faulkner University', 'Fayetteville State University', 'Fayetteville Technical Community College', 'Feather River College', 'Felician University', 'Ferris State University', 'Ferrum College', 'Finger Lakes Community College', 'Finlandia University', 'Fisher College', 'Fisk University', 'Fitchburg State University', 'Flagler College – St. Augustine', 'Florida A&M University', 'Florida Atlantic University', 'Florida College', 'Florida Gulf Coast University', 'Florida International University', 'Florida Memorial University', 'Florida Southern College', 'Florida SouthWestern State College', 'Florida State College at Jacksonville', 'Florida State University', 'Fontbonne University', 'Fordham University', 'Fort Berthold Community College', 'Fort Hays State University', 'Fort Lewis College', 'Fort Scott Community College', 'Fort Valley State University', 'Framingham State University', 'Francis Marion University', 'Franciscan University of Steubenville', 'Frank Phillips College', 'Franklin & Marshall College', 'Franklin College', 'Franklin Pierce University', 'Frederick Community College', 'Freed-Hardeman University', 'Fresno City College', 'Fresno Pacific University', 'Friends University', 'Frostburg State University', 'Furman University', 'Gadsden State Community College', 'Gallaudet University', 'Gannon University', 'Garden City Community College', 'Gardner-Webb University', 'Garrett College', 'Gaston College', 'Gateway Community College – Connecticut', 'Geneva College', 'George Fox University', 'George Mason University', 'George Washington University', 'Georgetown College', 'Georgetown University', 'Georgia College & State University', 'Georgia Highlands College', 'Georgia Southern University', 'Georgia Southwestern State University', 'Georgia State University', 'Georgia Tech', 'Georgian Court University', 'Gettysburg College', 'Glen Oaks Community College', 'Glendale Community College – Arizona', 'Glenville State University', 'Gogebic Community College', 'Goldey-Beacom College', 'Gonzaga University', 'Gordon College', 'Gordon State College', 'Goshen College', 'Goucher College', 'Grace College', 'Graceland University', 'Grambling State University', 'Grand Canyon University', 'Grand Rapids Community College', 'Grand Valley State University', 'Grand View University', 'Grays Harbor College', 'Grayson College', 'Great Bay Community College', 'Greensboro College', 'Greenville University', 'Grinnell College', 'Grove City College', 'Guilford College', 'Guilford Technical Community College', 'Gulf Coast State College', 'Gustavus Adolphus College', 'Gwynedd Mercy University', 'Hagerstown Community College', 'Hamilton College', 'Hamline University', 'Hamline University', 'Hampden-Sydney College', 'Hampton University', 'Hannibal-LaGrange University', 'Hanover College', 'Harcum College', 'Hardin-Simmons University', 'Harding University', 'Harford Community College', 'Harper College', 'Harris-Stowe State University', 'Harrisburg Area Community College', 'Harry S Truman College', 'Hartwick College', 'Harvard University', 'Hastings College', 'Haverford College', 'Hawaii Pacific University', 'Heidelberg University', 'Henderson State University', 'Hendrix College', 'Henry Ford College', 'Hesston College', 'Hibbing Community College – A Technical & Community College', 'High Point University', 'Highland Community College – Illinois', 'Highland Community College – Kansas', 'Highline College', 'Hilbert College', 'Hill College', 'Hillsborough Community College', 'Hillsdale College', 'Hinds Community College', 'Hiram College', 'Hobart & William Smith College', 'Hocking College', 'Hofstra University', 'Holmes Community College', 'Holy Family University', 'Holy Names University', 'Holyoke Community College', 'Hood College', 'Hope College', 'Hope International University', 'Houghton University', 'Houston Christian University', 'Howard College', 'Howard Community College', 'Howard Payne University', 'Howard University', 'Huntingdon College', 'Huntington University', 'Husson University', 'Huston-Tillotson University', 'Hutchinson Community College', 'Idaho State University', 'Illinois Central College', 'Illinois College', 'Illinois Institute of Technology', 'Illinois State University', 'Illinois Valley Community College', 'Illinois Wesleyan University', 'Immaculata University', 'Independence Community College', 'Indian Hills Community College', 'Indian River State College', 'Indiana State University', 'Indiana Tech', 'Indiana University', 'Indiana University – East', 'Indiana University – Kokomo', 'Indiana University – Northwest', 'Indiana University – South Bend', 'Indiana University – Southeast', 'Indiana University of Pennsylvania', 'Indiana University-Purdue University – Indianapolis (IUPUI)', 'Indiana Wesleyan University', 'Iona University', 'Iowa Central Community College', 'Iowa Lakes Community College – Estherville Campus', 'Iowa State University', 'Iowa Western Community College', 'Itasca Community College', 'Itawamba Community College — Fulton Campus', 'Ithaca College', 'Jackson College', 'Jackson State Community College', 'Jackson State University', 'Jacksonville College', 'Jacksonville State University', 'Jacksonville University', 'James Madison University', 'Jarvis Christian University', 'Jefferson College', 'John A Logan College', 'John Brown University', 'John Carroll University', 'John Wood Community College', 'Johns Hopkins University', 'Johnson & Wales University – Providence', 'Johnson C. Smith University', 'Johnson County Community College', 'Johnson University', 'Johnston Community College', 'Joliet Junior College', 'Jones County Junior College', 'Judson University', 'Juniata College', 'Kalamazoo College', 'Kalamazoo Valley Community College', 'Kankakee Community College', 'Kansas City Kansas Community College', 'Kansas State University', 'Kansas Wesleyan University', 'Kaskaskia College', 'Kean University', 'Keene State College', 'Keiser University', 'Kellogg Community College', 'Kennesaw State University', 'Kent State University', 'Kentucky Christian University', 'Kentucky State University', 'Kentucky Wesleyan College', 'Kenyon College', 'Keuka College', 'Keystone College', 'Kilgore College', 'King University – Tennessee', \"King's College – Pennsylvania\", 'Kirkwood Community College', 'Kirtland Community College', 'Kishwaukee College', 'Knox College', 'Kutztown University of Pennsylvania', 'La Roche University', 'La Salle University', 'La Sierra University', 'Labette Community College', 'Lackawanna College', 'Lafayette College', 'LaGrange College', 'Lake Erie College', 'Lake Forest College', 'Lake Land College', 'Lake Michigan College', 'Lake Region State College', 'Lake Superior State University', 'Lakeland Community College', 'Lakeland University', 'Lamar Community College', 'Lamar State College', 'Lamar University', 'Lancaster Bible College', 'Lander University', 'Lane College', 'Lane Community College', 'Langston University', 'Lansing Community College', 'Laramie County Community College', 'Lasell University', 'Lassen Community College', 'Lawrence Technological University', 'Lawrence University', 'Lawson State Community College – Birmingham', 'Le Moyne College', 'Lebanon Valley College', 'Lee University', 'Lees-McRae College', 'Lehigh Carbon Community College', 'Lehigh University', 'LeMoyne-Owen College', 'Lenoir Community College', 'Lenoir-Rhyne University', 'Lesley University', 'Lewis & Clark College', 'Lewis & Clark Community College', 'Lewis University', 'Lewis-Clark State College', 'Liberty University', 'Life Pacific University', 'Life University', 'Limestone University', 'Lincoln Land Community College', 'Lincoln Memorial University', 'Lincoln Trail College', 'Lincoln University – Missouri', 'Lincoln University Pennsylvania', 'Lindenwood University', 'Lindenwood University', 'Lindsey Wilson College', 'Linfield University', 'Linn-Benton Community College', 'Lipscomb University', 'Little Big Horn College', 'Livingstone College', 'Lock Haven University', 'Long Island University', 'Longwood University', 'Lorain County Community College', 'Loras College', 'Los Angeles Harbor College', 'Los Angeles Southwest College', 'Los Angeles Trade – Technical College', 'Los Angeles Valley College', 'Louisburg College', 'Louisiana Christian University', 'Louisiana State University – Alexandria', 'Louisiana State University – Eunice', 'Louisiana State University – Shreveport', 'Louisiana State University (LSU)', 'Louisiana Tech University', 'Lourdes University', 'Lower Columbia College', 'Loyola Marymount University', 'Loyola University Chicago', 'Loyola University Maryland', 'Loyola University New Orleans', 'Lubbock Christian University', 'Lurleen B Wallace Community College', 'Luther College', 'Luzerne County Community College', 'Lycoming College', 'Lynn University', 'Lyon College', 'Macalester College', 'Macomb Community College', 'Madison College', 'Madonna University', 'Maine Maritime Academy', 'Malone University', 'Manchester University', 'Manhattan College', 'Manhattanville College', 'Manor College', 'Mansfield University of Pennsylvania', 'Maranatha Baptist University', 'Marian University – Indiana', 'Marian University – Wisconsin', \"Marian University's Ancilla College\", 'Marietta College', 'Marion Military Institute', 'Marist College', 'Marquette University', 'Mars Hill University', 'Marshall University', 'Marshalltown Community College', 'Martin Luther College', 'Mary Baldwin University', 'Marymount University (VA)', 'Maryville College', 'Maryville University', 'Marywood University', 'Massachusetts Bay Community College', 'Massachusetts College of Liberal Arts', 'Massachusetts Institute of Technology – MIT', 'Massasoit Community College', 'Mayville State University', 'McCook Community College', 'McDaniel College', 'McHenry County College', 'McKendree University', 'McLennan Community College', 'McMurry University', 'McNeese State University', 'McPherson College', 'Medaille University', 'Menlo College', 'Merced College', 'Mercer County Community College', 'Mercer University', 'Mercy College', 'Mercyhurst University', 'Meridian Community College', 'Merrimack College', 'Merritt College', 'Mesa Community College', 'Mesabi Range College', 'Messiah University', 'Methodist University', 'Metropolitan Community College', 'Metropolitan State University of Denver', 'Miami Dade College', 'Miami University', 'Miami University – Hamilton', 'Miami University – Middletown', 'Michigan State University', 'Michigan Technological University', 'Mid Michigan Community College', 'Mid-America Christian University', 'MidAmerica Nazarene University', 'Middle Georgia State University', 'Middle Tennessee State University', 'Middlebury College', 'Middlesex College', 'Midland College', 'Midland University', 'Midway University', 'Midwestern State University', 'Miles College', 'Miles Community College', 'Millersville University of Pennsylvania', 'Milligan University', 'Millikin University', 'Millsaps College', 'Milwaukee Area Technical College', 'Milwaukee School of Engineering', 'Mineral Area College', 'Minnesota North College – Vermilion', 'Minnesota State Community & Technical College', 'Minnesota State University – Mankato', 'Minnesota State University – Moorhead', 'Minnesota West Community & Technical College', 'Minot State University', 'MiraCosta College', 'Misericordia University', 'Mississippi College', 'Mississippi Delta Community College', 'Mississippi Gulf Coast Community College', 'Mississippi State University', 'Mississippi Valley State University', 'Missouri Baptist University', 'Missouri Southern State University', 'Missouri State University', 'Missouri State University – West Plains', 'Missouri University of Science & Technology', 'Missouri Valley College', 'Missouri Western State University', 'Mitchell College', 'Moberly Area Community College', 'Modesto Junior College', 'Molloy University', 'Monmouth College', 'Monmouth University', 'Monroe College – New Rochelle', 'Montana State University', 'Montana State University – Billings', 'Montana State University – Northern', 'Montana Tech of the University of Montana', 'Montclair State University', 'Montgomery College', 'Montgomery County Community College', 'Montreat College', 'Moorpark College', 'Moraine Valley Community College', 'Moravian University', 'Morehead State University', 'Morehouse College', 'Morgan State University', 'Morningside University', 'Morris College', 'Morton College', 'Motlow State Community College', 'Mott Community College', 'Mount Aloysius College', 'Mount Marty University', 'Mount Mercy University', 'Mount Saint Mary College – New York', 'Mount St. Joseph University', \"Mount St. Mary's University\", 'Mount Vernon Nazarene University', 'Mountain Gateway Community College', 'Mountain View College', 'Mt. Hood Community College', 'Mt. San Antonio College', 'Mt. San Jacinto College', 'Muhlenberg College', 'Multnomah University', 'Murray State College', 'Murray State University', 'Muskegon Community College', 'Muskingum University', 'Nassau Community College', 'Navarro College', 'Nazareth College', 'Nebraska Wesleyan University', 'Neosho County Community College', 'Neumann University', 'New College of Florida', 'New England College', 'New Jersey City University', 'New Jersey Institute of Technology', 'New Mexico Highlands University', 'New Mexico Junior College', 'New Mexico Military Institute', 'New Mexico State University', 'New York University', 'Newberry College', 'Newman University', 'Niagara University', 'Nicholls State University', 'Nichols College', 'Norfolk State University', 'North American University', 'North Arkansas College', 'North Carolina A&T State University', 'North Carolina Central University', 'North Carolina State University', 'North Carolina Wesleyan College', 'North Central College', 'North Central Missouri College', 'North Central University', 'North Dakota State College of Science', 'North Dakota State University', 'North Greenville University', 'North Idaho College', 'North Iowa Area Community College', 'North Lake College', 'North Park University', 'North Platte Community College', 'Northampton County Area Community College', 'Northeast Community College', 'Northeast Mississippi Community College', 'Northeastern Junior College', 'Northeastern Oklahoma A&M College', 'Northeastern State University', 'Northeastern University', 'Northern Arizona University', 'Northern Essex Community College', 'Northern Illinois University', 'Northern Kentucky University', 'Northern Michigan University', 'Northern New Mexico College', 'Northern Oklahoma College', 'Northern Oklahoma College – Enid', 'Northern State University', 'Northern Vermont University – Lyndon', 'Northern Virginia Community College', 'Northland College', 'Northland Community & Technical College', 'Northwest College – Wyoming', 'Northwest Florida State College', 'Northwest Kansas Technical College', 'Northwest Mississippi Community College', 'Northwest Missouri State University', 'Northwest Nazarene University', 'Northwest University', 'Northwestern College – Iowa', 'Northwestern Oklahoma State University', 'Northwestern State University of Louisiana', 'Northwestern University', 'Northwood University – Michigan', 'Norwich University', 'Notre Dame College', 'Nova Southeastern University', 'Oakland City University', 'Oakland Community College', 'Oakland University', 'Oakton College', 'Oberlin College', 'Occidental College', 'Ocean County College', 'Odessa College', 'Oglethorpe University', 'Ohio Christian University', 'Ohio Dominican University', 'Ohio Northern University', 'Ohio State University', 'Ohio University', 'Ohio Wesleyan University', 'Oklahoma Baptist University', 'Oklahoma Christian University', 'Oklahoma City University', 'Oklahoma Panhandle State University', 'Oklahoma State University', 'Oklahoma Wesleyan University', 'Old Dominion University', 'Olivet College', 'Olivet Nazarene University', 'Olney Central College', 'Olympic College', 'Onondaga Community College', 'Oral Roberts University', 'Orange Coast College', 'Oregon Institute of Technology', 'Oregon State University', 'Otero Junior College', 'Ottawa University', 'Ottawa University – Arizona', 'Otterbein University', 'Ouachita Baptist University', 'Our Lady of the Lake University', 'Owens Community College', 'Oxford College of Emory University', 'Pace University', 'Pacific Lutheran University', 'Pacific Union College', 'Pacific University', 'Palm Beach Atlantic University', 'Palm Beach State College', 'Palo Verde College', 'Palomar College', 'Panola College', 'Paris Junior College', 'Park University', 'Parkland College', 'Pasadena City College', 'Pasco-Hernando State College', 'Passaic County Community College', 'Patrick & Henry Community College', 'Paul Quinn College', 'Pearl River Community College', 'Peninsula College', 'Penn State', 'Penn State Abington', 'Penn State Altoona', 'Penn State Berks', 'Penn State Erie – The Behrend College', 'Penn State Harrisburg', 'Pennsylvania College of Technology', 'Pennsylvania Highlands Community College', 'Pensacola State College', 'Pepperdine University', 'Peru State College', 'Pfeiffer University', 'Phoenix College', 'Piedmont University', 'Pierce College at Fort Steilacoom', 'Pima Community College', 'Pitt Community College', 'Pittsburg State University', 'Plymouth State University', 'Point Loma Nazarene University', 'Point Park University', 'Point University', 'Polk State College', 'Pomona-Pitzer Colleges', 'Porterville College', 'Portland Community College — Cascade Campus', 'Portland State University', 'Post University', 'Prairie State College', 'Prairie View A & M University', 'Pratt Community College', 'Pratt Institute', 'Presbyterian College', \"Prince George's Community College\", 'Princeton University', 'Principia College', 'Providence College', 'Purdue University', 'Purdue University – Fort Wayne', 'Purdue University – Northwest', 'Queens University of Charlotte', 'Queens University of Charlotte', 'Quincy College', 'Quincy University', 'Quinnipiac University', 'Quinsigamond Community College', 'Radford University', 'Rainy River Community College', 'Ramapo College of New Jersey', 'Randolph College', 'Randolph-Macon College', 'Ranger College', 'Raritan Valley Community College', 'Redlands Community College', 'Reedley College', 'Regis College', 'Regis University', 'Reinhardt University', 'Rend Lake College', 'Rensselaer Polytechnic Institute – RPI', 'Rhode Island College', 'Rhodes College', 'Rice University', 'Richard Bland College', 'Richland College', 'Rider University', 'Ridgewater College', 'Ripon College', 'Riverland Community College', 'Rivier University', 'Roane State Community College', 'Roanoke College', 'Robert Morris University – Pennsylvania', 'Roberts Wesleyan University', 'Rochester Community & Technical College', 'Rochester Institute of Technology', 'Rochester University', 'Rock Valley College', 'Rockford University', 'Rockhurst University', 'Rocky Mountain College', 'Roger Williams University', 'Rogers State University', 'Rollins College', 'Roosevelt University', 'Rose-Hulman Institute of Technology', 'Rosemont College', 'Rowan College – South Jersey (Formerly Cumberland County College)', 'Rowan College – South Jersey (Gloucester)', 'Rowan University', 'Roxbury Community College', 'Russell Sage College', 'Rutgers University', 'Rutgers University – Newark', 'Sacramento City College', 'Sacred Heart University', 'Saddleback College', 'Saginaw Valley State University', 'Saint Anselm College', \"Saint Augustine's University\", 'Saint Elizabeth University', 'Saint Francis University', \"Saint John's University – Minnesota\", \"Saint Joseph's College of Maine\", \"Saint Joseph's University\", 'Saint Leo University', 'Saint Louis University', \"Saint Martin's University\", \"Saint Mary's College of California\", \"Saint Mary's University of Minnesota\", \"Saint Michael's College\", \"Saint Peter's University\", 'Saint Vincent College – Pennsylvania', 'Saint Xavier University', 'Salem Community College', 'Salem State University', 'Salem University', 'Salisbury University', 'Salt Lake Community College', 'Salve Regina University', 'Sam Houston State University', 'Samford University', 'San Bernardino Valley College', 'San Diego Christian College', 'San Diego City College', 'San Diego Miramar College', 'San Diego State University', 'San Francisco State University', 'San Jose City College', 'San Jose State University', 'Sandhills Community College', 'Santa Barbara City College', 'Santa Clara University', 'Santa Fe College', 'Santa Monica College', 'Santa Rosa Junior College', 'Santiago Canyon College', 'Sarah Lawrence College', 'Sauk Valley Community College', 'Savannah State University', 'Schoolcraft College', 'Schreiner University', 'Scottsdale Community College', 'Seattle Pacific University', 'Seattle University', 'Seminole State College', 'Seton Hall University', 'Seton Hill University', 'Sewanee – The University of the South', 'Seward County Community College', 'Shasta College', 'Shaw University', 'Shawnee Community College', 'Shawnee State University', 'Shelton State Community College', 'Shenandoah University', 'Shepherd University', 'Shippensburg University of Pennsylvania', 'Shoreline Community College', 'Shorter University', 'Siena College', 'Siena Heights University', 'Simmons College of Kentucky', 'Simpson College', 'Simpson University', 'Sinclair Community College', 'Skagit Valley College', 'Skidmore College', 'Skyline College – San Bruno', 'Slippery Rock University', 'Snead State Community College', 'Snow College', 'Sonoma State University', 'South Arkansas Community College', 'South Carolina State University', 'South Dakota Mines', 'South Dakota State University', 'South Georgia State College', 'South Georgia Technical College', 'South Mountain Community College', 'South Plains College', 'South Puget Sound Community College', 'South Suburban College', 'Southeast Community College – Lincoln', 'Southeast Missouri State University', 'Southeastern Community College – Iowa', 'Southeastern Illinois College', 'Southeastern Louisiana University', 'Southeastern Oklahoma State University', 'Southeastern University', 'Southern Arkansas University', 'Southern Arkansas University Tech', 'Southern Connecticut State University', 'Southern Crescent Technical College', 'Southern Illinois University Carbondale', 'Southern Illinois University Edwardsville', 'Southern Maine Community College', 'Southern Methodist University – SMU', 'Southern Nazarene University', 'Southern New Hampshire University', 'Southern Oregon University', 'Southern Union State Community College', 'Southern University & A&M College', 'Southern University at New Orleans', 'Southern University at Shreveport', 'Southern Utah University', 'Southern Virginia University', 'Southern Wesleyan University', 'Southwest Baptist University', 'Southwest Minnesota State University', 'Southwest Mississippi Community College', 'Southwest Tennessee Community College', 'Southwest Virginia Community College', 'Southwestern Assemblies of God University', 'Southwestern Christian College', 'Southwestern Christian University', 'Southwestern College – Kansas', 'Southwestern Community College', 'Southwestern Illinois College', 'Southwestern Oklahoma State University', 'Southwestern Oregon Community College', 'Southwestern University', 'Spalding University', 'Spartanburg Methodist College', 'Spokane Falls Community College', 'Spoon River College', 'Spring Arbor University', 'Spring Hill College', 'Springfield College', 'Springfield Technical Community College', 'St. Ambrose University', 'St. Andrews University', 'St. Bonaventure University', 'St. Catherine University', 'St. Clair County Community College', 'St. Cloud State University', 'St. Cloud Technical & Community College', \"St. Edward's University\", 'St. Francis College', 'St. John Fisher College', \"St. John's University – New York\", \"St. Joseph's College – Long Island\", \"St. Joseph's University – New York\", 'St. Lawrence University', 'St. Louis Community College – Forest Park', 'St. Louis Community College – Meramec', \"St. Mary's College of Maryland\", \"St. Mary's University – Texas\", 'St. Norbert College', 'St. Olaf College', 'St. Petersburg College', 'St. Thomas Aquinas College', 'St. Thomas University – Florida', 'Stanford University', 'State College of Florida – Manatee-Sarasota', 'State Fair Community College', 'Stephen F Austin State University', 'Sterling College – Kansas', 'Stetson University', 'Stevens Institute of Technology', 'Stevenson University', 'Stillman College', 'Stockton University', 'Stonehill College', 'Stonehill College', 'Suffolk County Community College', 'Suffolk University', 'Sul Ross State University', 'SUNY Adirondack Community College', 'SUNY Binghamton University', 'SUNY Broome Community College', 'SUNY Buffalo State University', 'SUNY Canton', 'SUNY Cayuga Community College', 'SUNY Clinton Community College', 'SUNY College at Brockport', 'SUNY College at Old Westbury', 'SUNY College at Oneonta', 'SUNY College of Agriculture & Technology at Cobleskill', 'SUNY Cortland', 'SUNY Dutchess Community College', 'SUNY Erie Community College', 'SUNY Farmingdale State College', 'SUNY Fredonia', 'SUNY Fulton-Montgomery Community College', 'SUNY Genesee Community College', 'SUNY Geneseo', 'SUNY Herkimer County Community College', 'SUNY Hudson Valley Community College', 'SUNY Jamestown Community College', 'SUNY Jefferson Community College', 'SUNY Maritime College', 'SUNY Mohawk Valley Community College', 'SUNY Monroe Community College', 'SUNY Morrisville', 'SUNY New Paltz', 'SUNY Niagara County Community College', 'SUNY North Country Community College', 'SUNY Orange County Community College', 'SUNY Oswego', 'SUNY Plattsburgh', 'SUNY Potsdam', 'SUNY Purchase College', 'SUNY Rockland Community College', 'SUNY Stony Brook University', 'SUNY Sullivan County Community College', 'SUNY Tompkins Cortland Community College', 'SUNY Ulster County Community College', 'SUNY University at Albany', 'SUNY University at Buffalo', 'SUNY Westchester Community College', 'Susquehanna University', 'Sussex County Community College', 'Swarthmore College', 'Syracuse University', 'Tabor College', 'Tacoma Community College', 'Talladega College', 'Tallahassee Community College', 'Tarleton State University', 'Tarleton State University', 'Taylor University', 'Temple College', 'Temple University', 'Tennessee State University', 'Tennessee Wesleyan University', 'Terra State Community College', 'Texas A&M International University', 'Texas A&M University', 'Texas A&M University – Commerce', 'Texas A&M University – Corpus Christi', 'Texas A&M University – Kingsville', 'Texas Christian University', 'Texas College', 'Texas Lutheran University', 'Texas Southern University', 'Texas State University', 'Texas Tech University', 'Texas Wesleyan University', 'Thaddeus Stevens College of Technology', 'The Citadel', 'The College of Idaho', 'The College of New Jersey', 'The College of Saint Rose', 'The College of St. Scholastica', 'The Community College of Baltimore County – Catonsville Campus', \"The Master's University\", \"The University of Virginia's College at Wise\", 'Thiel College', 'Thomas College', 'Thomas Jefferson University (Formerly Philadelphia University)', 'Thomas More University', 'Thomas University', 'Three Rivers College', 'Tiffin University', 'Tougaloo College', 'Towson University', 'Transylvania University', 'Treasure Valley Community College', 'Trevecca Nazarene University', 'Trine University', 'Trinidad State College', 'Trinity Christian College', 'Trinity College – Connecticut', 'Trinity University – Texas', 'Trinity Valley Community College', 'Triton College', 'Troy University', 'Truett-McConnell University', 'Truman State University', 'Tufts University', 'Tulane University', 'Tusculum University', 'Tuskegee University', 'Tyler Junior College', 'Umpqua Community College', 'Union College – Kentucky', 'Union College – New York', 'Union County College', 'Union University', 'United States Air Force Academy', 'United States Coast Guard Academy', 'United States Merchant Marine Academy', 'United States Military Academy', 'United States Naval Academy', 'United Tribes Technical College', 'University of Akron', 'University of Alabama', 'University of Alabama – Birmingham', 'University of Alabama – Huntsville', 'University of Alaska – Anchorage', 'University of Alaska – Fairbanks', 'University of Antelope Valley', 'University of Arizona', 'University of Arkansas', 'University of Arkansas – Cossatot', 'University of Arkansas – Fort Smith', 'University of Arkansas at Little Rock', 'University of Arkansas at Monticello', 'University of Arkansas at Pine Bluff', 'University of Bridgeport', 'University of California – Berkeley', 'University of California – Davis', 'University of California – Irvine', 'University of California – Los Angeles – UCLA', 'University of California – Merced', 'University of California – Riverside', 'University of California – San Diego', 'University of California – Santa Barbara', 'University of California – Santa Cruz', 'University of Central Arkansas', 'University of Central Florida', 'University of Central Florida', 'University of Central Missouri', 'University of Central Oklahoma', 'University of Charleston', 'University of Chicago', 'University of Cincinnati', 'University of Colorado – Boulder', 'University of Colorado – Colorado Springs', 'University of Connecticut', 'University of Connecticut – Avery Point', 'University of Dallas', 'University of Dayton', 'University of Delaware', 'University of Denver', 'University of Detroit Mercy', 'University of Dubuque', 'University of Evansville', 'University of Findlay', 'University of Florida', 'University of Georgia', 'University of Hartford', 'University of Hawaii at Hilo', 'University of Hawaii at Manoa', 'University of Health Sciences & Pharmacy in St. Louis (UHSP)', 'University of Houston', 'University of Houston – Downtown', 'University of Idaho', 'University of Illinois', 'University of Illinois at Chicago', 'University of Illinois at Springfield', 'University of Indianapolis', 'University of Iowa', 'University of Jamestown', 'University of Kansas', 'University of Kentucky', 'University of La Verne', 'University of Louisiana', 'University of Louisiana – Monroe', 'University of Louisville', 'University of Lynchburg', 'University of Maine', 'University of Maine at Farmington', 'University of Maine at Presque Isle', 'University of Mary', 'University of Mary Hardin-Baylor', 'University of Mary Washington', 'University of Maryland', 'University of Maryland – Baltimore County', 'University of Maryland Eastern Shore', 'University of Massachusetts – Amherst', 'University of Massachusetts – Boston', 'University of Massachusetts – Dartmouth', 'University of Massachusetts – Lowell', 'University of Memphis', 'University of Miami', 'University of Michigan', 'University of Michigan – Dearborn', 'University of Minnesota', 'University of Minnesota – Crookston', 'University of Minnesota – Duluth', 'University of Minnesota – Morris', 'University of Mississippi', 'University of Missouri', 'University of Missouri – Kansas City', 'University of Missouri – St. Louis', 'University of Mobile', 'University of Montana', 'University of Montana – Western', 'University of Montevallo', 'University of Mount Olive', 'University of Mount Union', 'University of Nebraska', 'University of Nebraska at Kearney', 'University of Nebraska at Omaha', 'University of Nevada – Las Vegas', 'University of Nevada – Reno', 'University of New England', 'University of New Hampshire', 'University of New Haven', 'University of New Mexico', 'University of New Orleans', 'University of North Alabama', 'University of North Carolina – Greensboro', 'University of North Carolina – Wilmington', 'University of North Carolina Asheville', 'University of North Carolina at Chapel Hill', 'University of North Carolina at Charlotte', 'University of North Carolina at Pembroke', 'University of North Dakota', 'University of North Florida', 'University of North Georgia', 'University of North Texas', 'University of North Texas at Dallas', 'University of Northern Colorado', 'University of Northern Iowa', 'University of Northwestern – St. Paul', 'University of Northwestern Ohio', 'University of Notre Dame', 'University of Oklahoma', 'University of Oregon', 'University of Pennsylvania – Penn', 'University of Pikeville', 'University of Pittsburgh', 'University of Pittsburgh – Bradford', 'University of Pittsburgh – Greensburg', 'University of Pittsburgh – Johnstown', 'University of Portland', 'University of Providence', 'University of Puget Sound', 'University of Redlands', 'University of Rhode Island', 'University of Richmond', 'University of Rio Grande', 'University of Rochester', 'University of Saint Francis – Indiana', 'University of Saint Joseph', 'University of Saint Katherine', 'University of Saint Mary', 'University of San Diego', 'University of San Francisco', 'University of Science & Arts of Oklahoma', 'University of Scranton', 'University of Sioux Falls', 'University of South Alabama', 'University of South Carolina', 'University of South Carolina – Salkehatchie', 'University of South Carolina – Upstate', 'University of South Carolina Aiken', 'University of South Dakota', 'University of South Florida', 'University of Southern California', 'University of Southern Indiana', 'University of Southern Maine', 'University of Southern Mississippi', 'University of St. Francis – Illinois', 'University of St. Thomas – Minnesota', 'University of St. Thomas – Texas', 'University of Tampa', 'University of Tennessee', 'University of Tennessee – Chattanooga', 'University of Tennessee – Martin', 'University of Texas – Arlington', 'University of Texas – Arlington', 'University of Texas – Austin', 'University of Texas – El Paso', 'University of Texas – Permian Basin', 'University of Texas – Rio Grande Valley', 'University of Texas – San Antonio', 'University of Texas at Dallas', 'University of the Cumberlands', 'University of the Incarnate Word', 'University of the Ozarks', 'University of the Pacific', 'University of the Southwest', 'University of Toledo', 'University of Tulsa', 'University of Utah', 'University of Vermont', 'University of Virginia', 'University of Washington', 'University of West Alabama', 'University of West Florida', 'University of West Georgia', 'University of Wisconsin', 'University of Wisconsin – Eau Claire', 'University of Wisconsin – Fond du Lac Campus', 'University of Wisconsin – Green Bay', 'University of Wisconsin – La Crosse', 'University of Wisconsin – Milwaukee', 'University of Wisconsin – Oshkosh', 'University of Wisconsin – Parkside', 'University of Wisconsin – Platteville', 'University of Wisconsin – River Falls', 'University of Wisconsin – Stevens Point', 'University of Wisconsin – Stout', 'University of Wisconsin – Superior', 'University of Wisconsin – Waukesha', 'University of Wisconsin – Whitewater', 'University of Wisconsin — Marinette', 'University of Wisconsin — Marshfield-Wood County Campus', 'University of Wyoming', 'Upper Iowa University', 'Ursinus College', 'Utah State University', 'Utah State University Eastern', 'Utah Tech University (Formerly Dixie State University)', 'Utah Valley University', 'Utica University', 'Valdosta State University', 'Valley City State University', 'Valparaiso University', 'Vance-Granville Community College', 'Vanderbilt University', 'Vanguard University of Southern California', 'Vassar College', 'Vermont State University – Johnson', 'Victor Valley College', 'Victoria College', 'Villanova University', 'Vincennes University', 'Virginia Commonwealth University', 'Virginia Military Institute – VMI', 'Virginia Peninsula Community College', 'Virginia State University', 'Virginia Tech', 'Virginia Union University', 'Virginia Wesleyan University', 'Viterbo University', 'Volunteer State Community College', 'Voorhees College', 'Wabash College', 'Wabash Valley College', 'Wagner College', 'Wake Forest University', 'Wake Technical Community College', 'Waldorf University', 'Walla Walla Community College', 'Wallace Community College', 'Wallace State Community College – Hanceville', 'Walsh University', 'Walters State Community College', 'Warner Pacific University', 'Warner University', 'Warren Wilson College', 'Wartburg College', 'Washburn University', 'Washington & Jefferson College', 'Washington & Lee University', 'Washington Adventist University', 'Washington College', 'Washington State University', 'Washington University in St. Louis', 'Waubonsee Community College', 'Wayland Baptist University', 'Wayne County Community College', 'Wayne State College', 'Wayne State University', 'Waynesburg University', 'Weatherford College', 'Webber International University', 'Weber State University', 'Webster University', 'Wells College', 'Wenatchee Valley College', 'Wentworth Institute of Technology', 'Wesleyan University', 'West Chester University of Pennsylvania', 'West Hills College – Coalinga', 'West Hills College – Lemoore', 'West Liberty University', 'West Los Angeles College', 'West Texas A&M University', 'West Virginia State University', 'West Virginia University', 'West Virginia University Institute of Technology', 'West Virginia University Potomac State College', 'West Virginia Wesleyan College', 'Westcliff University', 'Western Carolina University', 'Western Colorado University', 'Western Connecticut State University', 'Western Illinois University', 'Western Kentucky University', 'Western Michigan University', 'Western Nebraska Community College', 'Western New England University', 'Western New Mexico University', 'Western Oklahoma State College', 'Western Oregon University', 'Western Technical College – Wisconsin', 'Western Texas College', 'Western Washington University', 'Western Wyoming Community College', 'Westfield State University', 'Westminster College – Missouri', 'Westminster College – Pennsylvania', 'Westminster College – Utah', 'Westmont College', 'Westmont College', 'Westmoreland County Community College', 'Whatcom Community College', 'Wheaton College – Illinois', 'Wheaton College – Massachusetts', 'Wheeling University', 'Whitman College', 'Whittier College', 'Whitworth University', 'Wichita State University', 'Widener University', 'Wilberforce University', 'Wiley College', 'Wilkes University', 'Willamette University', 'William & Mary', 'William Carey University', 'William Jessup University', 'William Jewell College', 'William Paterson University of New Jersey', 'William Peace University', 'William Penn University', 'William Woods University', 'Williams Baptist University', 'Williams College', 'Williamson College of the Trades', 'Williston State College', 'Wilmington College', 'Wilmington University', 'Wilson College', 'Wingate University', 'Winona State University', 'Winston-Salem State University', 'Winthrop University', 'Wittenberg University', 'Wofford College', 'Worcester Polytechnic Institute', 'Worcester State University', 'Wright State University', 'Xavier University', 'Xavier University of Louisiana', 'Yakima Valley College', 'Yale University', 'Yavapai College', 'Yeshiva University', 'York College of Pennsylvania', 'York University', 'Young Harris College', 'Youngstown State University']\n"
          ]
        }
      ]
    },
    {
      "cell_type": "markdown",
      "source": [
        "# Part 3 - Use rapidfuzz to map the two together"
      ],
      "metadata": {
        "id": "gCDgu6triE0I"
      }
    },
    {
      "cell_type": "code",
      "source": [
        "\"\"\"\n",
        "IDEAS FOR LATER! (SINCE IT DOESN'T COMPLETELY WORK RIGHT NOW)\n",
        "\n",
        "- Grab the Division too, figure out what division each school in top 10 is in\n",
        "  - Then take the most accurate that is also best at bball (D1, then D2, etc.)\n",
        "\"\"\""
      ],
      "metadata": {
        "id": "o0YjOWP2kY8d"
      },
      "execution_count": null,
      "outputs": []
    },
    {
      "cell_type": "code",
      "source": [
        "def match_school(input_name, school_list, limit=10):\n",
        "  return rapidfuzz.process.extract(input_name, school_list, limit=limit)"
      ],
      "metadata": {
        "id": "vBD4GhTLiisL"
      },
      "execution_count": 31,
      "outputs": []
    },
    {
      "cell_type": "code",
      "source": [
        "print(match_school('Georgia', colleges))"
      ],
      "metadata": {
        "colab": {
          "base_uri": "https://localhost:8080/"
        },
        "id": "M74LUSomjC23",
        "outputId": "9453172b-0eb0-472a-f196-23d91241b85d"
      },
      "execution_count": 33,
      "outputs": [
        {
          "output_type": "stream",
          "name": "stdout",
          "text": [
            "[('Central Georgia Technical College', 90.0, 220), ('College of Coastal Georgia', 90.0, 281), ('East Georgia State College', 90.0, 399), ('Emmanuel College – Georgia', 90.0, 437), ('Georgia College & State University', 90.0, 512), ('Georgia Highlands College', 90.0, 513), ('Georgia Southern University', 90.0, 514), ('Georgia Southwestern State University', 90.0, 515), ('Georgia State University', 90.0, 516), ('Georgia Tech', 90.0, 517)]\n"
          ]
        }
      ]
    },
    {
      "cell_type": "code",
      "source": [],
      "metadata": {
        "id": "eEIQWCQojIu7"
      },
      "execution_count": null,
      "outputs": []
    }
  ]
}
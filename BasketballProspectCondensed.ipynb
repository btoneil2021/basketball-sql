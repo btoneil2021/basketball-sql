{
  "nbformat": 4,
  "nbformat_minor": 0,
  "metadata": {
    "colab": {
      "provenance": [],
      "authorship_tag": "ABX9TyNTtoY8/JltMD+3vX0KnsfK",
      "include_colab_link": true
    },
    "kernelspec": {
      "name": "python3",
      "display_name": "Python 3"
    },
    "language_info": {
      "name": "python"
    }
  },
  "cells": [
    {
      "cell_type": "markdown",
      "metadata": {
        "id": "view-in-github",
        "colab_type": "text"
      },
      "source": [
        "<a href=\"https://colab.research.google.com/github/btoneil2021/basketball-sql/blob/main/BasketballProspectCondensed.ipynb\" target=\"_parent\"><img src=\"https://colab.research.google.com/assets/colab-badge.svg\" alt=\"Open In Colab\"/></a>"
      ]
    },
    {
      "cell_type": "code",
      "execution_count": null,
      "metadata": {
        "colab": {
          "base_uri": "https://localhost:8080/"
        },
        "id": "mcygYPxdenMu",
        "outputId": "94eecfcf-b2f9-455f-8dfd-33cb8a87e668"
      },
      "outputs": [
        {
          "output_type": "stream",
          "name": "stdout",
          "text": [
            "Collecting chromedriver_autoinstaller\n",
            "  Downloading chromedriver_autoinstaller-0.6.4-py3-none-any.whl.metadata (2.1 kB)\n",
            "Requirement already satisfied: packaging>=23.1 in /usr/local/lib/python3.11/dist-packages (from chromedriver_autoinstaller) (24.2)\n",
            "Downloading chromedriver_autoinstaller-0.6.4-py3-none-any.whl (7.6 kB)\n",
            "Installing collected packages: chromedriver_autoinstaller\n",
            "Successfully installed chromedriver_autoinstaller-0.6.4\n",
            "Collecting selenium\n",
            "  Downloading selenium-4.30.0-py3-none-any.whl.metadata (7.5 kB)\n",
            "Requirement already satisfied: urllib3<3,>=1.26 in /usr/local/lib/python3.11/dist-packages (from urllib3[socks]<3,>=1.26->selenium) (2.3.0)\n",
            "Collecting trio~=0.17 (from selenium)\n",
            "  Downloading trio-0.29.0-py3-none-any.whl.metadata (8.5 kB)\n",
            "Collecting trio-websocket~=0.9 (from selenium)\n",
            "  Downloading trio_websocket-0.12.2-py3-none-any.whl.metadata (5.1 kB)\n",
            "Requirement already satisfied: certifi>=2021.10.8 in /usr/local/lib/python3.11/dist-packages (from selenium) (2025.1.31)\n",
            "Requirement already satisfied: typing_extensions~=4.9 in /usr/local/lib/python3.11/dist-packages (from selenium) (4.13.0)\n",
            "Requirement already satisfied: websocket-client~=1.8 in /usr/local/lib/python3.11/dist-packages (from selenium) (1.8.0)\n",
            "Requirement already satisfied: attrs>=23.2.0 in /usr/local/lib/python3.11/dist-packages (from trio~=0.17->selenium) (25.3.0)\n",
            "Requirement already satisfied: sortedcontainers in /usr/local/lib/python3.11/dist-packages (from trio~=0.17->selenium) (2.4.0)\n",
            "Requirement already satisfied: idna in /usr/local/lib/python3.11/dist-packages (from trio~=0.17->selenium) (3.10)\n",
            "Collecting outcome (from trio~=0.17->selenium)\n",
            "  Downloading outcome-1.3.0.post0-py2.py3-none-any.whl.metadata (2.6 kB)\n",
            "Requirement already satisfied: sniffio>=1.3.0 in /usr/local/lib/python3.11/dist-packages (from trio~=0.17->selenium) (1.3.1)\n",
            "Collecting wsproto>=0.14 (from trio-websocket~=0.9->selenium)\n",
            "  Downloading wsproto-1.2.0-py3-none-any.whl.metadata (5.6 kB)\n",
            "Requirement already satisfied: pysocks!=1.5.7,<2.0,>=1.5.6 in /usr/local/lib/python3.11/dist-packages (from urllib3[socks]<3,>=1.26->selenium) (1.7.1)\n",
            "Requirement already satisfied: h11<1,>=0.9.0 in /usr/local/lib/python3.11/dist-packages (from wsproto>=0.14->trio-websocket~=0.9->selenium) (0.14.0)\n",
            "Downloading selenium-4.30.0-py3-none-any.whl (9.4 MB)\n",
            "\u001b[2K   \u001b[90m━━━━━━━━━━━━━━━━━━━━━━━━━━━━━━━━━━━━━━━━\u001b[0m \u001b[32m9.4/9.4 MB\u001b[0m \u001b[31m36.6 MB/s\u001b[0m eta \u001b[36m0:00:00\u001b[0m\n",
            "\u001b[?25hDownloading trio-0.29.0-py3-none-any.whl (492 kB)\n",
            "\u001b[2K   \u001b[90m━━━━━━━━━━━━━━━━━━━━━━━━━━━━━━━━━━━━━━━━\u001b[0m \u001b[32m492.9/492.9 kB\u001b[0m \u001b[31m9.7 MB/s\u001b[0m eta \u001b[36m0:00:00\u001b[0m\n",
            "\u001b[?25hDownloading trio_websocket-0.12.2-py3-none-any.whl (21 kB)\n",
            "Downloading outcome-1.3.0.post0-py2.py3-none-any.whl (10 kB)\n",
            "Downloading wsproto-1.2.0-py3-none-any.whl (24 kB)\n",
            "Installing collected packages: wsproto, outcome, trio, trio-websocket, selenium\n",
            "Successfully installed outcome-1.3.0.post0 selenium-4.30.0 trio-0.29.0 trio-websocket-0.12.2 wsproto-1.2.0\n"
          ]
        },
        {
          "output_type": "execute_result",
          "data": {
            "text/plain": []
          },
          "metadata": {},
          "execution_count": 1
        }
      ],
      "source": [
        "%%shell\n",
        "pip install chromedriver_autoinstaller\n",
        "pip install selenium"
      ]
    },
    {
      "cell_type": "code",
      "source": [
        "import sys\n",
        "import chromedriver_autoinstaller\n",
        "from selenium import webdriver\n",
        "from bs4 import BeautifulSoup\n",
        "import re\n",
        "import threading\n",
        "import unicodedata"
      ],
      "metadata": {
        "id": "_jW89ZcgexrW"
      },
      "execution_count": null,
      "outputs": []
    },
    {
      "cell_type": "code",
      "source": [
        "def get_soup(url):\n",
        "  chrome_options = webdriver.ChromeOptions()\n",
        "  chrome_options.add_argument('--headless')\n",
        "  chrome_options.add_argument('--no-sandbox')\n",
        "  chrome_options.add_argument('--disable-dev-shm-usage')\n",
        "\n",
        "  driver = webdriver.Chrome(options=chrome_options)\n",
        "\n",
        "  driver.get(url)\n",
        "\n",
        "  driver.implicitly_wait(1)\n",
        "\n",
        "  soup = BeautifulSoup(driver.page_source, 'html.parser')\n",
        "\n",
        "  driver.quit()\n",
        "\n",
        "  return soup"
      ],
      "metadata": {
        "id": "T-OnlkEYezap"
      },
      "execution_count": null,
      "outputs": []
    },
    {
      "cell_type": "code",
      "source": [
        "# Grab Individual Links\n",
        "soup = get_soup('https://www.tankathon.com/mock_draft')\n",
        "\n",
        "mock_rows = soup.find('div', {'class': 'mock-rows'})\n",
        "\n",
        "player_names_unstripped = mock_rows.find_all('div', {'class': 'mock-row-name'})\n",
        "print(player_names_unstripped)\n",
        "\n",
        "player_names = []\n",
        "for div in player_names_unstripped:\n",
        "  player_names.append(div.text)\n",
        "\n",
        "print(player_names)\n",
        "\n",
        "# Make links out of all the names\n",
        "player_links = []\n",
        "\n",
        "for name in player_names:\n",
        "  # Normalize and remove accents\n",
        "  final_name = unicodedata.normalize('NFKD', name).encode('ascii', 'ignore').decode('utf-8')\n",
        "  # Lowercase, replace non-word chars/spaces with hyphens\n",
        "  final_name = re.sub(r'\\W+', '-', final_name.strip().lower())\n",
        "  final_name = final_name.strip('-')\n",
        "  player_links.append(f'https://www.tankathon.com/players/{final_name}')\n",
        "\n",
        "print(player_links)"
      ],
      "metadata": {
        "colab": {
          "base_uri": "https://localhost:8080/"
        },
        "id": "QzzYNUn4e5Ug",
        "outputId": "6a58ba8e-b639-4bdf-be38-809d03a1d10a"
      },
      "execution_count": null,
      "outputs": [
        {
          "output_type": "stream",
          "name": "stdout",
          "text": [
            "[<div class=\"mock-row-name\">Cooper Flagg</div>, <div class=\"mock-row-name\">Dylan Harper</div>, <div class=\"mock-row-name\">Ace Bailey</div>, <div class=\"mock-row-name\">V.J. Edgecombe</div>, <div class=\"mock-row-name\">Kasparas Jakucionis</div>, <div class=\"mock-row-name\">Khaman Maluach</div>, <div class=\"mock-row-name\">Tre Johnson</div>, <div class=\"mock-row-name\">Kon Knueppel</div>, <div class=\"mock-row-name\">Asa Newell</div>, <div class=\"mock-row-name\">Derik Queen</div>, <div class=\"mock-row-name\">Jeremiah Fears</div>, <div class=\"mock-row-name\">Egor Demin</div>, <div class=\"mock-row-name\">Collin Murray-Boyles</div>, <div class=\"mock-row-name\">Jase Richardson</div>, <div class=\"mock-row-name\">Liam McNeeley</div>, <div class=\"mock-row-name\">Nolan Traore</div>, <div class=\"mock-row-name\">Noa Essengue</div>, <div class=\"mock-row-name\">Ben Saraf</div>, <div class=\"mock-row-name\">Thomas Sorber</div>, <div class=\"mock-row-name\">Hugo González</div>, <div class=\"mock-row-name\">Will Riley</div>, <div class=\"mock-row-name\">Rasheer Fleming</div>, <div class=\"mock-row-name\">Danny Wolf</div>, <div class=\"mock-row-name\">Nique Clifford</div>, <div class=\"mock-row-name\">Sergio de Larrea</div>, <div class=\"mock-row-name\">Yaxel Lendeborg</div>, <div class=\"mock-row-name\">Labaron Philon</div>, <div class=\"mock-row-name\">Kam Jones</div>, <div class=\"mock-row-name\">Boogie Fland</div>, <div class=\"mock-row-name\">Alex Condon</div>, <div class=\"mock-row-name\">Johni Broome</div>, <div class=\"mock-row-name\">Joan Beringer</div>, <div class=\"mock-row-name\">JT Toppin</div>, <div class=\"mock-row-name\">Noah Penda</div>, <div class=\"mock-row-name\">Miles Byrd</div>, <div class=\"mock-row-name\">Adou Thiero</div>, <div class=\"mock-row-name\">Carter Bryant</div>, <div class=\"mock-row-name\">Bogoljub Marković</div>, <div class=\"mock-row-name\">Alex Karaban</div>, <div class=\"mock-row-name\">Ryan Kalkbrenner</div>, <div class=\"mock-row-name\">Isaiah Evans</div>, <div class=\"mock-row-name\">Ian Jackson</div>, <div class=\"mock-row-name\">Walter Clayton Jr.</div>, <div class=\"mock-row-name\">Dink Pate</div>, <div class=\"mock-row-name\">Darrion Williams</div>, <div class=\"mock-row-name\">Drake Powell</div>, <div class=\"mock-row-name\">Alex Toohey</div>, <div class=\"mock-row-name\">Rocco Zikarsky</div>, <div class=\"mock-row-name\">Michael Ruzic</div>, <div class=\"mock-row-name\">Tyrese Proctor</div>, <div class=\"mock-row-name\">Sion James</div>, <div class=\"mock-row-name\">Johann Grünloh</div>, <div class=\"mock-row-name\">Chaz Lanier</div>, <div class=\"mock-row-name\">Maxime Raynaud</div>, <div class=\"mock-row-name\">JoJo Tugler</div>, <div class=\"mock-row-name\">Cedric Coward</div>, <div class=\"mock-row-name\">Tomislav Ivisic</div>, <div class=\"mock-row-name\">Xaivian Lee</div>, <div class=\"mock-row-name\">Eric Dixon</div>]\n",
            "['Cooper Flagg', 'Dylan Harper', 'Ace Bailey', 'V.J. Edgecombe', 'Kasparas Jakucionis', 'Khaman Maluach', 'Tre Johnson', 'Kon Knueppel', 'Asa Newell', 'Derik Queen', 'Jeremiah Fears', 'Egor Demin', 'Collin Murray-Boyles', 'Jase Richardson', 'Liam McNeeley', 'Nolan Traore', 'Noa Essengue', 'Ben Saraf', 'Thomas Sorber', 'Hugo González', 'Will Riley', 'Rasheer Fleming', 'Danny Wolf', 'Nique Clifford', 'Sergio de Larrea', 'Yaxel Lendeborg', 'Labaron Philon', 'Kam Jones', 'Boogie Fland', 'Alex Condon', 'Johni Broome', 'Joan Beringer', 'JT Toppin', 'Noah Penda', 'Miles Byrd', 'Adou Thiero', 'Carter Bryant', 'Bogoljub Marković', 'Alex Karaban', 'Ryan Kalkbrenner', 'Isaiah Evans', 'Ian Jackson', 'Walter Clayton Jr.', 'Dink Pate', 'Darrion Williams', 'Drake Powell', 'Alex Toohey', 'Rocco Zikarsky', 'Michael Ruzic', 'Tyrese Proctor', 'Sion James', 'Johann Grünloh', 'Chaz Lanier', 'Maxime Raynaud', 'JoJo Tugler', 'Cedric Coward', 'Tomislav Ivisic', 'Xaivian Lee', 'Eric Dixon']\n",
            "['https://www.tankathon.com/players/cooper-flagg', 'https://www.tankathon.com/players/dylan-harper', 'https://www.tankathon.com/players/ace-bailey', 'https://www.tankathon.com/players/v-j-edgecombe', 'https://www.tankathon.com/players/kasparas-jakucionis', 'https://www.tankathon.com/players/khaman-maluach', 'https://www.tankathon.com/players/tre-johnson', 'https://www.tankathon.com/players/kon-knueppel', 'https://www.tankathon.com/players/asa-newell', 'https://www.tankathon.com/players/derik-queen', 'https://www.tankathon.com/players/jeremiah-fears', 'https://www.tankathon.com/players/egor-demin', 'https://www.tankathon.com/players/collin-murray-boyles', 'https://www.tankathon.com/players/jase-richardson', 'https://www.tankathon.com/players/liam-mcneeley', 'https://www.tankathon.com/players/nolan-traore', 'https://www.tankathon.com/players/noa-essengue', 'https://www.tankathon.com/players/ben-saraf', 'https://www.tankathon.com/players/thomas-sorber', 'https://www.tankathon.com/players/hugo-gonzalez', 'https://www.tankathon.com/players/will-riley', 'https://www.tankathon.com/players/rasheer-fleming', 'https://www.tankathon.com/players/danny-wolf', 'https://www.tankathon.com/players/nique-clifford', 'https://www.tankathon.com/players/sergio-de-larrea', 'https://www.tankathon.com/players/yaxel-lendeborg', 'https://www.tankathon.com/players/labaron-philon', 'https://www.tankathon.com/players/kam-jones', 'https://www.tankathon.com/players/boogie-fland', 'https://www.tankathon.com/players/alex-condon', 'https://www.tankathon.com/players/johni-broome', 'https://www.tankathon.com/players/joan-beringer', 'https://www.tankathon.com/players/jt-toppin', 'https://www.tankathon.com/players/noah-penda', 'https://www.tankathon.com/players/miles-byrd', 'https://www.tankathon.com/players/adou-thiero', 'https://www.tankathon.com/players/carter-bryant', 'https://www.tankathon.com/players/bogoljub-markovic', 'https://www.tankathon.com/players/alex-karaban', 'https://www.tankathon.com/players/ryan-kalkbrenner', 'https://www.tankathon.com/players/isaiah-evans', 'https://www.tankathon.com/players/ian-jackson', 'https://www.tankathon.com/players/walter-clayton-jr', 'https://www.tankathon.com/players/dink-pate', 'https://www.tankathon.com/players/darrion-williams', 'https://www.tankathon.com/players/drake-powell', 'https://www.tankathon.com/players/alex-toohey', 'https://www.tankathon.com/players/rocco-zikarsky', 'https://www.tankathon.com/players/michael-ruzic', 'https://www.tankathon.com/players/tyrese-proctor', 'https://www.tankathon.com/players/sion-james', 'https://www.tankathon.com/players/johann-grunloh', 'https://www.tankathon.com/players/chaz-lanier', 'https://www.tankathon.com/players/maxime-raynaud', 'https://www.tankathon.com/players/jojo-tugler', 'https://www.tankathon.com/players/cedric-coward', 'https://www.tankathon.com/players/tomislav-ivisic', 'https://www.tankathon.com/players/xaivian-lee', 'https://www.tankathon.com/players/eric-dixon']\n"
          ]
        }
      ]
    },
    {
      "cell_type": "code",
      "source": [
        "class PlayerInfo():\n",
        "  def __init__(self, soup):\n",
        "    self.soup = soup\n",
        "    self.player_info = PlayerInfo.get_player_info()\n",
        "\n",
        "  def grab_specific_info(self, block_type='div', class_name='None'):\n",
        "    return self.soup.find(block_type, {'class': class_name}).get_text(strip=True)\n",
        "\n",
        "  def grab_data_block(self, label_name):\n",
        "    for block in self.soup.select('.data-section .data-block'):\n",
        "        label = block.select_one('.label')\n",
        "        data = block.select_one('.data')\n",
        "        if label and data and label.get_text(strip=True) == label_name:\n",
        "            return data.get_text(strip=True)\n",
        "    return None\n",
        "\n",
        "  def grab_data_block_alt(self, label_name):\n",
        "    for block in self.soup.select('.data-section .data-block'):\n",
        "        label = block.select_one('.label')\n",
        "        data = block.select_one('.data')\n",
        "        if label and data and label.get_text(strip=True).lower() == label_name.lower():\n",
        "            # Prefer .desktop span if present\n",
        "            desktop = data.select_one('.desktop')\n",
        "            if desktop:\n",
        "                return desktop.get_text(strip=True)\n",
        "            return data.get_text(strip=True)\n",
        "    return None\n",
        "\n",
        "  def grab_stat_block(self, label_name):\n",
        "    for container in self.soup.select('.stat-row .stat-container'):\n",
        "        label = container.select_one('.stat-label')\n",
        "        data = container.select_one('.stat-data')\n",
        "        if label and data and label.get_text(strip=True) == label_name:\n",
        "            return data.get_text(strip=True)\n",
        "    return None\n",
        "\n",
        "  def grab_stat_block_alt(self, label_name):\n",
        "    for container in self.soup.select('.stat-row .stat-container'):\n",
        "        label = container.select_one('.stat-label')\n",
        "        data = container.select_one('.stat-data')\n",
        "        if label and data:\n",
        "            label_text = label.get_text(separator=' ', strip=True)\n",
        "            if label_name.lower() in label_text.lower():\n",
        "                return data.get_text(strip=True)\n",
        "    return None\n",
        "\n",
        "  def grab_mock_draft_info(self):\n",
        "    for block in self.soup.select('.data-block'):\n",
        "        label = block.select_one('.label a')\n",
        "        if label and label.text.strip() == 'Mock Draft':\n",
        "            draft_pos = block.select_one('.data a:nth-of-type(1)').text.strip()\n",
        "            projected_team = block.select_one('.data a:nth-of-type(2)').text.strip()\n",
        "            return {\n",
        "                'mock_draft_position': draft_pos,\n",
        "                'mock_draft_projected_team': projected_team\n",
        "            }\n",
        "    return None\n",
        "\n",
        "  def get_player_info():\n",
        "    info = {}\n",
        "\n",
        "    # General Info\n",
        "    info['Name'] = PlayerInfo.grab_specific_info('h1', 'page-title')\n",
        "    info['School Year'] = PlayerInfo.grab_data_block('Year')\n",
        "    info['Position'] = PlayerInfo.grab_data_block('Position')\n",
        "    info['Height'] = PlayerInfo.grab_data_block('Height')\n",
        "    info['Weight'] = PlayerInfo.grab_data_block('Weight')\n",
        "    try:\n",
        "      info['Mock Draft Position'] = PlayerInfo.grab_mock_draft_info()['mock_draft_position']\n",
        "      info['Mock Draft Projected Team'] = PlayerInfo.grab_mock_draft_info()['mock_draft_projected_team']\n",
        "    except:\n",
        "      info['Mock Draft Position'] = None\n",
        "      info['Mock Draft Projected Team'] = None\n",
        "    info['Age At Draft'] = PlayerInfo.grab_data_block('Age at Draft')\n",
        "    info['Birthday'] = PlayerInfo.grab_data_block('Birthdate')\n",
        "    info['Nation'] = PlayerInfo.grab_data_block('Nation')\n",
        "    info['Hometown'] = PlayerInfo.grab_data_block('Hometown')\n",
        "    info['High School'] = PlayerInfo.grab_data_block_alt('High School') # alt to avoid doubling\n",
        "    info['ESPN 100'] = PlayerInfo.grab_data_block('ESPN 100')\n",
        "\n",
        "\n",
        "    # 2024-2025 Per Game Averages\n",
        "    info['Games Played'] = PlayerInfo.grab_stat_block('G')\n",
        "    info['Minutes Per Game'] = PlayerInfo.grab_stat_block('MP')\n",
        "    info['FGM to FGA'] = PlayerInfo.grab_stat_block('FGM-FGA')\n",
        "    info['FG Percentage'] = PlayerInfo.grab_stat_block('FG%')\n",
        "    info['3PM to 3PA'] = PlayerInfo.grab_stat_block('3PM-3PA')\n",
        "    info['3P Percentage'] = PlayerInfo.grab_stat_block('3P%')\n",
        "    info['FT to FGA'] = PlayerInfo.grab_stat_block('FTM-FTA')\n",
        "    info['FT Percentage'] = PlayerInfo.grab_stat_block('FT%')\n",
        "    info['Rebounds'] = PlayerInfo.grab_stat_block('REB')\n",
        "    info['Assists'] = PlayerInfo.grab_stat_block('AST')\n",
        "    info['Blocks'] = PlayerInfo.grab_stat_block('BLK')\n",
        "    info['Steals'] = PlayerInfo.grab_stat_block('STL')\n",
        "    info['Turnovers'] = PlayerInfo.grab_stat_block('TO')\n",
        "    info['Fouls'] = PlayerInfo.grab_stat_block('PF')\n",
        "    info['Points Per Game'] = PlayerInfo.grab_stat_block('PTS')\n",
        "\n",
        "\n",
        "    # Advanced Stats\n",
        "    info['True Shooting Percentage'] = PlayerInfo.grab_stat_block_alt('True Shooting %')\n",
        "    info['Effective FG%'] = PlayerInfo.grab_stat_block_alt('Effective FG%')\n",
        "    info['3PA Rate'] = PlayerInfo.grab_stat_block_alt('3PA Rate')\n",
        "    info['Free Throw Rate'] = PlayerInfo.grab_stat_block_alt('FTA Rate')\n",
        "    info['Projected NBA 3P%'] = PlayerInfo.grab_stat_block_alt('Proj NBA 3P%')\n",
        "    info['Usage %'] = PlayerInfo.grab_stat_block('USG%')\n",
        "    info['Assits to Usage'] = PlayerInfo.grab_stat_block('AST/USG')\n",
        "    info['Assists to Turnovers'] = PlayerInfo.grab_stat_block('AST/TO')\n",
        "\n",
        "    return info"
      ],
      "metadata": {
        "id": "GjbJ0oMre6xM"
      },
      "execution_count": null,
      "outputs": []
    },
    {
      "cell_type": "code",
      "source": [
        "player_info = PlayerInfo(get_soup(player_links[0]))\n",
        "print(player_info.player_info['Name'])"
      ],
      "metadata": {
        "colab": {
          "base_uri": "https://localhost:8080/",
          "height": 304
        },
        "id": "OtATvU0MgZFl",
        "outputId": "5261a929-536d-454b-e985-c658ea29ce00"
      },
      "execution_count": null,
      "outputs": [
        {
          "output_type": "error",
          "ename": "AttributeError",
          "evalue": "'str' object has no attribute 'soup'",
          "traceback": [
            "\u001b[0;31m---------------------------------------------------------------------------\u001b[0m",
            "\u001b[0;31mAttributeError\u001b[0m                            Traceback (most recent call last)",
            "\u001b[0;32m<ipython-input-17-132f66c14a19>\u001b[0m in \u001b[0;36m<cell line: 0>\u001b[0;34m()\u001b[0m\n\u001b[0;32m----> 1\u001b[0;31m \u001b[0mplayer_info\u001b[0m \u001b[0;34m=\u001b[0m \u001b[0mPlayerInfo\u001b[0m\u001b[0;34m(\u001b[0m\u001b[0mget_soup\u001b[0m\u001b[0;34m(\u001b[0m\u001b[0mplayer_links\u001b[0m\u001b[0;34m[\u001b[0m\u001b[0;36m0\u001b[0m\u001b[0;34m]\u001b[0m\u001b[0;34m)\u001b[0m\u001b[0;34m)\u001b[0m\u001b[0;34m\u001b[0m\u001b[0;34m\u001b[0m\u001b[0m\n\u001b[0m\u001b[1;32m      2\u001b[0m \u001b[0mprint\u001b[0m\u001b[0;34m(\u001b[0m\u001b[0mplayer_info\u001b[0m\u001b[0;34m.\u001b[0m\u001b[0mplayer_info\u001b[0m\u001b[0;34m[\u001b[0m\u001b[0;34m'Name'\u001b[0m\u001b[0;34m]\u001b[0m\u001b[0;34m)\u001b[0m\u001b[0;34m\u001b[0m\u001b[0;34m\u001b[0m\u001b[0m\n",
            "\u001b[0;32m<ipython-input-16-fc82922cbf12>\u001b[0m in \u001b[0;36m__init__\u001b[0;34m(self, soup)\u001b[0m\n\u001b[1;32m      2\u001b[0m   \u001b[0;32mdef\u001b[0m \u001b[0m__init__\u001b[0m\u001b[0;34m(\u001b[0m\u001b[0mself\u001b[0m\u001b[0;34m,\u001b[0m \u001b[0msoup\u001b[0m\u001b[0;34m)\u001b[0m\u001b[0;34m:\u001b[0m\u001b[0;34m\u001b[0m\u001b[0;34m\u001b[0m\u001b[0m\n\u001b[1;32m      3\u001b[0m     \u001b[0mself\u001b[0m\u001b[0;34m.\u001b[0m\u001b[0msoup\u001b[0m \u001b[0;34m=\u001b[0m \u001b[0msoup\u001b[0m\u001b[0;34m\u001b[0m\u001b[0;34m\u001b[0m\u001b[0m\n\u001b[0;32m----> 4\u001b[0;31m     \u001b[0mself\u001b[0m\u001b[0;34m.\u001b[0m\u001b[0mplayer_info\u001b[0m \u001b[0;34m=\u001b[0m \u001b[0mPlayerInfo\u001b[0m\u001b[0;34m.\u001b[0m\u001b[0mget_player_info\u001b[0m\u001b[0;34m(\u001b[0m\u001b[0;34m)\u001b[0m\u001b[0;34m\u001b[0m\u001b[0;34m\u001b[0m\u001b[0m\n\u001b[0m\u001b[1;32m      5\u001b[0m \u001b[0;34m\u001b[0m\u001b[0m\n\u001b[1;32m      6\u001b[0m   \u001b[0;32mdef\u001b[0m \u001b[0mgrab_specific_info\u001b[0m\u001b[0;34m(\u001b[0m\u001b[0mself\u001b[0m\u001b[0;34m,\u001b[0m \u001b[0mblock_type\u001b[0m\u001b[0;34m=\u001b[0m\u001b[0;34m'div'\u001b[0m\u001b[0;34m,\u001b[0m \u001b[0mclass_name\u001b[0m\u001b[0;34m=\u001b[0m\u001b[0;34m'None'\u001b[0m\u001b[0;34m)\u001b[0m\u001b[0;34m:\u001b[0m\u001b[0;34m\u001b[0m\u001b[0;34m\u001b[0m\u001b[0m\n",
            "\u001b[0;32m<ipython-input-16-fc82922cbf12>\u001b[0m in \u001b[0;36mget_player_info\u001b[0;34m()\u001b[0m\n\u001b[1;32m     61\u001b[0m \u001b[0;34m\u001b[0m\u001b[0m\n\u001b[1;32m     62\u001b[0m     \u001b[0;31m# General Info\u001b[0m\u001b[0;34m\u001b[0m\u001b[0;34m\u001b[0m\u001b[0m\n\u001b[0;32m---> 63\u001b[0;31m     \u001b[0minfo\u001b[0m\u001b[0;34m[\u001b[0m\u001b[0;34m'Name'\u001b[0m\u001b[0;34m]\u001b[0m \u001b[0;34m=\u001b[0m \u001b[0mPlayerInfo\u001b[0m\u001b[0;34m.\u001b[0m\u001b[0mgrab_specific_info\u001b[0m\u001b[0;34m(\u001b[0m\u001b[0;34m'h1'\u001b[0m\u001b[0;34m,\u001b[0m \u001b[0;34m'page-title'\u001b[0m\u001b[0;34m)\u001b[0m\u001b[0;34m\u001b[0m\u001b[0;34m\u001b[0m\u001b[0m\n\u001b[0m\u001b[1;32m     64\u001b[0m     \u001b[0minfo\u001b[0m\u001b[0;34m[\u001b[0m\u001b[0;34m'School Year'\u001b[0m\u001b[0;34m]\u001b[0m \u001b[0;34m=\u001b[0m \u001b[0mPlayerInfo\u001b[0m\u001b[0;34m.\u001b[0m\u001b[0mgrab_data_block\u001b[0m\u001b[0;34m(\u001b[0m\u001b[0;34m'Year'\u001b[0m\u001b[0;34m)\u001b[0m\u001b[0;34m\u001b[0m\u001b[0;34m\u001b[0m\u001b[0m\n\u001b[1;32m     65\u001b[0m     \u001b[0minfo\u001b[0m\u001b[0;34m[\u001b[0m\u001b[0;34m'Position'\u001b[0m\u001b[0;34m]\u001b[0m \u001b[0;34m=\u001b[0m \u001b[0mPlayerInfo\u001b[0m\u001b[0;34m.\u001b[0m\u001b[0mgrab_data_block\u001b[0m\u001b[0;34m(\u001b[0m\u001b[0;34m'Position'\u001b[0m\u001b[0;34m)\u001b[0m\u001b[0;34m\u001b[0m\u001b[0;34m\u001b[0m\u001b[0m\n",
            "\u001b[0;32m<ipython-input-16-fc82922cbf12>\u001b[0m in \u001b[0;36mgrab_specific_info\u001b[0;34m(self, block_type, class_name)\u001b[0m\n\u001b[1;32m      5\u001b[0m \u001b[0;34m\u001b[0m\u001b[0m\n\u001b[1;32m      6\u001b[0m   \u001b[0;32mdef\u001b[0m \u001b[0mgrab_specific_info\u001b[0m\u001b[0;34m(\u001b[0m\u001b[0mself\u001b[0m\u001b[0;34m,\u001b[0m \u001b[0mblock_type\u001b[0m\u001b[0;34m=\u001b[0m\u001b[0;34m'div'\u001b[0m\u001b[0;34m,\u001b[0m \u001b[0mclass_name\u001b[0m\u001b[0;34m=\u001b[0m\u001b[0;34m'None'\u001b[0m\u001b[0;34m)\u001b[0m\u001b[0;34m:\u001b[0m\u001b[0;34m\u001b[0m\u001b[0;34m\u001b[0m\u001b[0m\n\u001b[0;32m----> 7\u001b[0;31m     \u001b[0;32mreturn\u001b[0m \u001b[0mself\u001b[0m\u001b[0;34m.\u001b[0m\u001b[0msoup\u001b[0m\u001b[0;34m.\u001b[0m\u001b[0mfind\u001b[0m\u001b[0;34m(\u001b[0m\u001b[0mblock_type\u001b[0m\u001b[0;34m,\u001b[0m \u001b[0;34m{\u001b[0m\u001b[0;34m'class'\u001b[0m\u001b[0;34m:\u001b[0m \u001b[0mclass_name\u001b[0m\u001b[0;34m}\u001b[0m\u001b[0;34m)\u001b[0m\u001b[0;34m.\u001b[0m\u001b[0mget_text\u001b[0m\u001b[0;34m(\u001b[0m\u001b[0mstrip\u001b[0m\u001b[0;34m=\u001b[0m\u001b[0;32mTrue\u001b[0m\u001b[0;34m)\u001b[0m\u001b[0;34m\u001b[0m\u001b[0;34m\u001b[0m\u001b[0m\n\u001b[0m\u001b[1;32m      8\u001b[0m \u001b[0;34m\u001b[0m\u001b[0m\n\u001b[1;32m      9\u001b[0m   \u001b[0;32mdef\u001b[0m \u001b[0mgrab_data_block\u001b[0m\u001b[0;34m(\u001b[0m\u001b[0mself\u001b[0m\u001b[0;34m,\u001b[0m \u001b[0mlabel_name\u001b[0m\u001b[0;34m)\u001b[0m\u001b[0;34m:\u001b[0m\u001b[0;34m\u001b[0m\u001b[0;34m\u001b[0m\u001b[0m\n",
            "\u001b[0;31mAttributeError\u001b[0m: 'str' object has no attribute 'soup'"
          ]
        }
      ]
    },
    {
      "cell_type": "code",
      "source": [
        "print(player_info.player_info['Age At Draft'])"
      ],
      "metadata": {
        "colab": {
          "base_uri": "https://localhost:8080/"
        },
        "id": "DhTUpoFfgxdX",
        "outputId": "71226b20-7689-4286-e227-107f56d2f90c"
      },
      "execution_count": null,
      "outputs": [
        {
          "output_type": "stream",
          "name": "stdout",
          "text": [
            "None\n"
          ]
        }
      ]
    },
    {
      "cell_type": "code",
      "source": [],
      "metadata": {
        "id": "4CpmJVrLh_20"
      },
      "execution_count": null,
      "outputs": []
    }
  ]
}
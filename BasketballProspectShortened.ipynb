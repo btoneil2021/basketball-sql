{
  "nbformat": 4,
  "nbformat_minor": 0,
  "metadata": {
    "colab": {
      "provenance": [],
      "authorship_tag": "ABX9TyOoap/UjM1zCyeQjAXT8ark",
      "include_colab_link": true
    },
    "kernelspec": {
      "name": "python3",
      "display_name": "Python 3"
    },
    "language_info": {
      "name": "python"
    }
  },
  "cells": [
    {
      "cell_type": "markdown",
      "metadata": {
        "id": "view-in-github",
        "colab_type": "text"
      },
      "source": [
        "<a href=\"https://colab.research.google.com/github/btoneil2021/basketball-sql/blob/main/BasketballProspectShortened.ipynb\" target=\"_parent\"><img src=\"https://colab.research.google.com/assets/colab-badge.svg\" alt=\"Open In Colab\"/></a>"
      ]
    },
    {
      "cell_type": "code",
      "execution_count": 1,
      "metadata": {
        "colab": {
          "base_uri": "https://localhost:8080/"
        },
        "id": "Q35u16fij_fY",
        "outputId": "e1b9904b-dd8c-4bb1-ac98-7a4f4bd94e9d"
      },
      "outputs": [
        {
          "output_type": "stream",
          "name": "stdout",
          "text": [
            "Collecting chromedriver_autoinstaller\n",
            "  Downloading chromedriver_autoinstaller-0.6.4-py3-none-any.whl.metadata (2.1 kB)\n",
            "Requirement already satisfied: packaging>=23.1 in /usr/local/lib/python3.11/dist-packages (from chromedriver_autoinstaller) (24.2)\n",
            "Downloading chromedriver_autoinstaller-0.6.4-py3-none-any.whl (7.6 kB)\n",
            "Installing collected packages: chromedriver_autoinstaller\n",
            "Successfully installed chromedriver_autoinstaller-0.6.4\n",
            "Collecting selenium\n",
            "  Downloading selenium-4.32.0-py3-none-any.whl.metadata (7.5 kB)\n",
            "Requirement already satisfied: urllib3<3,>=1.26 in /usr/local/lib/python3.11/dist-packages (from urllib3[socks]<3,>=1.26->selenium) (2.4.0)\n",
            "Collecting trio~=0.17 (from selenium)\n",
            "  Downloading trio-0.30.0-py3-none-any.whl.metadata (8.5 kB)\n",
            "Collecting trio-websocket~=0.9 (from selenium)\n",
            "  Downloading trio_websocket-0.12.2-py3-none-any.whl.metadata (5.1 kB)\n",
            "Requirement already satisfied: certifi>=2021.10.8 in /usr/local/lib/python3.11/dist-packages (from selenium) (2025.4.26)\n",
            "Requirement already satisfied: typing_extensions~=4.9 in /usr/local/lib/python3.11/dist-packages (from selenium) (4.13.2)\n",
            "Requirement already satisfied: websocket-client~=1.8 in /usr/local/lib/python3.11/dist-packages (from selenium) (1.8.0)\n",
            "Requirement already satisfied: attrs>=23.2.0 in /usr/local/lib/python3.11/dist-packages (from trio~=0.17->selenium) (25.3.0)\n",
            "Requirement already satisfied: sortedcontainers in /usr/local/lib/python3.11/dist-packages (from trio~=0.17->selenium) (2.4.0)\n",
            "Requirement already satisfied: idna in /usr/local/lib/python3.11/dist-packages (from trio~=0.17->selenium) (3.10)\n",
            "Collecting outcome (from trio~=0.17->selenium)\n",
            "  Downloading outcome-1.3.0.post0-py2.py3-none-any.whl.metadata (2.6 kB)\n",
            "Requirement already satisfied: sniffio>=1.3.0 in /usr/local/lib/python3.11/dist-packages (from trio~=0.17->selenium) (1.3.1)\n",
            "Collecting wsproto>=0.14 (from trio-websocket~=0.9->selenium)\n",
            "  Downloading wsproto-1.2.0-py3-none-any.whl.metadata (5.6 kB)\n",
            "Requirement already satisfied: pysocks!=1.5.7,<2.0,>=1.5.6 in /usr/local/lib/python3.11/dist-packages (from urllib3[socks]<3,>=1.26->selenium) (1.7.1)\n",
            "Requirement already satisfied: h11<1,>=0.9.0 in /usr/local/lib/python3.11/dist-packages (from wsproto>=0.14->trio-websocket~=0.9->selenium) (0.16.0)\n",
            "Downloading selenium-4.32.0-py3-none-any.whl (9.4 MB)\n",
            "\u001b[2K   \u001b[90m━━━━━━━━━━━━━━━━━━━━━━━━━━━━━━━━━━━━━━━━\u001b[0m \u001b[32m9.4/9.4 MB\u001b[0m \u001b[31m36.8 MB/s\u001b[0m eta \u001b[36m0:00:00\u001b[0m\n",
            "\u001b[?25hDownloading trio-0.30.0-py3-none-any.whl (499 kB)\n",
            "\u001b[2K   \u001b[90m━━━━━━━━━━━━━━━━━━━━━━━━━━━━━━━━━━━━━━━━\u001b[0m \u001b[32m499.2/499.2 kB\u001b[0m \u001b[31m21.7 MB/s\u001b[0m eta \u001b[36m0:00:00\u001b[0m\n",
            "\u001b[?25hDownloading trio_websocket-0.12.2-py3-none-any.whl (21 kB)\n",
            "Downloading outcome-1.3.0.post0-py2.py3-none-any.whl (10 kB)\n",
            "Downloading wsproto-1.2.0-py3-none-any.whl (24 kB)\n",
            "Installing collected packages: wsproto, outcome, trio, trio-websocket, selenium\n",
            "Successfully installed outcome-1.3.0.post0 selenium-4.32.0 trio-0.30.0 trio-websocket-0.12.2 wsproto-1.2.0\n",
            "Collecting rapidfuzz\n",
            "  Downloading rapidfuzz-3.13.0-cp311-cp311-manylinux_2_17_x86_64.manylinux2014_x86_64.whl.metadata (12 kB)\n",
            "Downloading rapidfuzz-3.13.0-cp311-cp311-manylinux_2_17_x86_64.manylinux2014_x86_64.whl (3.1 MB)\n",
            "\u001b[2K   \u001b[90m━━━━━━━━━━━━━━━━━━━━━━━━━━━━━━━━━━━━━━━━\u001b[0m \u001b[32m3.1/3.1 MB\u001b[0m \u001b[31m25.5 MB/s\u001b[0m eta \u001b[36m0:00:00\u001b[0m\n",
            "\u001b[?25hInstalling collected packages: rapidfuzz\n",
            "Successfully installed rapidfuzz-3.13.0\n"
          ]
        },
        {
          "output_type": "execute_result",
          "data": {
            "text/plain": []
          },
          "metadata": {},
          "execution_count": 1
        }
      ],
      "source": [
        "%%shell\n",
        "pip install chromedriver_autoinstaller\n",
        "pip install selenium\n",
        "pip install rapidfuzz"
      ]
    },
    {
      "cell_type": "code",
      "source": [
        "import sys\n",
        "import chromedriver_autoinstaller\n",
        "from selenium import webdriver\n",
        "from bs4 import BeautifulSoup\n",
        "import re\n",
        "import threading\n",
        "import unicodedata\n",
        "import rapidfuzz"
      ],
      "metadata": {
        "id": "rQaDMmcskUDj"
      },
      "execution_count": 2,
      "outputs": []
    },
    {
      "cell_type": "code",
      "source": [
        "# I eventually want a more efficient way of grabbing soup, but for now we chill\n",
        "def get_soup(url):\n",
        "  chrome_options = webdriver.ChromeOptions()\n",
        "  chrome_options.add_argument('--headless')\n",
        "  chrome_options.add_argument('--no-sandbox')\n",
        "  chrome_options.add_argument('--disable-dev-shm-usage')\n",
        "\n",
        "  driver = webdriver.Chrome(options=chrome_options)\n",
        "\n",
        "  driver.get(url)\n",
        "\n",
        "  driver.implicitly_wait(1)\n",
        "\n",
        "  soup = BeautifulSoup(driver.page_source, 'html.parser')\n",
        "\n",
        "  driver.quit()\n",
        "\n",
        "  return soup"
      ],
      "metadata": {
        "id": "AytcZhgLkX5S"
      },
      "execution_count": 3,
      "outputs": []
    },
    {
      "cell_type": "code",
      "source": [
        "soup = get_soup('https://www.tankathon.com/mock_draft')\n",
        "\n",
        "mock_rows = soup.find('div', {'class': 'mock-rows'})\n",
        "\n",
        "# Test example, grabbing all names\n",
        "player_names_unstripped = mock_rows.find_all('div', {'class': 'mock-row-name'})\n",
        "print(player_names_unstripped)\n",
        "\n",
        "player_names = []\n",
        "for div in player_names_unstripped:\n",
        "  player_names.append(div.text)\n",
        "\n",
        "print(player_names)"
      ],
      "metadata": {
        "colab": {
          "base_uri": "https://localhost:8080/"
        },
        "id": "j9w7WJl_kvLT",
        "outputId": "68ad1d37-e9ff-4e2c-9039-9e8e85afdd8e"
      },
      "execution_count": 5,
      "outputs": [
        {
          "output_type": "stream",
          "name": "stdout",
          "text": [
            "[<div class=\"mock-row-name\">Cooper Flagg</div>, <div class=\"mock-row-name\">Dylan Harper</div>, <div class=\"mock-row-name\">Ace Bailey</div>, <div class=\"mock-row-name\">V.J. Edgecombe</div>, <div class=\"mock-row-name\">Tre Johnson</div>, <div class=\"mock-row-name\">Kon Knueppel</div>, <div class=\"mock-row-name\">Khaman Maluach</div>, <div class=\"mock-row-name\">Jeremiah Fears</div>, <div class=\"mock-row-name\">Derik Queen</div>, <div class=\"mock-row-name\">Asa Newell</div>, <div class=\"mock-row-name\">Kasparas Jakucionis</div>, <div class=\"mock-row-name\">Jase Richardson</div>, <div class=\"mock-row-name\">Collin Murray-Boyles</div>, <div class=\"mock-row-name\">Liam McNeeley</div>, <div class=\"mock-row-name\">Egor Demin</div>, <div class=\"mock-row-name\">Noa Essengue</div>, <div class=\"mock-row-name\">Nolan Traore</div>, <div class=\"mock-row-name\">Thomas Sorber</div>, <div class=\"mock-row-name\">Joan Beringer</div>, <div class=\"mock-row-name\">Rasheer Fleming</div>, <div class=\"mock-row-name\">Ben Saraf</div>, <div class=\"mock-row-name\">Danny Wolf</div>, <div class=\"mock-row-name\">Will Riley</div>, <div class=\"mock-row-name\">Nique Clifford</div>, <div class=\"mock-row-name\">Walter Clayton Jr.</div>, <div class=\"mock-row-name\">Carter Bryant</div>, <div class=\"mock-row-name\">Yaxel Lendeborg</div>, <div class=\"mock-row-name\">Labaron Philon</div>, <div class=\"mock-row-name\">Kam Jones</div>, <div class=\"mock-row-name\">Alex Condon</div>, <div class=\"mock-row-name\">Johni Broome</div>, <div class=\"mock-row-name\">Noah Penda</div>, <div class=\"mock-row-name\">Boogie Fland</div>, <div class=\"mock-row-name\">Hugo González</div>, <div class=\"mock-row-name\">Ryan Kalkbrenner</div>, <div class=\"mock-row-name\">Bogoljub Marković</div>, <div class=\"mock-row-name\">Adou Thiero</div>, <div class=\"mock-row-name\">Chaz Lanier</div>, <div class=\"mock-row-name\">Tahaad Pettiford</div>, <div class=\"mock-row-name\">Isaiah Evans</div>, <div class=\"mock-row-name\">Miles Byrd</div>, <div class=\"mock-row-name\">Milos Uzan</div>, <div class=\"mock-row-name\">Maxime Raynaud</div>, <div class=\"mock-row-name\">Alex Toohey</div>, <div class=\"mock-row-name\">Rocco Zikarsky</div>, <div class=\"mock-row-name\">Drake Powell</div>, <div class=\"mock-row-name\">Darrion Williams</div>, <div class=\"mock-row-name\">Sion James</div>, <div class=\"mock-row-name\">Dink Pate</div>, <div class=\"mock-row-name\">Michael Ruzic</div>, <div class=\"mock-row-name\">Tyrese Proctor</div>, <div class=\"mock-row-name\">Eric Dixon</div>, <div class=\"mock-row-name\">Hansen Yang</div>, <div class=\"mock-row-name\">Koby Brea</div>, <div class=\"mock-row-name\">JoJo Tugler</div>, <div class=\"mock-row-name\">John Tonje</div>, <div class=\"mock-row-name\">Alijah Martin</div>, <div class=\"mock-row-name\">Xaivian Lee</div>, <div class=\"mock-row-name\">Hunter Sallis</div>]\n",
            "['Cooper Flagg', 'Dylan Harper', 'Ace Bailey', 'V.J. Edgecombe', 'Tre Johnson', 'Kon Knueppel', 'Khaman Maluach', 'Jeremiah Fears', 'Derik Queen', 'Asa Newell', 'Kasparas Jakucionis', 'Jase Richardson', 'Collin Murray-Boyles', 'Liam McNeeley', 'Egor Demin', 'Noa Essengue', 'Nolan Traore', 'Thomas Sorber', 'Joan Beringer', 'Rasheer Fleming', 'Ben Saraf', 'Danny Wolf', 'Will Riley', 'Nique Clifford', 'Walter Clayton Jr.', 'Carter Bryant', 'Yaxel Lendeborg', 'Labaron Philon', 'Kam Jones', 'Alex Condon', 'Johni Broome', 'Noah Penda', 'Boogie Fland', 'Hugo González', 'Ryan Kalkbrenner', 'Bogoljub Marković', 'Adou Thiero', 'Chaz Lanier', 'Tahaad Pettiford', 'Isaiah Evans', 'Miles Byrd', 'Milos Uzan', 'Maxime Raynaud', 'Alex Toohey', 'Rocco Zikarsky', 'Drake Powell', 'Darrion Williams', 'Sion James', 'Dink Pate', 'Michael Ruzic', 'Tyrese Proctor', 'Eric Dixon', 'Hansen Yang', 'Koby Brea', 'JoJo Tugler', 'John Tonje', 'Alijah Martin', 'Xaivian Lee', 'Hunter Sallis']\n"
          ]
        }
      ]
    },
    {
      "cell_type": "code",
      "source": [
        "# Make links out of all the names\n",
        "player_links = []\n",
        "\n",
        "for name in player_names:\n",
        "  # Normalize and remove accents\n",
        "  final_name = unicodedata.normalize('NFKD', name).encode('ascii', 'ignore').decode('utf-8')\n",
        "  # Lowercase, replace non-word chars/spaces with hyphens\n",
        "  final_name = re.sub(r'\\W+', '-', final_name.strip().lower())\n",
        "  final_name = final_name.strip('-')\n",
        "  player_links.append(f'https://www.tankathon.com/players/{final_name}')\n",
        "\n",
        "print(player_links)"
      ],
      "metadata": {
        "colab": {
          "base_uri": "https://localhost:8080/"
        },
        "id": "smaEGd_sl5cJ",
        "outputId": "35f1e165-c051-435e-a04d-1717fa6257c3"
      },
      "execution_count": 7,
      "outputs": [
        {
          "output_type": "stream",
          "name": "stdout",
          "text": [
            "['https://www.tankathon.com/players/cooper-flagg', 'https://www.tankathon.com/players/dylan-harper', 'https://www.tankathon.com/players/ace-bailey', 'https://www.tankathon.com/players/v-j-edgecombe', 'https://www.tankathon.com/players/tre-johnson', 'https://www.tankathon.com/players/kon-knueppel', 'https://www.tankathon.com/players/khaman-maluach', 'https://www.tankathon.com/players/jeremiah-fears', 'https://www.tankathon.com/players/derik-queen', 'https://www.tankathon.com/players/asa-newell', 'https://www.tankathon.com/players/kasparas-jakucionis', 'https://www.tankathon.com/players/jase-richardson', 'https://www.tankathon.com/players/collin-murray-boyles', 'https://www.tankathon.com/players/liam-mcneeley', 'https://www.tankathon.com/players/egor-demin', 'https://www.tankathon.com/players/noa-essengue', 'https://www.tankathon.com/players/nolan-traore', 'https://www.tankathon.com/players/thomas-sorber', 'https://www.tankathon.com/players/joan-beringer', 'https://www.tankathon.com/players/rasheer-fleming', 'https://www.tankathon.com/players/ben-saraf', 'https://www.tankathon.com/players/danny-wolf', 'https://www.tankathon.com/players/will-riley', 'https://www.tankathon.com/players/nique-clifford', 'https://www.tankathon.com/players/walter-clayton-jr', 'https://www.tankathon.com/players/carter-bryant', 'https://www.tankathon.com/players/yaxel-lendeborg', 'https://www.tankathon.com/players/labaron-philon', 'https://www.tankathon.com/players/kam-jones', 'https://www.tankathon.com/players/alex-condon', 'https://www.tankathon.com/players/johni-broome', 'https://www.tankathon.com/players/noah-penda', 'https://www.tankathon.com/players/boogie-fland', 'https://www.tankathon.com/players/hugo-gonzalez', 'https://www.tankathon.com/players/ryan-kalkbrenner', 'https://www.tankathon.com/players/bogoljub-markovic', 'https://www.tankathon.com/players/adou-thiero', 'https://www.tankathon.com/players/chaz-lanier', 'https://www.tankathon.com/players/tahaad-pettiford', 'https://www.tankathon.com/players/isaiah-evans', 'https://www.tankathon.com/players/miles-byrd', 'https://www.tankathon.com/players/milos-uzan', 'https://www.tankathon.com/players/maxime-raynaud', 'https://www.tankathon.com/players/alex-toohey', 'https://www.tankathon.com/players/rocco-zikarsky', 'https://www.tankathon.com/players/drake-powell', 'https://www.tankathon.com/players/darrion-williams', 'https://www.tankathon.com/players/sion-james', 'https://www.tankathon.com/players/dink-pate', 'https://www.tankathon.com/players/michael-ruzic', 'https://www.tankathon.com/players/tyrese-proctor', 'https://www.tankathon.com/players/eric-dixon', 'https://www.tankathon.com/players/hansen-yang', 'https://www.tankathon.com/players/koby-brea', 'https://www.tankathon.com/players/jojo-tugler', 'https://www.tankathon.com/players/john-tonje', 'https://www.tankathon.com/players/alijah-martin', 'https://www.tankathon.com/players/xaivian-lee', 'https://www.tankathon.com/players/hunter-sallis']\n"
          ]
        }
      ]
    },
    {
      "cell_type": "code",
      "source": [
        "player_soup = get_soup(player_links[0])"
      ],
      "metadata": {
        "id": "wEekpomil7eE"
      },
      "execution_count": 8,
      "outputs": []
    },
    {
      "cell_type": "code",
      "source": [
        "# I want to try something new: Automatically scraping all data with a single function\n",
        "player_info = {}\n",
        "stat_rows = player_soup.find_all('div', {'class': 'stats'})\n",
        "for row in stat_rows:\n",
        "  try:\n",
        "    stat_container = row.find_all('div', {'class': 'stat-container'})\n",
        "    for stat in stat_container:\n",
        "      header = stat.find('div', {'class': 'stat-label'})\n",
        "      data = stat.find('div', {'class': 'stat-data'})\n",
        "      player_info[header.text] = data.text\n",
        "      print(f'{header.text}: {data.text}')\n",
        "  except AttributeError:\n",
        "    continue\n",
        "  print()"
      ],
      "metadata": {
        "colab": {
          "base_uri": "https://localhost:8080/"
        },
        "id": "VqwNsBXnlHWv",
        "outputId": "1c08f783-3c39-43f8-eefc-c6cbf8895d05"
      },
      "execution_count": 37,
      "outputs": [
        {
          "output_type": "stream",
          "name": "stdout",
          "text": [
            "G: 37\n",
            "MP: 30.7\n",
            "FGM-FGA: 6.5-13.4\n",
            "FG%: .481\n",
            "3PM-3PA: 1.4-3.6\n",
            "3P%: .385\n",
            "FTM-FTA: 4.8-5.8\n",
            "FT%: .840\n",
            "REB: 7.5\n",
            "AST: 4.2\n",
            "BLK: 1.4\n",
            "STL: 1.4\n",
            "TO: 2.1\n",
            "PF: 1.9\n",
            "PTS: 19.2\n",
            "\n",
            "G: 37\n",
            "MP: 36.0\n",
            "FGM-FGA: 7.6-15.8\n",
            "FG%: .481\n",
            "3PM-3PA: 1.6-4.3\n",
            "3P%: .385\n",
            "FTM-FTA: 5.7-6.8\n",
            "FT%: .840\n",
            "REB: 8.8\n",
            "AST: 4.9\n",
            "BLK: 1.6\n",
            "STL: 1.6\n",
            "TO: 2.5\n",
            "PF: 2.2\n",
            "PTS: 22.5\n",
            "\n",
            "True Shooting %TS%: .593\n",
            "Effective FG%EFG%: .533\n",
            "3PA Rate3PAR: .272\n",
            "FTA RateFTAR: .429\n",
            "Proj NBA 3P%NBA 3P%: .367\n",
            "USG%: 30.9\n",
            "AST/USG: 0.87\n",
            "AST/TO: 2.00\n",
            "\n",
            "PER: 30.4\n",
            "OWS/40: .180\n",
            "DWS/40: .116\n",
            "WS/40: .296\n",
            "ORTG: 126.3\n",
            "DRTG: 89.5\n",
            "OBPM: 9.7\n",
            "DBPM: 6.7\n",
            "BPM: 16.3\n",
            "\n",
            "\n"
          ]
        }
      ]
    },
    {
      "cell_type": "code",
      "source": [
        "# Same thing for the top area\n",
        "top_data_section = player_soup.find_all('div', {'class': 'data-section'})\n",
        "for section in top_data_section:\n",
        "  try:\n",
        "    block = section.find_all('div', {'class': 'data-block'})\n",
        "    for metric in block:\n",
        "      header = metric.find('div', {'class': 'label'})\n",
        "      data = metric.find('div', {'class': 'data'})\n",
        "      player_info[header.text] = data.text\n",
        "      print(f'{header.text}: {data.text}')\n",
        "  except AttributeError:\n",
        "    continue"
      ],
      "metadata": {
        "colab": {
          "base_uri": "https://localhost:8080/"
        },
        "id": "hz502_tGpvx_",
        "outputId": "29f46297-9d25-4855-90d5-af479bf35277"
      },
      "execution_count": 39,
      "outputs": [
        {
          "output_type": "stream",
          "name": "stdout",
          "text": [
            "Team: Duke\n",
            "Year: Freshman\n",
            "Position: SF/PF\n",
            "Height: 6'9\"\n",
            "Weight: 205 lbs\n",
            "Mock Draft: 1st |  UTA\n",
            "Big Board: 1st \n",
            "Age at Draft: 18.50 yrs\n",
            "Birthdate: Dec 21, 2006\n",
            "Nation:  USA\n",
            "Hometown: Newport, ME\n",
            "High School: Montverde AcademyMontverde Academy\n",
            "ESPN 100: #1 | 2024\n"
          ]
        }
      ]
    },
    {
      "cell_type": "code",
      "source": [
        "# Same for game log\n",
        "player_info['Game_List'] = {}\n",
        "top_row_info = []\n",
        "game_log = player_soup.find('div', {'class': 'game-log'})\n",
        "for index, row in enumerate(game_log.find_all('tr')):\n",
        "  if index == 0:\n",
        "    for header in row.find_all('td'):\n",
        "      top_row_info.append(header.text)\n",
        "\n",
        "  for index2, data in enumerate(row.find_all('td')):\n",
        "    if index2 == 0:\n",
        "      player_info['Game_List'][data.text] = {}\n",
        "    try:\n",
        "      player_info['Game_List'][data.text][top_row_info[index2]] = data.text\n",
        "    except KeyError:\n",
        "      continue\n",
        "\n",
        "for game in player_info['Game_List']:\n",
        "  print(game)"
      ],
      "metadata": {
        "colab": {
          "base_uri": "https://localhost:8080/"
        },
        "id": "7n2gCZIOqRf6",
        "outputId": "86b21f42-6571-44e4-f32d-10a9b872065c"
      },
      "execution_count": 58,
      "outputs": [
        {
          "output_type": "stream",
          "name": "stdout",
          "text": [
            "DATE\n",
            "Nov 411/4\n",
            "Nov 811/8\n",
            "Nov 1211/12\n",
            "Nov 1611/16\n",
            "Nov 2211/22\n",
            "Nov 2611/26\n",
            "Nov 2911/29\n",
            "Dec 412/4\n",
            "Dec 812/8\n",
            "Dec 1012/10\n",
            "Dec 1712/17\n",
            "Dec 2112/21\n",
            "Dec 3112/31\n",
            "Jan 41/4\n",
            "Jan 71/7\n",
            "Jan 111/11\n",
            "Jan 141/14\n",
            "Jan 181/18\n",
            "Jan 251/25\n",
            "Jan 271/27\n",
            "Feb 12/1\n",
            "Feb 52/5\n",
            "Feb 82/8\n",
            "Feb 122/12\n",
            "Feb 152/15\n",
            "Feb 172/17\n",
            "Feb 222/22\n",
            "Feb 252/25\n",
            "Mar 13/1\n",
            "Mar 33/3\n",
            "Mar 83/8\n",
            "CONFERENCE TOURNAMENT\n",
            "Mar 133/13\n",
            "NCAA TOURNAMENT\n",
            "Mar 213/21\n",
            "Mar 233/23\n",
            "Mar 273/27\n",
            "Mar 293/29\n",
            "Apr 54/5\n"
          ]
        }
      ]
    },
    {
      "cell_type": "code",
      "source": [],
      "metadata": {
        "id": "F9yw2WErrgto"
      },
      "execution_count": null,
      "outputs": []
    }
  ]
}
{
  "nbformat": 4,
  "nbformat_minor": 0,
  "metadata": {
    "colab": {
      "provenance": [],
      "include_colab_link": true
    },
    "kernelspec": {
      "name": "python3",
      "display_name": "Python 3"
    },
    "language_info": {
      "name": "python"
    }
  },
  "cells": [
    {
      "cell_type": "markdown",
      "metadata": {
        "id": "view-in-github",
        "colab_type": "text"
      },
      "source": [
        "<a href=\"https://colab.research.google.com/github/btoneil2021/basketball-sql/blob/main/BasketballProspect.ipynb\" target=\"_parent\"><img src=\"https://colab.research.google.com/assets/colab-badge.svg\" alt=\"Open In Colab\"/></a>"
      ]
    },
    {
      "cell_type": "code",
      "execution_count": 1,
      "metadata": {
        "colab": {
          "base_uri": "https://localhost:8080/"
        },
        "id": "J2O58N7SGp17",
        "outputId": "7f33bc41-5401-49bf-e28d-7d0509c28ce4"
      },
      "outputs": [
        {
          "output_type": "stream",
          "name": "stdout",
          "text": [
            "Collecting chromedriver_autoinstaller\n",
            "  Downloading chromedriver_autoinstaller-0.6.4-py3-none-any.whl.metadata (2.1 kB)\n",
            "Requirement already satisfied: packaging>=23.1 in /usr/local/lib/python3.11/dist-packages (from chromedriver_autoinstaller) (24.2)\n",
            "Downloading chromedriver_autoinstaller-0.6.4-py3-none-any.whl (7.6 kB)\n",
            "Installing collected packages: chromedriver_autoinstaller\n",
            "Successfully installed chromedriver_autoinstaller-0.6.4\n",
            "Collecting selenium\n",
            "  Downloading selenium-4.31.0-py3-none-any.whl.metadata (7.5 kB)\n",
            "Requirement already satisfied: urllib3<3,>=1.26 in /usr/local/lib/python3.11/dist-packages (from urllib3[socks]<3,>=1.26->selenium) (2.4.0)\n",
            "Collecting trio~=0.17 (from selenium)\n",
            "  Downloading trio-0.30.0-py3-none-any.whl.metadata (8.5 kB)\n",
            "Collecting trio-websocket~=0.9 (from selenium)\n",
            "  Downloading trio_websocket-0.12.2-py3-none-any.whl.metadata (5.1 kB)\n",
            "Requirement already satisfied: certifi>=2021.10.8 in /usr/local/lib/python3.11/dist-packages (from selenium) (2025.1.31)\n",
            "Requirement already satisfied: typing_extensions~=4.9 in /usr/local/lib/python3.11/dist-packages (from selenium) (4.13.2)\n",
            "Requirement already satisfied: websocket-client~=1.8 in /usr/local/lib/python3.11/dist-packages (from selenium) (1.8.0)\n",
            "Requirement already satisfied: attrs>=23.2.0 in /usr/local/lib/python3.11/dist-packages (from trio~=0.17->selenium) (25.3.0)\n",
            "Requirement already satisfied: sortedcontainers in /usr/local/lib/python3.11/dist-packages (from trio~=0.17->selenium) (2.4.0)\n",
            "Requirement already satisfied: idna in /usr/local/lib/python3.11/dist-packages (from trio~=0.17->selenium) (3.10)\n",
            "Collecting outcome (from trio~=0.17->selenium)\n",
            "  Downloading outcome-1.3.0.post0-py2.py3-none-any.whl.metadata (2.6 kB)\n",
            "Requirement already satisfied: sniffio>=1.3.0 in /usr/local/lib/python3.11/dist-packages (from trio~=0.17->selenium) (1.3.1)\n",
            "Collecting wsproto>=0.14 (from trio-websocket~=0.9->selenium)\n",
            "  Downloading wsproto-1.2.0-py3-none-any.whl.metadata (5.6 kB)\n",
            "Requirement already satisfied: pysocks!=1.5.7,<2.0,>=1.5.6 in /usr/local/lib/python3.11/dist-packages (from urllib3[socks]<3,>=1.26->selenium) (1.7.1)\n",
            "Requirement already satisfied: h11<1,>=0.9.0 in /usr/local/lib/python3.11/dist-packages (from wsproto>=0.14->trio-websocket~=0.9->selenium) (0.16.0)\n",
            "Downloading selenium-4.31.0-py3-none-any.whl (9.4 MB)\n",
            "\u001b[2K   \u001b[90m━━━━━━━━━━━━━━━━━━━━━━━━━━━━━━━━━━━━━━━━\u001b[0m \u001b[32m9.4/9.4 MB\u001b[0m \u001b[31m54.7 MB/s\u001b[0m eta \u001b[36m0:00:00\u001b[0m\n",
            "\u001b[?25hDownloading trio-0.30.0-py3-none-any.whl (499 kB)\n",
            "\u001b[2K   \u001b[90m━━━━━━━━━━━━━━━━━━━━━━━━━━━━━━━━━━━━━━━━\u001b[0m \u001b[32m499.2/499.2 kB\u001b[0m \u001b[31m26.7 MB/s\u001b[0m eta \u001b[36m0:00:00\u001b[0m\n",
            "\u001b[?25hDownloading trio_websocket-0.12.2-py3-none-any.whl (21 kB)\n",
            "Downloading outcome-1.3.0.post0-py2.py3-none-any.whl (10 kB)\n",
            "Downloading wsproto-1.2.0-py3-none-any.whl (24 kB)\n",
            "Installing collected packages: wsproto, outcome, trio, trio-websocket, selenium\n",
            "Successfully installed outcome-1.3.0.post0 selenium-4.31.0 trio-0.30.0 trio-websocket-0.12.2 wsproto-1.2.0\n"
          ]
        },
        {
          "output_type": "execute_result",
          "data": {
            "text/plain": []
          },
          "metadata": {},
          "execution_count": 1
        }
      ],
      "source": [
        "%%shell\n",
        "pip install chromedriver_autoinstaller\n",
        "pip install selenium"
      ]
    },
    {
      "cell_type": "code",
      "source": [
        "import sys\n",
        "import chromedriver_autoinstaller\n",
        "from selenium import webdriver\n",
        "from bs4 import BeautifulSoup\n",
        "import re\n",
        "import threading\n",
        "import unicodedata"
      ],
      "metadata": {
        "id": "iEdDTp1WG3YQ"
      },
      "execution_count": 2,
      "outputs": []
    },
    {
      "cell_type": "code",
      "source": [
        "def get_soup(url):\n",
        "  chrome_options = webdriver.ChromeOptions()\n",
        "  chrome_options.add_argument('--headless')\n",
        "  chrome_options.add_argument('--no-sandbox')\n",
        "  chrome_options.add_argument('--disable-dev-shm-usage')\n",
        "\n",
        "  driver = webdriver.Chrome(options=chrome_options)\n",
        "\n",
        "  driver.get(url)\n",
        "\n",
        "  driver.implicitly_wait(1)\n",
        "\n",
        "  soup = BeautifulSoup(driver.page_source, 'html.parser')\n",
        "\n",
        "  driver.quit()\n",
        "\n",
        "  return soup"
      ],
      "metadata": {
        "id": "yYTjm0dQG51S"
      },
      "execution_count": 3,
      "outputs": []
    },
    {
      "cell_type": "code",
      "source": [
        "soup = get_soup('https://www.tankathon.com/mock_draft')"
      ],
      "metadata": {
        "id": "kBiVMeHzG94b"
      },
      "execution_count": 4,
      "outputs": []
    },
    {
      "cell_type": "code",
      "source": [
        "mock_rows = soup.find('div', {'class': 'mock-rows'})"
      ],
      "metadata": {
        "id": "warIcF21H7Ck"
      },
      "execution_count": 5,
      "outputs": []
    },
    {
      "cell_type": "code",
      "source": [
        "# Test example, grabbing all names\n",
        "player_names_unstripped = mock_rows.find_all('div', {'class': 'mock-row-name'})\n",
        "print(player_names_unstripped)"
      ],
      "metadata": {
        "colab": {
          "base_uri": "https://localhost:8080/"
        },
        "id": "kQEEzSsfIj75",
        "outputId": "568144b4-e44e-4bbb-af61-8cfdbb3c5669"
      },
      "execution_count": 6,
      "outputs": [
        {
          "output_type": "stream",
          "name": "stdout",
          "text": [
            "[<div class=\"mock-row-name\">Cooper Flagg</div>, <div class=\"mock-row-name\">Dylan Harper</div>, <div class=\"mock-row-name\">Ace Bailey</div>, <div class=\"mock-row-name\">V.J. Edgecombe</div>, <div class=\"mock-row-name\">Tre Johnson</div>, <div class=\"mock-row-name\">Kon Knueppel</div>, <div class=\"mock-row-name\">Khaman Maluach</div>, <div class=\"mock-row-name\">Jeremiah Fears</div>, <div class=\"mock-row-name\">Derik Queen</div>, <div class=\"mock-row-name\">Asa Newell</div>, <div class=\"mock-row-name\">Kasparas Jakucionis</div>, <div class=\"mock-row-name\">Jase Richardson</div>, <div class=\"mock-row-name\">Collin Murray-Boyles</div>, <div class=\"mock-row-name\">Liam McNeeley</div>, <div class=\"mock-row-name\">Egor Demin</div>, <div class=\"mock-row-name\">Noa Essengue</div>, <div class=\"mock-row-name\">Nolan Traore</div>, <div class=\"mock-row-name\">Thomas Sorber</div>, <div class=\"mock-row-name\">Joan Beringer</div>, <div class=\"mock-row-name\">Rasheer Fleming</div>, <div class=\"mock-row-name\">Ben Saraf</div>, <div class=\"mock-row-name\">Danny Wolf</div>, <div class=\"mock-row-name\">Will Riley</div>, <div class=\"mock-row-name\">Nique Clifford</div>, <div class=\"mock-row-name\">Walter Clayton Jr.</div>, <div class=\"mock-row-name\">Carter Bryant</div>, <div class=\"mock-row-name\">Yaxel Lendeborg</div>, <div class=\"mock-row-name\">Labaron Philon</div>, <div class=\"mock-row-name\">Kam Jones</div>, <div class=\"mock-row-name\">Alex Condon</div>, <div class=\"mock-row-name\">Johni Broome</div>, <div class=\"mock-row-name\">Noah Penda</div>, <div class=\"mock-row-name\">Boogie Fland</div>, <div class=\"mock-row-name\">Hugo González</div>, <div class=\"mock-row-name\">Ryan Kalkbrenner</div>, <div class=\"mock-row-name\">Bogoljub Marković</div>, <div class=\"mock-row-name\">Adou Thiero</div>, <div class=\"mock-row-name\">Chaz Lanier</div>, <div class=\"mock-row-name\">Tahaad Pettiford</div>, <div class=\"mock-row-name\">Isaiah Evans</div>, <div class=\"mock-row-name\">Miles Byrd</div>, <div class=\"mock-row-name\">Milos Uzan</div>, <div class=\"mock-row-name\">Maxime Raynaud</div>, <div class=\"mock-row-name\">Alex Toohey</div>, <div class=\"mock-row-name\">Rocco Zikarsky</div>, <div class=\"mock-row-name\">Drake Powell</div>, <div class=\"mock-row-name\">Darrion Williams</div>, <div class=\"mock-row-name\">Sion James</div>, <div class=\"mock-row-name\">Dink Pate</div>, <div class=\"mock-row-name\">Michael Ruzic</div>, <div class=\"mock-row-name\">Tyrese Proctor</div>, <div class=\"mock-row-name\">Eric Dixon</div>, <div class=\"mock-row-name\">Hansen Yang</div>, <div class=\"mock-row-name\">Koby Brea</div>, <div class=\"mock-row-name\">JoJo Tugler</div>, <div class=\"mock-row-name\">John Tonje</div>, <div class=\"mock-row-name\">Alijah Martin</div>, <div class=\"mock-row-name\">Xaivian Lee</div>, <div class=\"mock-row-name\">Hunter Sallis</div>]\n"
          ]
        }
      ]
    },
    {
      "cell_type": "code",
      "source": [
        "player_names = []\n",
        "for div in player_names_unstripped:\n",
        "  player_names.append(div.text)"
      ],
      "metadata": {
        "id": "HFJ8CH4WLHwa"
      },
      "execution_count": 7,
      "outputs": []
    },
    {
      "cell_type": "code",
      "source": [
        "print(player_names)"
      ],
      "metadata": {
        "colab": {
          "base_uri": "https://localhost:8080/"
        },
        "id": "Fo1wOjy8La-7",
        "outputId": "13a7ab69-07de-4026-afc4-96a784c8783a"
      },
      "execution_count": 8,
      "outputs": [
        {
          "output_type": "stream",
          "name": "stdout",
          "text": [
            "['Cooper Flagg', 'Dylan Harper', 'Ace Bailey', 'V.J. Edgecombe', 'Tre Johnson', 'Kon Knueppel', 'Khaman Maluach', 'Jeremiah Fears', 'Derik Queen', 'Asa Newell', 'Kasparas Jakucionis', 'Jase Richardson', 'Collin Murray-Boyles', 'Liam McNeeley', 'Egor Demin', 'Noa Essengue', 'Nolan Traore', 'Thomas Sorber', 'Joan Beringer', 'Rasheer Fleming', 'Ben Saraf', 'Danny Wolf', 'Will Riley', 'Nique Clifford', 'Walter Clayton Jr.', 'Carter Bryant', 'Yaxel Lendeborg', 'Labaron Philon', 'Kam Jones', 'Alex Condon', 'Johni Broome', 'Noah Penda', 'Boogie Fland', 'Hugo González', 'Ryan Kalkbrenner', 'Bogoljub Marković', 'Adou Thiero', 'Chaz Lanier', 'Tahaad Pettiford', 'Isaiah Evans', 'Miles Byrd', 'Milos Uzan', 'Maxime Raynaud', 'Alex Toohey', 'Rocco Zikarsky', 'Drake Powell', 'Darrion Williams', 'Sion James', 'Dink Pate', 'Michael Ruzic', 'Tyrese Proctor', 'Eric Dixon', 'Hansen Yang', 'Koby Brea', 'JoJo Tugler', 'John Tonje', 'Alijah Martin', 'Xaivian Lee', 'Hunter Sallis']\n"
          ]
        }
      ]
    },
    {
      "cell_type": "code",
      "source": [
        "# Make links out of all the names\n",
        "player_links = []\n",
        "\n",
        "for name in player_names:\n",
        "  # Normalize and remove accents\n",
        "  final_name = unicodedata.normalize('NFKD', name).encode('ascii', 'ignore').decode('utf-8')\n",
        "  # Lowercase, replace non-word chars/spaces with hyphens\n",
        "  final_name = re.sub(r'\\W+', '-', final_name.strip().lower())\n",
        "  final_name = final_name.strip('-')\n",
        "  player_links.append(f'https://www.tankathon.com/players/{final_name}')\n",
        "\n",
        "print(player_links)"
      ],
      "metadata": {
        "colab": {
          "base_uri": "https://localhost:8080/"
        },
        "id": "1p2sxC3uKi8q",
        "outputId": "884d3b9f-b8de-40c3-ab03-d85f1e9d7f8b"
      },
      "execution_count": 9,
      "outputs": [
        {
          "output_type": "stream",
          "name": "stdout",
          "text": [
            "['https://www.tankathon.com/players/cooper-flagg', 'https://www.tankathon.com/players/dylan-harper', 'https://www.tankathon.com/players/ace-bailey', 'https://www.tankathon.com/players/v-j-edgecombe', 'https://www.tankathon.com/players/tre-johnson', 'https://www.tankathon.com/players/kon-knueppel', 'https://www.tankathon.com/players/khaman-maluach', 'https://www.tankathon.com/players/jeremiah-fears', 'https://www.tankathon.com/players/derik-queen', 'https://www.tankathon.com/players/asa-newell', 'https://www.tankathon.com/players/kasparas-jakucionis', 'https://www.tankathon.com/players/jase-richardson', 'https://www.tankathon.com/players/collin-murray-boyles', 'https://www.tankathon.com/players/liam-mcneeley', 'https://www.tankathon.com/players/egor-demin', 'https://www.tankathon.com/players/noa-essengue', 'https://www.tankathon.com/players/nolan-traore', 'https://www.tankathon.com/players/thomas-sorber', 'https://www.tankathon.com/players/joan-beringer', 'https://www.tankathon.com/players/rasheer-fleming', 'https://www.tankathon.com/players/ben-saraf', 'https://www.tankathon.com/players/danny-wolf', 'https://www.tankathon.com/players/will-riley', 'https://www.tankathon.com/players/nique-clifford', 'https://www.tankathon.com/players/walter-clayton-jr', 'https://www.tankathon.com/players/carter-bryant', 'https://www.tankathon.com/players/yaxel-lendeborg', 'https://www.tankathon.com/players/labaron-philon', 'https://www.tankathon.com/players/kam-jones', 'https://www.tankathon.com/players/alex-condon', 'https://www.tankathon.com/players/johni-broome', 'https://www.tankathon.com/players/noah-penda', 'https://www.tankathon.com/players/boogie-fland', 'https://www.tankathon.com/players/hugo-gonzalez', 'https://www.tankathon.com/players/ryan-kalkbrenner', 'https://www.tankathon.com/players/bogoljub-markovic', 'https://www.tankathon.com/players/adou-thiero', 'https://www.tankathon.com/players/chaz-lanier', 'https://www.tankathon.com/players/tahaad-pettiford', 'https://www.tankathon.com/players/isaiah-evans', 'https://www.tankathon.com/players/miles-byrd', 'https://www.tankathon.com/players/milos-uzan', 'https://www.tankathon.com/players/maxime-raynaud', 'https://www.tankathon.com/players/alex-toohey', 'https://www.tankathon.com/players/rocco-zikarsky', 'https://www.tankathon.com/players/drake-powell', 'https://www.tankathon.com/players/darrion-williams', 'https://www.tankathon.com/players/sion-james', 'https://www.tankathon.com/players/dink-pate', 'https://www.tankathon.com/players/michael-ruzic', 'https://www.tankathon.com/players/tyrese-proctor', 'https://www.tankathon.com/players/eric-dixon', 'https://www.tankathon.com/players/hansen-yang', 'https://www.tankathon.com/players/koby-brea', 'https://www.tankathon.com/players/jojo-tugler', 'https://www.tankathon.com/players/john-tonje', 'https://www.tankathon.com/players/alijah-martin', 'https://www.tankathon.com/players/xaivian-lee', 'https://www.tankathon.com/players/hunter-sallis']\n"
          ]
        }
      ]
    },
    {
      "cell_type": "code",
      "source": [
        "def grab_specific_info(soup, block_type='div', class_name='None'):\n",
        "  return soup.find(block_type, {'class': class_name}).get_text(strip=True)"
      ],
      "metadata": {
        "id": "O_Mp9UECN3V5"
      },
      "execution_count": 10,
      "outputs": []
    },
    {
      "cell_type": "code",
      "source": [
        "def grab_data_block(soup, label_name):\n",
        "    for block in soup.select('.data-section .data-block'):\n",
        "        label = block.select_one('.label')\n",
        "        data = block.select_one('.data')\n",
        "        if label and data and label.get_text(strip=True) == label_name:\n",
        "            return data.get_text(strip=True)\n",
        "    return None"
      ],
      "metadata": {
        "id": "V_SnKOm8PTbd"
      },
      "execution_count": 11,
      "outputs": []
    },
    {
      "cell_type": "code",
      "source": [
        "def grab_data_block_alt(soup, label_name):\n",
        "    for block in soup.select('.data-section .data-block'):\n",
        "        label = block.select_one('.label')\n",
        "        data = block.select_one('.data')\n",
        "        if label and data and label.get_text(strip=True).lower() == label_name.lower():\n",
        "            # Prefer .desktop span if present\n",
        "            desktop = data.select_one('.desktop')\n",
        "            if desktop:\n",
        "                return desktop.get_text(strip=True)\n",
        "            return data.get_text(strip=True)\n",
        "    return None\n"
      ],
      "metadata": {
        "id": "NT5EFdQ2rIer"
      },
      "execution_count": 12,
      "outputs": []
    },
    {
      "cell_type": "code",
      "source": [
        "def grab_stat_block(soup, label_name):\n",
        "    for container in soup.select('.stat-row .stat-container'):\n",
        "        label = container.select_one('.stat-label')\n",
        "        data = container.select_one('.stat-data')\n",
        "        if label and data and label.get_text(strip=True) == label_name:\n",
        "            return data.get_text(strip=True)\n",
        "    return None"
      ],
      "metadata": {
        "id": "dCuEBOMsSQfQ"
      },
      "execution_count": 13,
      "outputs": []
    },
    {
      "cell_type": "code",
      "source": [
        "def grab_stat_block_alt(soup, label_name):\n",
        "    for container in soup.select('.stat-row .stat-container'):\n",
        "        label = container.select_one('.stat-label')\n",
        "        data = container.select_one('.stat-data')\n",
        "        if label and data:\n",
        "            label_text = label.get_text(separator=' ', strip=True)\n",
        "            if label_name.lower() in label_text.lower():\n",
        "                return data.get_text(strip=True)\n",
        "    return None"
      ],
      "metadata": {
        "id": "NXJUEfiSnUAF"
      },
      "execution_count": 14,
      "outputs": []
    },
    {
      "cell_type": "code",
      "source": [
        "def grab_mock_draft_info(soup):\n",
        "    for block in soup.select('.data-block'):\n",
        "        label = block.select_one('.label a')\n",
        "        if label and label.text.strip() == 'Mock Draft':\n",
        "            draft_pos = block.select_one('.data a:nth-of-type(1)').text.strip()\n",
        "            projected_team = block.select_one('.data a:nth-of-type(2)').text.strip()\n",
        "            return {\n",
        "                'mock_draft_position': draft_pos,\n",
        "                'mock_draft_projected_team': projected_team\n",
        "            }\n",
        "    return None\n"
      ],
      "metadata": {
        "id": "9vS9ISJFldZC"
      },
      "execution_count": 15,
      "outputs": []
    },
    {
      "cell_type": "code",
      "source": [
        "def get_player_info(link):\n",
        "  soup = get_soup(link)\n",
        "\n",
        "  info = {}\n",
        "\n",
        "  # General Info\n",
        "  info['Name'] = grab_specific_info(soup, 'h1', 'page-title')\n",
        "  info['School Year'] = grab_data_block(soup, 'Year')\n",
        "  info['Position'] = grab_data_block(soup, 'Position')\n",
        "  info['Height'] = grab_data_block(soup, 'Height')\n",
        "  info['Weight'] = grab_data_block(soup, 'Weight')\n",
        "  info['Mock Draft Position'] = grab_mock_draft_info(soup)['mock_draft_position']\n",
        "  info['Mock Draft Projected Team'] = grab_mock_draft_info(soup)['mock_draft_projected_team']\n",
        "  info['Age At Draft'] = grab_data_block(soup, 'Age at Draft')\n",
        "  info['Team'] = grab_data_block(soup, 'Team')\n",
        "  info['Birthday'] = grab_data_block(soup, 'Birthdate')\n",
        "  info['Nation'] = grab_data_block(soup, 'Nation')\n",
        "  info['Hometown'] = grab_data_block(soup, 'Hometown')\n",
        "  info['High School'] = grab_data_block_alt(soup, 'High School') # alt to avoid doubling\n",
        "  info['ESPN 100'] = grab_data_block(soup, 'ESPN 100')\n",
        "  if info['School Year'] == 'International':\n",
        "    info['International'] = 1\n",
        "  else:\n",
        "    info['International'] = 0\n",
        "\n",
        "\n",
        "  # 2024-2025 Per Game Averages\n",
        "  info['Games Played'] = grab_stat_block(soup, 'G')\n",
        "  info['Minutes Per Game'] = grab_stat_block(soup, 'MP')\n",
        "  info['FGM to FGA'] = grab_stat_block(soup, 'FGM-FGA')\n",
        "  info['FG Percentage'] = grab_stat_block(soup, 'FG%')\n",
        "  info['3PM to 3PA'] = grab_stat_block(soup, '3PM-3PA')\n",
        "  info['3P Percentage'] = grab_stat_block(soup, '3P%')\n",
        "  info['FT to FGA'] = grab_stat_block(soup, 'FTM-FTA')\n",
        "  info['FT Percentage'] = grab_stat_block(soup, 'FT%')\n",
        "  info['Rebounds'] = grab_stat_block(soup, 'REB')\n",
        "  info['Assists'] = grab_stat_block(soup, 'AST')\n",
        "  info['Blocks'] = grab_stat_block(soup, 'BLK')\n",
        "  info['Steals'] = grab_stat_block(soup, 'STL')\n",
        "  info['Turnovers'] = grab_stat_block(soup, 'TO')\n",
        "  info['Fouls'] = grab_stat_block(soup, 'PF')\n",
        "  info['Points Per Game'] = grab_stat_block(soup, 'PTS')\n",
        "\n",
        "\n",
        "  # Advanced Stats\n",
        "  info['True Shooting Percentage'] = grab_stat_block_alt(soup, 'True Shooting %')\n",
        "  info['Effective FG%'] = grab_stat_block_alt(soup, 'Effective FG%')\n",
        "  info['3PA Rate'] = grab_stat_block_alt(soup, '3PA Rate')\n",
        "  info['Free Throw Rate'] = grab_stat_block_alt(soup, 'FTA Rate')\n",
        "  info['Projected NBA 3P%'] = grab_stat_block_alt(soup, 'Proj NBA 3P%')\n",
        "  info['Usage %'] = grab_stat_block(soup, 'USG%')\n",
        "  info['Assits to Usage'] = grab_stat_block(soup, 'AST/USG')\n",
        "  info['Assists to Turnovers'] = grab_stat_block(soup, 'AST/TO')\n",
        "\n",
        "  return info"
      ],
      "metadata": {
        "id": "zUbkm424MoAH"
      },
      "execution_count": 37,
      "outputs": []
    },
    {
      "cell_type": "code",
      "source": [
        "player = get_player_info(player_links[15])"
      ],
      "metadata": {
        "id": "vxYMjzmPO-Np"
      },
      "execution_count": 39,
      "outputs": []
    },
    {
      "cell_type": "code",
      "source": [
        "print(player['International'])"
      ],
      "metadata": {
        "id": "YiUD_C-kP8xW",
        "colab": {
          "base_uri": "https://localhost:8080/"
        },
        "outputId": "3b18925e-3b71-4173-930f-d609f62ad414"
      },
      "execution_count": 40,
      "outputs": [
        {
          "output_type": "stream",
          "name": "stdout",
          "text": [
            "1\n"
          ]
        }
      ]
    },
    {
      "cell_type": "code",
      "source": [],
      "metadata": {
        "id": "URkn-ivvvg2b"
      },
      "execution_count": null,
      "outputs": []
    }
  ]
}
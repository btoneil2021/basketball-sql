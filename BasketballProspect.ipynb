{
  "nbformat": 4,
  "nbformat_minor": 0,
  "metadata": {
    "colab": {
      "provenance": [],
      "include_colab_link": true
    },
    "kernelspec": {
      "name": "python3",
      "display_name": "Python 3"
    },
    "language_info": {
      "name": "python"
    }
  },
  "cells": [
    {
      "cell_type": "markdown",
      "metadata": {
        "id": "view-in-github",
        "colab_type": "text"
      },
      "source": [
        "<a href=\"https://colab.research.google.com/github/btoneil2021/basketball-sql/blob/main/BasketballProspect.ipynb\" target=\"_parent\"><img src=\"https://colab.research.google.com/assets/colab-badge.svg\" alt=\"Open In Colab\"/></a>"
      ]
    },
    {
      "cell_type": "code",
      "execution_count": 1,
      "metadata": {
        "colab": {
          "base_uri": "https://localhost:8080/"
        },
        "id": "J2O58N7SGp17",
        "outputId": "46699273-69fb-4a67-e6aa-a0fc91974e9a"
      },
      "outputs": [
        {
          "output_type": "stream",
          "name": "stdout",
          "text": [
            "Collecting chromedriver_autoinstaller\n",
            "  Downloading chromedriver_autoinstaller-0.6.4-py3-none-any.whl.metadata (2.1 kB)\n",
            "Requirement already satisfied: packaging>=23.1 in /usr/local/lib/python3.11/dist-packages (from chromedriver_autoinstaller) (24.2)\n",
            "Downloading chromedriver_autoinstaller-0.6.4-py3-none-any.whl (7.6 kB)\n",
            "Installing collected packages: chromedriver_autoinstaller\n",
            "Successfully installed chromedriver_autoinstaller-0.6.4\n",
            "Collecting selenium\n",
            "  Downloading selenium-4.32.0-py3-none-any.whl.metadata (7.5 kB)\n",
            "Requirement already satisfied: urllib3<3,>=1.26 in /usr/local/lib/python3.11/dist-packages (from urllib3[socks]<3,>=1.26->selenium) (2.4.0)\n",
            "Collecting trio~=0.17 (from selenium)\n",
            "  Downloading trio-0.30.0-py3-none-any.whl.metadata (8.5 kB)\n",
            "Collecting trio-websocket~=0.9 (from selenium)\n",
            "  Downloading trio_websocket-0.12.2-py3-none-any.whl.metadata (5.1 kB)\n",
            "Requirement already satisfied: certifi>=2021.10.8 in /usr/local/lib/python3.11/dist-packages (from selenium) (2025.4.26)\n",
            "Requirement already satisfied: typing_extensions~=4.9 in /usr/local/lib/python3.11/dist-packages (from selenium) (4.13.2)\n",
            "Requirement already satisfied: websocket-client~=1.8 in /usr/local/lib/python3.11/dist-packages (from selenium) (1.8.0)\n",
            "Requirement already satisfied: attrs>=23.2.0 in /usr/local/lib/python3.11/dist-packages (from trio~=0.17->selenium) (25.3.0)\n",
            "Requirement already satisfied: sortedcontainers in /usr/local/lib/python3.11/dist-packages (from trio~=0.17->selenium) (2.4.0)\n",
            "Requirement already satisfied: idna in /usr/local/lib/python3.11/dist-packages (from trio~=0.17->selenium) (3.10)\n",
            "Collecting outcome (from trio~=0.17->selenium)\n",
            "  Downloading outcome-1.3.0.post0-py2.py3-none-any.whl.metadata (2.6 kB)\n",
            "Requirement already satisfied: sniffio>=1.3.0 in /usr/local/lib/python3.11/dist-packages (from trio~=0.17->selenium) (1.3.1)\n",
            "Collecting wsproto>=0.14 (from trio-websocket~=0.9->selenium)\n",
            "  Downloading wsproto-1.2.0-py3-none-any.whl.metadata (5.6 kB)\n",
            "Requirement already satisfied: pysocks!=1.5.7,<2.0,>=1.5.6 in /usr/local/lib/python3.11/dist-packages (from urllib3[socks]<3,>=1.26->selenium) (1.7.1)\n",
            "Requirement already satisfied: h11<1,>=0.9.0 in /usr/local/lib/python3.11/dist-packages (from wsproto>=0.14->trio-websocket~=0.9->selenium) (0.16.0)\n",
            "Downloading selenium-4.32.0-py3-none-any.whl (9.4 MB)\n",
            "\u001b[2K   \u001b[90m━━━━━━━━━━━━━━━━━━━━━━━━━━━━━━━━━━━━━━━━\u001b[0m \u001b[32m9.4/9.4 MB\u001b[0m \u001b[31m59.0 MB/s\u001b[0m eta \u001b[36m0:00:00\u001b[0m\n",
            "\u001b[?25hDownloading trio-0.30.0-py3-none-any.whl (499 kB)\n",
            "\u001b[2K   \u001b[90m━━━━━━━━━━━━━━━━━━━━━━━━━━━━━━━━━━━━━━━━\u001b[0m \u001b[32m499.2/499.2 kB\u001b[0m \u001b[31m24.8 MB/s\u001b[0m eta \u001b[36m0:00:00\u001b[0m\n",
            "\u001b[?25hDownloading trio_websocket-0.12.2-py3-none-any.whl (21 kB)\n",
            "Downloading outcome-1.3.0.post0-py2.py3-none-any.whl (10 kB)\n",
            "Downloading wsproto-1.2.0-py3-none-any.whl (24 kB)\n",
            "Installing collected packages: wsproto, outcome, trio, trio-websocket, selenium\n",
            "Successfully installed outcome-1.3.0.post0 selenium-4.32.0 trio-0.30.0 trio-websocket-0.12.2 wsproto-1.2.0\n",
            "Collecting rapidfuzz\n",
            "  Downloading rapidfuzz-3.13.0-cp311-cp311-manylinux_2_17_x86_64.manylinux2014_x86_64.whl.metadata (12 kB)\n",
            "Downloading rapidfuzz-3.13.0-cp311-cp311-manylinux_2_17_x86_64.manylinux2014_x86_64.whl (3.1 MB)\n",
            "\u001b[2K   \u001b[90m━━━━━━━━━━━━━━━━━━━━━━━━━━━━━━━━━━━━━━━━\u001b[0m \u001b[32m3.1/3.1 MB\u001b[0m \u001b[31m6.6 MB/s\u001b[0m eta \u001b[36m0:00:00\u001b[0m\n",
            "\u001b[?25hInstalling collected packages: rapidfuzz\n",
            "Successfully installed rapidfuzz-3.13.0\n"
          ]
        },
        {
          "output_type": "execute_result",
          "data": {
            "text/plain": []
          },
          "metadata": {},
          "execution_count": 1
        }
      ],
      "source": [
        "%%shell\n",
        "pip install chromedriver_autoinstaller\n",
        "pip install selenium\n",
        "pip install rapidfuzz"
      ]
    },
    {
      "cell_type": "code",
      "source": [
        "import sys\n",
        "import chromedriver_autoinstaller\n",
        "from selenium import webdriver\n",
        "from bs4 import BeautifulSoup\n",
        "import re\n",
        "import threading\n",
        "import unicodedata\n",
        "import rapidfuzz"
      ],
      "metadata": {
        "id": "iEdDTp1WG3YQ"
      },
      "execution_count": 128,
      "outputs": []
    },
    {
      "cell_type": "code",
      "source": [
        "def get_soup(url):\n",
        "  chrome_options = webdriver.ChromeOptions()\n",
        "  chrome_options.add_argument('--headless')\n",
        "  chrome_options.add_argument('--no-sandbox')\n",
        "  chrome_options.add_argument('--disable-dev-shm-usage')\n",
        "\n",
        "  driver = webdriver.Chrome(options=chrome_options)\n",
        "\n",
        "  driver.get(url)\n",
        "\n",
        "  driver.implicitly_wait(1)\n",
        "\n",
        "  soup = BeautifulSoup(driver.page_source, 'html.parser')\n",
        "\n",
        "  driver.quit()\n",
        "\n",
        "  return soup"
      ],
      "metadata": {
        "id": "yYTjm0dQG51S"
      },
      "execution_count": 3,
      "outputs": []
    },
    {
      "cell_type": "code",
      "source": [
        "soup = get_soup('https://www.tankathon.com/mock_draft')"
      ],
      "metadata": {
        "id": "kBiVMeHzG94b"
      },
      "execution_count": 4,
      "outputs": []
    },
    {
      "cell_type": "code",
      "source": [
        "mock_rows = soup.find('div', {'class': 'mock-rows'})"
      ],
      "metadata": {
        "id": "warIcF21H7Ck"
      },
      "execution_count": 5,
      "outputs": []
    },
    {
      "cell_type": "code",
      "source": [
        "# Test example, grabbing all names\n",
        "player_names_unstripped = mock_rows.find_all('div', {'class': 'mock-row-name'})\n",
        "print(player_names_unstripped)"
      ],
      "metadata": {
        "colab": {
          "base_uri": "https://localhost:8080/"
        },
        "id": "kQEEzSsfIj75",
        "outputId": "d163b5d7-9cd5-407f-d1cb-b57496a5962e"
      },
      "execution_count": 6,
      "outputs": [
        {
          "output_type": "stream",
          "name": "stdout",
          "text": [
            "[<div class=\"mock-row-name\">Cooper Flagg</div>, <div class=\"mock-row-name\">Dylan Harper</div>, <div class=\"mock-row-name\">Ace Bailey</div>, <div class=\"mock-row-name\">V.J. Edgecombe</div>, <div class=\"mock-row-name\">Tre Johnson</div>, <div class=\"mock-row-name\">Kon Knueppel</div>, <div class=\"mock-row-name\">Khaman Maluach</div>, <div class=\"mock-row-name\">Jeremiah Fears</div>, <div class=\"mock-row-name\">Derik Queen</div>, <div class=\"mock-row-name\">Asa Newell</div>, <div class=\"mock-row-name\">Kasparas Jakucionis</div>, <div class=\"mock-row-name\">Jase Richardson</div>, <div class=\"mock-row-name\">Collin Murray-Boyles</div>, <div class=\"mock-row-name\">Liam McNeeley</div>, <div class=\"mock-row-name\">Egor Demin</div>, <div class=\"mock-row-name\">Noa Essengue</div>, <div class=\"mock-row-name\">Nolan Traore</div>, <div class=\"mock-row-name\">Thomas Sorber</div>, <div class=\"mock-row-name\">Joan Beringer</div>, <div class=\"mock-row-name\">Rasheer Fleming</div>, <div class=\"mock-row-name\">Ben Saraf</div>, <div class=\"mock-row-name\">Danny Wolf</div>, <div class=\"mock-row-name\">Will Riley</div>, <div class=\"mock-row-name\">Nique Clifford</div>, <div class=\"mock-row-name\">Walter Clayton Jr.</div>, <div class=\"mock-row-name\">Carter Bryant</div>, <div class=\"mock-row-name\">Yaxel Lendeborg</div>, <div class=\"mock-row-name\">Labaron Philon</div>, <div class=\"mock-row-name\">Kam Jones</div>, <div class=\"mock-row-name\">Alex Condon</div>, <div class=\"mock-row-name\">Johni Broome</div>, <div class=\"mock-row-name\">Noah Penda</div>, <div class=\"mock-row-name\">Boogie Fland</div>, <div class=\"mock-row-name\">Hugo González</div>, <div class=\"mock-row-name\">Ryan Kalkbrenner</div>, <div class=\"mock-row-name\">Bogoljub Marković</div>, <div class=\"mock-row-name\">Adou Thiero</div>, <div class=\"mock-row-name\">Chaz Lanier</div>, <div class=\"mock-row-name\">Tahaad Pettiford</div>, <div class=\"mock-row-name\">Isaiah Evans</div>, <div class=\"mock-row-name\">Miles Byrd</div>, <div class=\"mock-row-name\">Milos Uzan</div>, <div class=\"mock-row-name\">Maxime Raynaud</div>, <div class=\"mock-row-name\">Alex Toohey</div>, <div class=\"mock-row-name\">Rocco Zikarsky</div>, <div class=\"mock-row-name\">Drake Powell</div>, <div class=\"mock-row-name\">Darrion Williams</div>, <div class=\"mock-row-name\">Sion James</div>, <div class=\"mock-row-name\">Dink Pate</div>, <div class=\"mock-row-name\">Michael Ruzic</div>, <div class=\"mock-row-name\">Tyrese Proctor</div>, <div class=\"mock-row-name\">Eric Dixon</div>, <div class=\"mock-row-name\">Hansen Yang</div>, <div class=\"mock-row-name\">Koby Brea</div>, <div class=\"mock-row-name\">JoJo Tugler</div>, <div class=\"mock-row-name\">John Tonje</div>, <div class=\"mock-row-name\">Alijah Martin</div>, <div class=\"mock-row-name\">Xaivian Lee</div>, <div class=\"mock-row-name\">Hunter Sallis</div>]\n"
          ]
        }
      ]
    },
    {
      "cell_type": "code",
      "source": [
        "player_names = []\n",
        "for div in player_names_unstripped:\n",
        "  player_names.append(div.text)"
      ],
      "metadata": {
        "id": "HFJ8CH4WLHwa"
      },
      "execution_count": 7,
      "outputs": []
    },
    {
      "cell_type": "code",
      "source": [
        "print(player_names)"
      ],
      "metadata": {
        "colab": {
          "base_uri": "https://localhost:8080/"
        },
        "id": "Fo1wOjy8La-7",
        "outputId": "ac3399eb-61b2-4f62-9c6e-f862adcf7c43"
      },
      "execution_count": 8,
      "outputs": [
        {
          "output_type": "stream",
          "name": "stdout",
          "text": [
            "['Cooper Flagg', 'Dylan Harper', 'Ace Bailey', 'V.J. Edgecombe', 'Tre Johnson', 'Kon Knueppel', 'Khaman Maluach', 'Jeremiah Fears', 'Derik Queen', 'Asa Newell', 'Kasparas Jakucionis', 'Jase Richardson', 'Collin Murray-Boyles', 'Liam McNeeley', 'Egor Demin', 'Noa Essengue', 'Nolan Traore', 'Thomas Sorber', 'Joan Beringer', 'Rasheer Fleming', 'Ben Saraf', 'Danny Wolf', 'Will Riley', 'Nique Clifford', 'Walter Clayton Jr.', 'Carter Bryant', 'Yaxel Lendeborg', 'Labaron Philon', 'Kam Jones', 'Alex Condon', 'Johni Broome', 'Noah Penda', 'Boogie Fland', 'Hugo González', 'Ryan Kalkbrenner', 'Bogoljub Marković', 'Adou Thiero', 'Chaz Lanier', 'Tahaad Pettiford', 'Isaiah Evans', 'Miles Byrd', 'Milos Uzan', 'Maxime Raynaud', 'Alex Toohey', 'Rocco Zikarsky', 'Drake Powell', 'Darrion Williams', 'Sion James', 'Dink Pate', 'Michael Ruzic', 'Tyrese Proctor', 'Eric Dixon', 'Hansen Yang', 'Koby Brea', 'JoJo Tugler', 'John Tonje', 'Alijah Martin', 'Xaivian Lee', 'Hunter Sallis']\n"
          ]
        }
      ]
    },
    {
      "cell_type": "code",
      "source": [
        "# Make links out of all the names\n",
        "player_links = []\n",
        "\n",
        "for name in player_names:\n",
        "  # Normalize and remove accents\n",
        "  final_name = unicodedata.normalize('NFKD', name).encode('ascii', 'ignore').decode('utf-8')\n",
        "  # Lowercase, replace non-word chars/spaces with hyphens\n",
        "  final_name = re.sub(r'\\W+', '-', final_name.strip().lower())\n",
        "  final_name = final_name.strip('-')\n",
        "  player_links.append(f'https://www.tankathon.com/players/{final_name}')\n",
        "\n",
        "print(player_links)"
      ],
      "metadata": {
        "colab": {
          "base_uri": "https://localhost:8080/"
        },
        "id": "1p2sxC3uKi8q",
        "outputId": "58d56932-6d27-40d4-84ea-f21cb1fbc456"
      },
      "execution_count": 9,
      "outputs": [
        {
          "output_type": "stream",
          "name": "stdout",
          "text": [
            "['https://www.tankathon.com/players/cooper-flagg', 'https://www.tankathon.com/players/dylan-harper', 'https://www.tankathon.com/players/ace-bailey', 'https://www.tankathon.com/players/v-j-edgecombe', 'https://www.tankathon.com/players/tre-johnson', 'https://www.tankathon.com/players/kon-knueppel', 'https://www.tankathon.com/players/khaman-maluach', 'https://www.tankathon.com/players/jeremiah-fears', 'https://www.tankathon.com/players/derik-queen', 'https://www.tankathon.com/players/asa-newell', 'https://www.tankathon.com/players/kasparas-jakucionis', 'https://www.tankathon.com/players/jase-richardson', 'https://www.tankathon.com/players/collin-murray-boyles', 'https://www.tankathon.com/players/liam-mcneeley', 'https://www.tankathon.com/players/egor-demin', 'https://www.tankathon.com/players/noa-essengue', 'https://www.tankathon.com/players/nolan-traore', 'https://www.tankathon.com/players/thomas-sorber', 'https://www.tankathon.com/players/joan-beringer', 'https://www.tankathon.com/players/rasheer-fleming', 'https://www.tankathon.com/players/ben-saraf', 'https://www.tankathon.com/players/danny-wolf', 'https://www.tankathon.com/players/will-riley', 'https://www.tankathon.com/players/nique-clifford', 'https://www.tankathon.com/players/walter-clayton-jr', 'https://www.tankathon.com/players/carter-bryant', 'https://www.tankathon.com/players/yaxel-lendeborg', 'https://www.tankathon.com/players/labaron-philon', 'https://www.tankathon.com/players/kam-jones', 'https://www.tankathon.com/players/alex-condon', 'https://www.tankathon.com/players/johni-broome', 'https://www.tankathon.com/players/noah-penda', 'https://www.tankathon.com/players/boogie-fland', 'https://www.tankathon.com/players/hugo-gonzalez', 'https://www.tankathon.com/players/ryan-kalkbrenner', 'https://www.tankathon.com/players/bogoljub-markovic', 'https://www.tankathon.com/players/adou-thiero', 'https://www.tankathon.com/players/chaz-lanier', 'https://www.tankathon.com/players/tahaad-pettiford', 'https://www.tankathon.com/players/isaiah-evans', 'https://www.tankathon.com/players/miles-byrd', 'https://www.tankathon.com/players/milos-uzan', 'https://www.tankathon.com/players/maxime-raynaud', 'https://www.tankathon.com/players/alex-toohey', 'https://www.tankathon.com/players/rocco-zikarsky', 'https://www.tankathon.com/players/drake-powell', 'https://www.tankathon.com/players/darrion-williams', 'https://www.tankathon.com/players/sion-james', 'https://www.tankathon.com/players/dink-pate', 'https://www.tankathon.com/players/michael-ruzic', 'https://www.tankathon.com/players/tyrese-proctor', 'https://www.tankathon.com/players/eric-dixon', 'https://www.tankathon.com/players/hansen-yang', 'https://www.tankathon.com/players/koby-brea', 'https://www.tankathon.com/players/jojo-tugler', 'https://www.tankathon.com/players/john-tonje', 'https://www.tankathon.com/players/alijah-martin', 'https://www.tankathon.com/players/xaivian-lee', 'https://www.tankathon.com/players/hunter-sallis']\n"
          ]
        }
      ]
    },
    {
      "cell_type": "code",
      "source": [
        "def grab_specific_info(soup, block_type='div', class_name='None'):\n",
        "  return soup.find(block_type, {'class': class_name}).get_text(strip=True)"
      ],
      "metadata": {
        "id": "O_Mp9UECN3V5"
      },
      "execution_count": 10,
      "outputs": []
    },
    {
      "cell_type": "code",
      "source": [
        "def grab_data_block(soup, label_name):\n",
        "    for block in soup.select('.data-section .data-block'):\n",
        "        label = block.select_one('.label')\n",
        "        data = block.select_one('.data')\n",
        "        if label and data and label.get_text(strip=True) == label_name:\n",
        "            return data.get_text(strip=True)\n",
        "    return 'null'"
      ],
      "metadata": {
        "id": "V_SnKOm8PTbd"
      },
      "execution_count": 137,
      "outputs": []
    },
    {
      "cell_type": "code",
      "source": [
        "def grab_data_block_alt(soup, label_name):\n",
        "    for block in soup.select('.data-section .data-block'):\n",
        "        label = block.select_one('.label')\n",
        "        data = block.select_one('.data')\n",
        "        if label and data and label.get_text(strip=True).lower() == label_name.lower():\n",
        "            # Prefer .desktop span if present\n",
        "            desktop = data.select_one('.desktop')\n",
        "            if desktop:\n",
        "                return desktop.get_text(strip=True)\n",
        "            return data.get_text(strip=True)\n",
        "    return 'null'\n"
      ],
      "metadata": {
        "id": "NT5EFdQ2rIer"
      },
      "execution_count": 138,
      "outputs": []
    },
    {
      "cell_type": "code",
      "source": [
        "def grab_stat_block(soup, label_name):\n",
        "    for container in soup.select('.stat-row .stat-container'):\n",
        "        label = container.select_one('.stat-label')\n",
        "        data = container.select_one('.stat-data')\n",
        "        if label and data and label.get_text(strip=True) == label_name:\n",
        "            return data.get_text(strip=True)\n",
        "    return 'null'"
      ],
      "metadata": {
        "id": "dCuEBOMsSQfQ"
      },
      "execution_count": 139,
      "outputs": []
    },
    {
      "cell_type": "code",
      "source": [
        "def grab_stat_block_alt(soup, label_name):\n",
        "    for container in soup.select('.stat-row .stat-container'):\n",
        "        label = container.select_one('.stat-label')\n",
        "        data = container.select_one('.stat-data')\n",
        "        if label and data:\n",
        "            label_text = label.get_text(separator=' ', strip=True)\n",
        "            if label_name.lower() in label_text.lower():\n",
        "                return data.get_text(strip=True)\n",
        "    return 'null'"
      ],
      "metadata": {
        "id": "NXJUEfiSnUAF"
      },
      "execution_count": 141,
      "outputs": []
    },
    {
      "cell_type": "code",
      "source": [
        "def grab_mock_draft_info(soup):\n",
        "    for block in soup.select('.data-block'):\n",
        "        label = block.select_one('.label a')\n",
        "        if label and label.text.strip() == 'Mock Draft':\n",
        "            draft_pos = block.select_one('.data a:nth-of-type(1)').text.strip()\n",
        "            projected_team = block.select_one('.data a:nth-of-type(2)').text.strip()\n",
        "            return {\n",
        "                'mock_draft_position': draft_pos,\n",
        "                'mock_draft_projected_team': projected_team\n",
        "            }\n",
        "    return 'null'\n"
      ],
      "metadata": {
        "id": "9vS9ISJFldZC"
      },
      "execution_count": 140,
      "outputs": []
    },
    {
      "cell_type": "code",
      "source": [
        "def extract_school_info(html_content):\n",
        "  soup = BeautifulSoup(html_content, 'html.parser')\n",
        "\n",
        "  school_name = soup.find('div', itemprop='name').a.text.strip()\n",
        "  city = soup.find('span', itemprop='addressLocality').text.strip()\n",
        "  state = soup.find('span', itemprop='addressRegion').text.strip()\n",
        "  conference = soup.find('div', itemprop='member').text.strip()\n",
        "  division = soup.find('div', string=re.compile(r'NCAA D\\d')).text.strip()\n",
        "\n",
        "  return {\n",
        "      'school': school_name,\n",
        "      'city': city,\n",
        "      'state': state,\n",
        "      'conference': conference,\n",
        "      'division': division\n",
        "  }\n"
      ],
      "metadata": {
        "id": "PQVLcScdHzao"
      },
      "execution_count": 16,
      "outputs": []
    },
    {
      "cell_type": "code",
      "source": [
        "def get_player_info(link):\n",
        "  soup = get_soup(link)\n",
        "\n",
        "  info = {}\n",
        "\n",
        "  # General Info\n",
        "  info['Name'] = grab_specific_info(soup, 'h1', 'page-title')\n",
        "  info['School Year'] = grab_data_block(soup, 'Year')\n",
        "  info['Position'] = grab_data_block(soup, 'Position')\n",
        "  info['Height'] = grab_data_block(soup, 'Height')\n",
        "  info['Weight'] = grab_data_block(soup, 'Weight')[:-4]\n",
        "  info['Mock Draft Position'] = grab_mock_draft_info(soup)['mock_draft_position'][:-2]\n",
        "  info['Mock Draft Projected Team'] = grab_mock_draft_info(soup)['mock_draft_projected_team']\n",
        "  info['Age At Draft'] = grab_data_block(soup, 'Age at Draft')\n",
        "  info['Team'] = grab_data_block(soup, 'Team')\n",
        "  info['Birthday'] = grab_data_block(soup, 'Birthdate')\n",
        "  info['Nation'] = grab_data_block(soup, 'Nation')\n",
        "  info['Hometown'] = grab_data_block(soup, 'Hometown')\n",
        "  info['High School'] = grab_data_block_alt(soup, 'High School') # alt to avoid doubling\n",
        "  info['ESPN 100'] = grab_data_block(soup, 'ESPN 100')\n",
        "  if info['School Year'] == 'International':\n",
        "    info['International'] = 1\n",
        "  else:\n",
        "    info['International'] = 0\n",
        "  # Do later! Scrape this web https://www.ncsasports.org/mens-basketball/division-1-colleges\n",
        "\n",
        "  # Needed fields - College_Name, College_State, Conference, Division\n",
        "\n",
        "\n",
        "  # 2024-2025 Per Game Averages\n",
        "  info['Games Played'] = grab_stat_block(soup, 'G')\n",
        "  info['Minutes Per Game'] = grab_stat_block(soup, 'MP')\n",
        "  info['FGM to FGA'] = grab_stat_block(soup, 'FGM-FGA')\n",
        "  info['FG Percentage'] = grab_stat_block(soup, 'FG%')\n",
        "  info['3PM to 3PA'] = grab_stat_block(soup, '3PM-3PA')\n",
        "  info['3P Percentage'] = grab_stat_block(soup, '3P%')\n",
        "  info['FTM to FTA'] = grab_stat_block(soup, 'FTM-FTA')\n",
        "  info['FT Percentage'] = grab_stat_block(soup, 'FT%')\n",
        "  info['Rebounds'] = grab_stat_block(soup, 'REB')\n",
        "  info['Assists'] = grab_stat_block(soup, 'AST')\n",
        "  info['Blocks'] = grab_stat_block(soup, 'BLK')\n",
        "  info['Steals'] = grab_stat_block(soup, 'STL')\n",
        "  info['Turnovers'] = grab_stat_block(soup, 'TO')\n",
        "  info['Fouls'] = grab_stat_block(soup, 'PF')\n",
        "  info['Points Per Game'] = grab_stat_block(soup, 'PTS')\n",
        "\n",
        "\n",
        "  # Advanced Stats\n",
        "  info['True Shooting Percentage'] = grab_stat_block_alt(soup, 'True Shooting %')\n",
        "  info['Effective FG%'] = grab_stat_block_alt(soup, 'Effective FG%')\n",
        "  info['3PA Rate'] = grab_stat_block_alt(soup, '3PA Rate')\n",
        "  info['Free Throw Rate'] = grab_stat_block_alt(soup, 'FTA Rate')\n",
        "  info['Projected NBA 3P%'] = grab_stat_block_alt(soup, 'Proj NBA 3P%')\n",
        "  info['Usage %'] = grab_stat_block(soup, 'USG%')\n",
        "  info['Assits to Usage'] = grab_stat_block(soup, 'AST/USG')\n",
        "  info['Assists to Turnovers'] = grab_stat_block(soup, 'AST/TO')\n",
        "\n",
        "  return info"
      ],
      "metadata": {
        "id": "zUbkm424MoAH"
      },
      "execution_count": 97,
      "outputs": []
    },
    {
      "cell_type": "code",
      "source": [
        "player = get_player_info(player_links[9])"
      ],
      "metadata": {
        "id": "vxYMjzmPO-Np"
      },
      "execution_count": 98,
      "outputs": []
    },
    {
      "cell_type": "code",
      "source": [
        "print(player['Birthday'])"
      ],
      "metadata": {
        "id": "YiUD_C-kP8xW",
        "colab": {
          "base_uri": "https://localhost:8080/"
        },
        "outputId": "1b10348d-49fa-4843-ae45-a3af6f0ad4dd"
      },
      "execution_count": 71,
      "outputs": [
        {
          "output_type": "stream",
          "name": "stdout",
          "text": [
            "Oct 5, 2005\n"
          ]
        }
      ]
    },
    {
      "cell_type": "code",
      "source": [
        "def convert_height_to_inches(height):\n",
        "  height = height.split('\\'')\n",
        "  height[1] = height[1].replace('\"', '')\n",
        "  feet = int(height[0])\n",
        "  # Workaround fix to 2 players that have wingspan as part of their heights for some reason\n",
        "  try:\n",
        "    inches = int(height[1])\n",
        "  except ValueError:\n",
        "    inches = int(round(float(height[1][:-2])))\n",
        "  return (feet * 12) + inches"
      ],
      "metadata": {
        "id": "URkn-ivvvg2b"
      },
      "execution_count": 129,
      "outputs": []
    },
    {
      "cell_type": "code",
      "source": [
        "# FGM/FGA, 3PM/3PA, and FTM/FTA Conversion Function\n",
        "def made_to_attempted_conversion(made_to_attempted):\n",
        "  made_to_attempted = made_to_attempted.split('-')\n",
        "  made = float(made_to_attempted[0])\n",
        "  attempted = float(made_to_attempted[1])\n",
        "  return (made, attempted)"
      ],
      "metadata": {
        "id": "S8FkreXdPaQ9"
      },
      "execution_count": 21,
      "outputs": []
    },
    {
      "cell_type": "code",
      "source": [
        "# Function to take stats info and turn it into SQL code\n",
        "def player_info_to_stats_sql(player, stats_id):\n",
        "  # Grab necessary keys (and what they need to be turned into)\n",
        "  # Keys with tuple values to be split\n",
        "  needed_keys = {\n",
        "      'Games Played': 'Games_Played',\n",
        "      'Minutes Per Game': 'Minutes_Per_Game',\n",
        "      'FGM to FGA': ('FGM_Ave', 'FGA_Ave'),\n",
        "      'FG Percentage': 'FG_Percentage',\n",
        "      '3PM to 3PA': ('Three_PM_Ave', 'Three_PA_Ave'),\n",
        "      '3P Percentage': 'Three_P_Percentage',\n",
        "      'FTM to FTA': ('FTM_Ave', 'FTA_Ave'),\n",
        "      'FT Percentage': 'FT_Percentage',\n",
        "      'Rebounds': 'Rebounds',\n",
        "      'Assists': 'Assists',\n",
        "      'Blocks': 'P_Blocks',\n",
        "      'Steals': 'Steals',\n",
        "      'Turnovers': 'Turnovers',\n",
        "      'Fouls': 'Fouls',\n",
        "      'Points Per Game': 'Points_Per_Game',\n",
        "      'True Shooting Percentage': 'True_Shooting_Percentage',\n",
        "      'Effective FG%': 'Effective_FG_Percentage',\n",
        "      '3PA Rate': 'Three_PA_Rate',\n",
        "      'Free Throw Rate': 'Free_Throw_Rate',\n",
        "      'Projected NBA 3P%': 'Projected_NBA_3P_Percentage',\n",
        "      'Usage %': 'Usage_Percentage',\n",
        "      'Assits to Usage': 'Assists_To_Usage_Ratio',\n",
        "      'Assists to Turnovers': 'Assists_To_Turnovers_Ratio'\n",
        "  }\n",
        "\n",
        "  # Start SQL Query Gen\n",
        "  sql_query =f\"insert into Stats values ('{stats_id}', \"\n",
        "\n",
        "  for key in needed_keys.keys():\n",
        "    # Grab necessary\n",
        "    # If the key involves a tuple, use the created splitting function\n",
        "    if type(needed_keys[key]) == tuple:\n",
        "      value = made_to_attempted_conversion(player[key])\n",
        "      sql_query += f\"{value[0]}, {value[1]}, \"\n",
        "    # If not, just grab the value\n",
        "    else:\n",
        "      value = player[key]\n",
        "      # Add it to the prompt\n",
        "      sql_query += f\"{player[key]}, \"\n",
        "\n",
        "  # Delete trailing comma\n",
        "  sql_query = sql_query[:-2]\n",
        "\n",
        "  # Close everything up\n",
        "  sql_query += \");\"\n",
        "\n",
        "  return sql_query"
      ],
      "metadata": {
        "id": "nXDY8TDpNs3v"
      },
      "execution_count": 95,
      "outputs": []
    },
    {
      "cell_type": "code",
      "source": [
        "print(player['Team'])"
      ],
      "metadata": {
        "colab": {
          "base_uri": "https://localhost:8080/"
        },
        "id": "BWBii17cZZl-",
        "outputId": "96362b5c-20ef-4e5e-d152-3ddd78a71599"
      },
      "execution_count": 23,
      "outputs": [
        {
          "output_type": "stream",
          "name": "stdout",
          "text": [
            "Georgia\n"
          ]
        }
      ]
    },
    {
      "cell_type": "code",
      "source": [
        "# Get list of all college names\n",
        "college_soup = get_soup('https://www.ncsasports.org/mens-basketball/colleges')\n",
        "college_table = college_soup.find('section', {'class': 'wp-block-ncsa-college-list'})\n",
        "college_rows = college_table.find_all('div', {'itemprop': 'itemListElement'})\n",
        "\n",
        "colleges = []\n",
        "college_and_division = {}\n",
        "for div in college_rows:\n",
        "  name_div = div.find('div', {'itemprop': 'name'})\n",
        "  division_div = div.find_all('div')[-1].get_text(strip=True)\n",
        "  name = name_div.text\n",
        "  colleges.append(name)\n",
        "  college_and_division[name] = division_div"
      ],
      "metadata": {
        "id": "jN5bAMq_1wkz"
      },
      "execution_count": 25,
      "outputs": []
    },
    {
      "cell_type": "code",
      "source": [
        "# Get the remaining college\n",
        "college_info = {}\n",
        "for div in college_rows:\n",
        "  name = div.find('div', {'itemprop': 'name'}).text\n",
        "  college_info[name] = {\n",
        "      'College_City': div.find('span', {'itemprop': 'addressLocality'}),\n",
        "      'College_State': div.find('span', {'itemprop': 'addressRegion'}),\n",
        "      'Conference': div.find('div', {'itemprop': 'member'}).text\n",
        "  }\n",
        "  if college_info[name]['College_City'] is not None:\n",
        "    college_info[name]['College_City'] = college_info[name]['College_City'].text\n",
        "  else:\n",
        "    college_info[name]['College_City'] = ''\n",
        "  if college_info[name]['College_State'] is not None:\n",
        "    college_info[name]['College_State'] = college_info[name]['College_State'].text\n",
        "  else:\n",
        "    college_info[name]['College_State'] = ''"
      ],
      "metadata": {
        "id": "zoKh7XqEu2wt"
      },
      "execution_count": 63,
      "outputs": []
    },
    {
      "cell_type": "code",
      "source": [
        "print(colleges)\n",
        "print(college_and_division)"
      ],
      "metadata": {
        "colab": {
          "base_uri": "https://localhost:8080/"
        },
        "id": "rCo1Wm7I2ERi",
        "outputId": "cf98b07a-69bd-40a7-b12c-0e33f5ea7904"
      },
      "execution_count": 26,
      "outputs": [
        {
          "output_type": "stream",
          "name": "stdout",
          "text": [
            "['Abilene Christian University', 'Academy of Art University', 'Adams State University', 'Adelphi University', 'Adrian College', 'Alabama A&M University', 'Alabama State University', 'Albany State University', 'Albany Technical College', 'Albertus Magnus College', 'Albion College', 'Albright College', 'Alcorn State University', 'Alderson Broaddus University', 'Alfred University', 'Alice Lloyd College', 'Allan Hancock College', 'Allegany College of Maryland', 'Allegheny College', 'Allen Community College', 'Allen University', 'Alliance University', 'Alma College', 'Alpena Community College', 'Alvernia University', 'American International College', 'American River College', 'American University', 'Amherst College', 'Anderson University – Indiana', 'Anderson University – South Carolina', 'Andrew College', 'Angelina College', 'Angelo State University', 'Anna Maria College', 'Anne Arundel Community College', 'Anoka-Ramsey Community College', 'Appalachian State University', 'Aquinas College – Michigan', 'Arcadia University', 'Arizona Christian University', 'Arizona State University', 'Arizona Western College', 'Arkansas Baptist College', 'Arkansas State University', 'Arkansas State University – Mid-South', 'Arkansas Tech University', 'ASA College – Miami', 'Asbury University', 'Ashland University', 'Assumption University', 'Atlantic Cape Community College', 'Auburn University', 'Auburn University – Montgomery', 'Augsburg University', 'Augusta University', 'Augustana College – Illinois', 'Augustana University – South Dakota', 'Aurora University', 'Austin College', 'Austin Peay State University', 'Ave Maria University', 'Averett University', 'Avila University', 'Azusa Pacific University', 'Babson College', 'Bacone College', 'Baker University', 'Bakersfield College', 'Baldwin Wallace University', 'Ball State University', 'Baltimore City Community College', 'Bard College', 'Barry University', 'Barstow Community College', 'Barton College', 'Barton Community College', 'Bates College', 'Baton Rouge Community College', 'Bay College', 'Baylor University', 'Belhaven University', 'Bellarmine University', 'Bellarmine University', 'Bellevue College', 'Bellevue University', 'Belmont Abbey College', 'Belmont University', 'Beloit College', 'Bemidji State University', 'Benedict College', 'Benedictine College', 'Benedictine University', 'Benedictine University – Mesa', 'Bentley University', 'Berea College', 'Bergen Community College', 'Berry College', 'Bethany College – Kansas', 'Bethany College – West Virginia', 'Bethany Lutheran College', 'Bethel College – Kansas', 'Bethel University – Indiana', 'Bethel University – Minnesota', 'Bethel University – Tennessee', 'Bethune-Cookman University', 'Bevill State Community College', 'Big Bend Community College', 'Biola University', 'Birmingham-Southern College', 'Bishop State Community College', 'Bismarck State College', 'Black Hawk College – East Campus', 'Black Hawk College – Quad Cities', 'Black Hills State University', 'Blackburn College', 'Blinn College', 'Bloomfield College', 'Bloomsburg University of Pennsylvania', 'Blue Mountain College', 'Blue Mountain Community College', 'Bluefield State University', 'Bluefield University', 'Bluffton University', 'Boise State University', 'Bossier Parish Community College', 'Boston College', 'Boston University', 'Bowdoin College', 'Bowie State University', 'Bowling Green State University', 'Bradley University', 'Brandeis University', 'Brescia University', 'Brevard College', 'Brewton-Parker College', 'Briar Cliff University', 'Bridgewater College', 'Bridgewater State University', 'Brigham Young University', 'Bristol Community College', 'Brookdale Community College', 'Brookhaven College', 'Brown University', 'Brunswick Community College', 'Bryan College – Tennessee', 'Bryant & Stratton College – Milwaukee', 'Bryant & Stratton College – Ohio', 'Bryant & Stratton College – Virginia', 'Bryant University', 'Bucknell University', 'Bucks County Community College', 'Buena Vista University', 'Bunker Hill Community College', 'Bushnell University', 'Butler Community College', 'Butler County Community College', 'Butler University', 'Butte College', 'Cabrini University', 'Cairn University', 'Cal Poly Humboldt', 'Caldwell Community College & Technical Institute', 'Caldwell University', 'Calhoun Community College', 'California Baptist University', 'California Institute of Technology', 'California Lutheran University', 'California Polytechnic State University – San Luis Obispo', 'California State Polytechnic University – Pomona', 'California State University – Bakersfield', 'California State University – Chico', 'California State University – Dominguez Hills', 'California State University – East Bay', 'California State University – Fresno', 'California State University – Fullerton', 'California State University – Long Beach', 'California State University – Los Angeles', 'California State University – Monterey Bay', 'California State University – Northridge', 'California State University – Sacramento', 'California State University – San Bernardino', 'California State University – San Marcos', 'California State University – Stanislaus', 'California State University Maritime Academy', 'Calumet College of St. Joseph', 'Calvin University', 'Camden County College', 'Cameron University', 'Campbell University', 'Campbellsville University', 'Canisius College', 'Cape Fear Community College', 'Capital University', 'Carl Sandburg College', 'Carleton College', 'Carlow University', 'Carnegie Mellon University', 'Carroll College', 'Carroll University', 'Carson-Newman University', 'Carthage College', 'Case Western Reserve University', 'Casper College', 'Castleton University', 'Catawba College', 'Catawba Valley Community College', 'Catholic University of America', 'Cecil College', 'Cedar Valley College', 'Cedarville University', 'Centenary College of Louisiana', 'Centenary University – New Jersey', 'Central Arizona College', 'Central Baptist College', 'Central Carolina Community College', 'Central Christian College of Kansas', 'Central College', 'Central Community College', 'Central Connecticut State University', 'Central Georgia Technical College', 'Central Lakes College – Brainerd', 'Central Maine Community College', 'Central Methodist University', 'Central Michigan University', 'Central State University', 'Central Washington University', 'Central Wyoming College', 'Centralia College', 'Centre College', 'Chabot College', 'Chadron State College', 'Chaffey College', 'Chaminade University of Honolulu', 'Chandler-Gilbert Community College', 'Chapman University', 'Charleston Southern University', 'Chatham University', 'Chattahoochee Valley Community College', 'Chattanooga State Community College', 'Chemeketa Community College', 'Chesapeake College', 'Chestnut Hill College', 'Chicago State University', 'Chipola College', 'Chowan University', 'Christian Brothers University', 'Christopher Newport University', 'Citrus College', 'City Colleges of Chicago – Kennedy-King College', 'City Colleges of Chicago – Malcolm X College', 'City Colleges of Chicago – Olive-Harvey College', 'Clackamas Community College', 'Claflin University', 'Claremont-Mudd-Scripps Colleges', 'Clarendon College', 'Clark Atlanta University', 'Clark State College', 'Clark University', 'Clarke University', 'Clarks Summit University', 'Clarkson University', 'Clayton State University', 'Clemson University', 'Cleveland State Community College', 'Cleveland State University', 'Cloud County Community College', 'Coahoma Community College', 'Coastal Alabama Community College – Bay Minette (South)', 'Coastal Alabama Community College – Monroeville (North)', 'Coastal Bend College', 'Coastal Carolina University', 'Cochise College', 'Coe College', 'Coffeyville Community College', 'Coker University', 'Colby College', 'Colby Community College', 'Colby-Sawyer College', 'Colgate University', 'College of Charleston', 'College of Coastal Georgia', 'College of DuPage', 'College of Lake County', 'College of Marin', 'College of Mount Saint Vincent', 'College of Southern Idaho', 'College of Southern Maryland', 'College of Southern Nevada', 'College of the Canyons', 'College of the Desert', 'College of the Holy Cross', 'College of the Redwoods', 'College of the Sequoias', 'College of Wooster', 'Collin College', 'Colorado Christian University', 'Colorado College', 'Colorado Mesa University', 'Colorado Northwestern Community College', 'Colorado School of Mines', 'Colorado State University', 'Colorado State University – Pueblo', 'Columbia Basin College', 'Columbia College – California', 'Columbia College – Missouri', 'Columbia International University', 'Columbia State Community College', 'Columbia University', 'Columbia-Greene Community College', 'Columbus State University', 'Community Christian College', 'Community College of Allegheny County', 'Community College of Beaver County', 'Community College of Philadelphia', 'Community College of Rhode Island', 'Concord University', 'Concordia College – Minnesota', 'Concordia University – Ann Arbor', 'Concordia University – Chicago', 'Concordia University – Irvine', 'Concordia University – Nebraska', 'Concordia University – Texas', 'Concordia University Wisconsin', 'Concordia University, St. Paul – Minnesota', 'Connecticut College', 'Connors State College', 'Converse University', 'Copiah-Lincoln Community College', 'Copper Mountain College', 'Coppin State University', 'Corban University', 'Cornell College', 'Cornell University', 'Cornerstone University', 'Corning Community College', 'County College of Morris', 'Covenant College', 'Cowley County Community College', 'Creighton University', \"Crowley's Ridge College\", 'Crown College', 'Culinary Institute of America', 'Culver-Stockton College', 'Cumberland University', 'Curry College', 'Cuyahoga Community College', 'Cuyamaca College', 'Cypress College', \"D'Youville University\", 'Daemen University', 'Dakota College at Bottineau', 'Dakota State University', 'Dakota Wesleyan University', 'Dallas Baptist University', 'Dallas College-Mountain View ', 'Danville Area Community College', 'Dartmouth College', 'Davenport University', 'Davidson College', 'Davidson County Community College', 'Davis & Elkins College', 'Dawson Community College', 'Daytona State College', 'Dean College', 'Defiance College', 'Delaware County Community College', 'Delaware State University', 'Delaware Technical Community College', 'Delaware Valley University', 'Delgado Community College', 'Delta College – Michigan', 'Delta State University', 'Denison University', 'Denmark Technical College', 'DePaul University', 'DePauw University', 'Des Moines Area Community College', 'DeSales University', 'Dickinson College', 'Dickinson State University', 'Dillard University', 'Doane University', 'Dodge City Community College', 'Dominican University – Illinois', 'Dominican University – New York', 'Dominican University of California', 'Dordt University', 'Drake University', 'Drew University', 'Drexel University', 'Drury University', 'Duke University', 'Duquesne University', 'Dyersburg State Community College', 'Earlham College', 'East Carolina University', 'East Central Community College', 'East Central University', 'East Georgia State College', 'East Los Angeles College', 'East Mississippi Community College', 'East Stroudsburg University of Pennsylvania', 'East Tennessee State University', 'East Texas Baptist University', 'Eastern Arizona College', 'Eastern Connecticut State University', 'Eastern Florida State College', 'Eastern Illinois University', 'Eastern Kentucky University', 'Eastern Mennonite University', 'Eastern Michigan University', 'Eastern Nazarene College', 'Eastern New Mexico University', 'Eastern Oklahoma State College', 'Eastern Oregon University', 'Eastern University', 'Eastern Washington University', 'Eastern Wyoming College', 'Eastfield College', 'Eckerd College', 'Edgewood College', 'Edison State Community College', 'Edmonds College', 'Edward Waters University', 'El Camino College', 'Elgin Community College', 'Elizabeth City State University', 'Elizabethtown College', 'Ellsworth Community College', 'Elmhurst University', 'Elmira College', 'Elms College', 'Elon University', 'Embry-Riddle Aeronautical University', 'Embry-Riddle Aeronautical University (Arizona Campus)', 'Emerson College', 'Emmanuel College – Georgia', 'Emmanuel College – Massachusetts', 'Emory & Henry College', 'Emory University', 'Emporia State University', 'Endicott College', 'Enterprise State Community College', 'Erskine College', 'Essex County College', 'Eureka College', 'Evangel University', 'Everett Community College', 'Evergreen State College', 'Fairfield University', 'Fairleigh Dickinson University', 'Fairleigh Dickinson University – College at Florham', 'Fairmont State University', 'Faulkner University', 'Fayetteville State University', 'Fayetteville Technical Community College', 'Feather River College', 'Felician University', 'Ferris State University', 'Ferrum College', 'Finger Lakes Community College', 'Finlandia University', 'Fisher College', 'Fisk University', 'Fitchburg State University', 'Flagler College – St. Augustine', 'Florida A&M University', 'Florida Atlantic University', 'Florida College', 'Florida Gulf Coast University', 'Florida International University', 'Florida Memorial University', 'Florida Southern College', 'Florida SouthWestern State College', 'Florida State College at Jacksonville', 'Florida State University', 'Fontbonne University', 'Fordham University', 'Fort Berthold Community College', 'Fort Hays State University', 'Fort Lewis College', 'Fort Scott Community College', 'Fort Valley State University', 'Framingham State University', 'Francis Marion University', 'Franciscan University of Steubenville', 'Frank Phillips College', 'Franklin & Marshall College', 'Franklin College', 'Franklin Pierce University', 'Frederick Community College', 'Freed-Hardeman University', 'Fresno City College', 'Fresno Pacific University', 'Friends University', 'Frostburg State University', 'Furman University', 'Gadsden State Community College', 'Gallaudet University', 'Gannon University', 'Garden City Community College', 'Gardner-Webb University', 'Garrett College', 'Gaston College', 'Gateway Community College – Connecticut', 'Geneva College', 'George Fox University', 'George Mason University', 'George Washington University', 'Georgetown College', 'Georgetown University', 'Georgia College & State University', 'Georgia Highlands College', 'Georgia Southern University', 'Georgia Southwestern State University', 'Georgia State University', 'Georgia Tech', 'Georgian Court University', 'Gettysburg College', 'Glen Oaks Community College', 'Glendale Community College – Arizona', 'Glenville State University', 'Gogebic Community College', 'Goldey-Beacom College', 'Gonzaga University', 'Gordon College', 'Gordon State College', 'Goshen College', 'Goucher College', 'Grace College', 'Graceland University', 'Grambling State University', 'Grand Canyon University', 'Grand Rapids Community College', 'Grand Valley State University', 'Grand View University', 'Grays Harbor College', 'Grayson College', 'Great Bay Community College', 'Greensboro College', 'Greenville University', 'Grinnell College', 'Grove City College', 'Guilford College', 'Guilford Technical Community College', 'Gulf Coast State College', 'Gustavus Adolphus College', 'Gwynedd Mercy University', 'Hagerstown Community College', 'Hamilton College', 'Hamline University', 'Hamline University', 'Hampden-Sydney College', 'Hampton University', 'Hannibal-LaGrange University', 'Hanover College', 'Harcum College', 'Hardin-Simmons University', 'Harding University', 'Harford Community College', 'Harper College', 'Harris-Stowe State University', 'Harrisburg Area Community College', 'Harry S Truman College', 'Hartwick College', 'Harvard University', 'Hastings College', 'Haverford College', 'Hawaii Pacific University', 'Heidelberg University', 'Henderson State University', 'Hendrix College', 'Henry Ford College', 'Hesston College', 'Hibbing Community College – A Technical & Community College', 'High Point University', 'Highland Community College – Illinois', 'Highland Community College – Kansas', 'Highline College', 'Hilbert College', 'Hill College', 'Hillsborough Community College', 'Hillsdale College', 'Hinds Community College', 'Hiram College', 'Hobart & William Smith College', 'Hocking College', 'Hofstra University', 'Holmes Community College', 'Holy Family University', 'Holy Names University', 'Holyoke Community College', 'Hood College', 'Hope College', 'Hope International University', 'Houghton University', 'Houston Christian University', 'Howard College', 'Howard Community College', 'Howard Payne University', 'Howard University', 'Huntingdon College', 'Huntington University', 'Husson University', 'Huston-Tillotson University', 'Hutchinson Community College', 'Idaho State University', 'Illinois Central College', 'Illinois College', 'Illinois Institute of Technology', 'Illinois State University', 'Illinois Valley Community College', 'Illinois Wesleyan University', 'Immaculata University', 'Independence Community College', 'Indian Hills Community College', 'Indian River State College', 'Indiana State University', 'Indiana Tech', 'Indiana University', 'Indiana University – East', 'Indiana University – Kokomo', 'Indiana University – Northwest', 'Indiana University – South Bend', 'Indiana University – Southeast', 'Indiana University of Pennsylvania', 'Indiana University-Purdue University – Indianapolis (IUPUI)', 'Indiana Wesleyan University', 'Iona University', 'Iowa Central Community College', 'Iowa Lakes Community College – Estherville Campus', 'Iowa State University', 'Iowa Western Community College', 'Itasca Community College', 'Itawamba Community College — Fulton Campus', 'Ithaca College', 'Jackson College', 'Jackson State Community College', 'Jackson State University', 'Jacksonville College', 'Jacksonville State University', 'Jacksonville University', 'James Madison University', 'Jarvis Christian University', 'Jefferson College', 'John A Logan College', 'John Brown University', 'John Carroll University', 'John Wood Community College', 'Johns Hopkins University', 'Johnson & Wales University – Providence', 'Johnson C. Smith University', 'Johnson County Community College', 'Johnson University', 'Johnston Community College', 'Joliet Junior College', 'Jones County Junior College', 'Judson University', 'Juniata College', 'Kalamazoo College', 'Kalamazoo Valley Community College', 'Kankakee Community College', 'Kansas City Kansas Community College', 'Kansas State University', 'Kansas Wesleyan University', 'Kaskaskia College', 'Kean University', 'Keene State College', 'Keiser University', 'Kellogg Community College', 'Kennesaw State University', 'Kent State University', 'Kentucky Christian University', 'Kentucky State University', 'Kentucky Wesleyan College', 'Kenyon College', 'Keuka College', 'Keystone College', 'Kilgore College', 'King University – Tennessee', \"King's College – Pennsylvania\", 'Kirkwood Community College', 'Kirtland Community College', 'Kishwaukee College', 'Knox College', 'Kutztown University of Pennsylvania', 'La Roche University', 'La Salle University', 'La Sierra University', 'Labette Community College', 'Lackawanna College', 'Lafayette College', 'LaGrange College', 'Lake Erie College', 'Lake Forest College', 'Lake Land College', 'Lake Michigan College', 'Lake Region State College', 'Lake Superior State University', 'Lakeland Community College', 'Lakeland University', 'Lamar Community College', 'Lamar State College', 'Lamar University', 'Lancaster Bible College', 'Lander University', 'Lane College', 'Lane Community College', 'Langston University', 'Lansing Community College', 'Laramie County Community College', 'Lasell University', 'Lassen Community College', 'Lawrence Technological University', 'Lawrence University', 'Lawson State Community College – Birmingham', 'Le Moyne College', 'Lebanon Valley College', 'Lee University', 'Lees-McRae College', 'Lehigh Carbon Community College', 'Lehigh University', 'LeMoyne-Owen College', 'Lenoir Community College', 'Lenoir-Rhyne University', 'Lesley University', 'Lewis & Clark College', 'Lewis & Clark Community College', 'Lewis University', 'Lewis-Clark State College', 'Liberty University', 'Life Pacific University', 'Life University', 'Limestone University', 'Lincoln Land Community College', 'Lincoln Memorial University', 'Lincoln Trail College', 'Lincoln University – Missouri', 'Lincoln University Pennsylvania', 'Lindenwood University', 'Lindenwood University', 'Lindsey Wilson College', 'Linfield University', 'Linn-Benton Community College', 'Lipscomb University', 'Little Big Horn College', 'Livingstone College', 'Lock Haven University', 'Long Island University', 'Longwood University', 'Lorain County Community College', 'Loras College', 'Los Angeles Harbor College', 'Los Angeles Southwest College', 'Los Angeles Trade – Technical College', 'Los Angeles Valley College', 'Louisburg College', 'Louisiana Christian University', 'Louisiana State University – Alexandria', 'Louisiana State University – Eunice', 'Louisiana State University – Shreveport', 'Louisiana State University (LSU)', 'Louisiana Tech University', 'Lourdes University', 'Lower Columbia College', 'Loyola Marymount University', 'Loyola University Chicago', 'Loyola University Maryland', 'Loyola University New Orleans', 'Lubbock Christian University', 'Lurleen B Wallace Community College', 'Luther College', 'Luzerne County Community College', 'Lycoming College', 'Lynn University', 'Lyon College', 'Macalester College', 'Macomb Community College', 'Madison College', 'Madonna University', 'Maine Maritime Academy', 'Malone University', 'Manchester University', 'Manhattan College', 'Manhattanville College', 'Manor College', 'Mansfield University of Pennsylvania', 'Maranatha Baptist University', 'Marian University – Indiana', 'Marian University – Wisconsin', \"Marian University's Ancilla College\", 'Marietta College', 'Marion Military Institute', 'Marist College', 'Marquette University', 'Mars Hill University', 'Marshall University', 'Marshalltown Community College', 'Martin Luther College', 'Mary Baldwin University', 'Marymount University (VA)', 'Maryville College', 'Maryville University', 'Marywood University', 'Massachusetts Bay Community College', 'Massachusetts College of Liberal Arts', 'Massachusetts Institute of Technology – MIT', 'Massasoit Community College', 'Mayville State University', 'McCook Community College', 'McDaniel College', 'McHenry County College', 'McKendree University', 'McLennan Community College', 'McMurry University', 'McNeese State University', 'McPherson College', 'Medaille University', 'Menlo College', 'Merced College', 'Mercer County Community College', 'Mercer University', 'Mercy College', 'Mercyhurst University', 'Meridian Community College', 'Merrimack College', 'Merritt College', 'Mesa Community College', 'Mesabi Range College', 'Messiah University', 'Methodist University', 'Metropolitan Community College', 'Metropolitan State University of Denver', 'Miami Dade College', 'Miami University', 'Miami University – Hamilton', 'Miami University – Middletown', 'Michigan State University', 'Michigan Technological University', 'Mid Michigan Community College', 'Mid-America Christian University', 'MidAmerica Nazarene University', 'Middle Georgia State University', 'Middle Tennessee State University', 'Middlebury College', 'Middlesex College', 'Midland College', 'Midland University', 'Midway University', 'Midwestern State University', 'Miles College', 'Miles Community College', 'Millersville University of Pennsylvania', 'Milligan University', 'Millikin University', 'Millsaps College', 'Milwaukee Area Technical College', 'Milwaukee School of Engineering', 'Mineral Area College', 'Minnesota North College – Vermilion', 'Minnesota State Community & Technical College', 'Minnesota State University – Mankato', 'Minnesota State University – Moorhead', 'Minnesota West Community & Technical College', 'Minot State University', 'MiraCosta College', 'Misericordia University', 'Mississippi College', 'Mississippi Delta Community College', 'Mississippi Gulf Coast Community College', 'Mississippi State University', 'Mississippi Valley State University', 'Missouri Baptist University', 'Missouri Southern State University', 'Missouri State University', 'Missouri State University – West Plains', 'Missouri University of Science & Technology', 'Missouri Valley College', 'Missouri Western State University', 'Mitchell College', 'Moberly Area Community College', 'Modesto Junior College', 'Molloy University', 'Monmouth College', 'Monmouth University', 'Monroe College – New Rochelle', 'Montana State University', 'Montana State University – Billings', 'Montana State University – Northern', 'Montana Tech of the University of Montana', 'Montclair State University', 'Montgomery College', 'Montgomery County Community College', 'Montreat College', 'Moorpark College', 'Moraine Valley Community College', 'Moravian University', 'Morehead State University', 'Morehouse College', 'Morgan State University', 'Morningside University', 'Morris College', 'Morton College', 'Motlow State Community College', 'Mott Community College', 'Mount Aloysius College', 'Mount Marty University', 'Mount Mercy University', 'Mount Saint Mary College – New York', 'Mount St. Joseph University', \"Mount St. Mary's University\", 'Mount Vernon Nazarene University', 'Mountain Gateway Community College', 'Mountain View College', 'Mt. Hood Community College', 'Mt. San Antonio College', 'Mt. San Jacinto College', 'Muhlenberg College', 'Multnomah University', 'Murray State College', 'Murray State University', 'Muskegon Community College', 'Muskingum University', 'Nassau Community College', 'Navarro College', 'Nazareth College', 'Nebraska Wesleyan University', 'Neosho County Community College', 'Neumann University', 'New College of Florida', 'New England College', 'New Jersey City University', 'New Jersey Institute of Technology', 'New Mexico Highlands University', 'New Mexico Junior College', 'New Mexico Military Institute', 'New Mexico State University', 'New York University', 'Newberry College', 'Newman University', 'Niagara University', 'Nicholls State University', 'Nichols College', 'Norfolk State University', 'North American University', 'North Arkansas College', 'North Carolina A&T State University', 'North Carolina Central University', 'North Carolina State University', 'North Carolina Wesleyan College', 'North Central College', 'North Central Missouri College', 'North Central University', 'North Dakota State College of Science', 'North Dakota State University', 'North Greenville University', 'North Idaho College', 'North Iowa Area Community College', 'North Lake College', 'North Park University', 'North Platte Community College', 'Northampton County Area Community College', 'Northeast Community College', 'Northeast Mississippi Community College', 'Northeastern Junior College', 'Northeastern Oklahoma A&M College', 'Northeastern State University', 'Northeastern University', 'Northern Arizona University', 'Northern Essex Community College', 'Northern Illinois University', 'Northern Kentucky University', 'Northern Michigan University', 'Northern New Mexico College', 'Northern Oklahoma College', 'Northern Oklahoma College – Enid', 'Northern State University', 'Northern Vermont University – Lyndon', 'Northern Virginia Community College', 'Northland College', 'Northland Community & Technical College', 'Northwest College – Wyoming', 'Northwest Florida State College', 'Northwest Kansas Technical College', 'Northwest Mississippi Community College', 'Northwest Missouri State University', 'Northwest Nazarene University', 'Northwest University', 'Northwestern College – Iowa', 'Northwestern Oklahoma State University', 'Northwestern State University of Louisiana', 'Northwestern University', 'Northwood University – Michigan', 'Norwich University', 'Notre Dame College', 'Nova Southeastern University', 'Oakland City University', 'Oakland Community College', 'Oakland University', 'Oakton College', 'Oberlin College', 'Occidental College', 'Ocean County College', 'Odessa College', 'Oglethorpe University', 'Ohio Christian University', 'Ohio Dominican University', 'Ohio Northern University', 'Ohio State University', 'Ohio University', 'Ohio Wesleyan University', 'Oklahoma Baptist University', 'Oklahoma Christian University', 'Oklahoma City University', 'Oklahoma Panhandle State University', 'Oklahoma State University', 'Oklahoma Wesleyan University', 'Old Dominion University', 'Olivet College', 'Olivet Nazarene University', 'Olney Central College', 'Olympic College', 'Onondaga Community College', 'Oral Roberts University', 'Orange Coast College', 'Oregon Institute of Technology', 'Oregon State University', 'Otero Junior College', 'Ottawa University', 'Ottawa University – Arizona', 'Otterbein University', 'Ouachita Baptist University', 'Our Lady of the Lake University', 'Owens Community College', 'Oxford College of Emory University', 'Pace University', 'Pacific Lutheran University', 'Pacific Union College', 'Pacific University', 'Palm Beach Atlantic University', 'Palm Beach State College', 'Palo Verde College', 'Palomar College', 'Panola College', 'Paris Junior College', 'Park University', 'Parkland College', 'Pasadena City College', 'Pasco-Hernando State College', 'Passaic County Community College', 'Patrick & Henry Community College', 'Paul Quinn College', 'Pearl River Community College', 'Peninsula College', 'Penn State', 'Penn State Abington', 'Penn State Altoona', 'Penn State Berks', 'Penn State Erie – The Behrend College', 'Penn State Harrisburg', 'Pennsylvania College of Technology', 'Pennsylvania Highlands Community College', 'Pensacola State College', 'Pepperdine University', 'Peru State College', 'Pfeiffer University', 'Phoenix College', 'Piedmont University', 'Pierce College at Fort Steilacoom', 'Pima Community College', 'Pitt Community College', 'Pittsburg State University', 'Plymouth State University', 'Point Loma Nazarene University', 'Point Park University', 'Point University', 'Polk State College', 'Pomona-Pitzer Colleges', 'Porterville College', 'Portland Community College — Cascade Campus', 'Portland State University', 'Post University', 'Prairie State College', 'Prairie View A & M University', 'Pratt Community College', 'Pratt Institute', 'Presbyterian College', \"Prince George's Community College\", 'Princeton University', 'Principia College', 'Providence College', 'Purdue University', 'Purdue University – Fort Wayne', 'Purdue University – Northwest', 'Queens University of Charlotte', 'Queens University of Charlotte', 'Quincy College', 'Quincy University', 'Quinnipiac University', 'Quinsigamond Community College', 'Radford University', 'Rainy River Community College', 'Ramapo College of New Jersey', 'Randolph College', 'Randolph-Macon College', 'Ranger College', 'Raritan Valley Community College', 'Redlands Community College', 'Reedley College', 'Regis College', 'Regis University', 'Reinhardt University', 'Rend Lake College', 'Rensselaer Polytechnic Institute – RPI', 'Rhode Island College', 'Rhodes College', 'Rice University', 'Richard Bland College', 'Richland College', 'Rider University', 'Ridgewater College', 'Ripon College', 'Riverland Community College', 'Rivier University', 'Roane State Community College', 'Roanoke College', 'Robert Morris University – Pennsylvania', 'Roberts Wesleyan University', 'Rochester Community & Technical College', 'Rochester Institute of Technology', 'Rochester University', 'Rock Valley College', 'Rockford University', 'Rockhurst University', 'Rocky Mountain College', 'Roger Williams University', 'Rogers State University', 'Rollins College', 'Roosevelt University', 'Rose-Hulman Institute of Technology', 'Rosemont College', 'Rowan College – South Jersey (Formerly Cumberland County College)', 'Rowan College – South Jersey (Gloucester)', 'Rowan University', 'Roxbury Community College', 'Russell Sage College', 'Rutgers University', 'Rutgers University – Newark', 'Sacramento City College', 'Sacred Heart University', 'Saddleback College', 'Saginaw Valley State University', 'Saint Anselm College', \"Saint Augustine's University\", 'Saint Elizabeth University', 'Saint Francis University', \"Saint John's University – Minnesota\", \"Saint Joseph's College of Maine\", \"Saint Joseph's University\", 'Saint Leo University', 'Saint Louis University', \"Saint Martin's University\", \"Saint Mary's College of California\", \"Saint Mary's University of Minnesota\", \"Saint Michael's College\", \"Saint Peter's University\", 'Saint Vincent College – Pennsylvania', 'Saint Xavier University', 'Salem Community College', 'Salem State University', 'Salem University', 'Salisbury University', 'Salt Lake Community College', 'Salve Regina University', 'Sam Houston State University', 'Samford University', 'San Bernardino Valley College', 'San Diego Christian College', 'San Diego City College', 'San Diego Miramar College', 'San Diego State University', 'San Francisco State University', 'San Jose City College', 'San Jose State University', 'Sandhills Community College', 'Santa Barbara City College', 'Santa Clara University', 'Santa Fe College', 'Santa Monica College', 'Santa Rosa Junior College', 'Santiago Canyon College', 'Sarah Lawrence College', 'Sauk Valley Community College', 'Savannah State University', 'Schoolcraft College', 'Schreiner University', 'Scottsdale Community College', 'Seattle Pacific University', 'Seattle University', 'Seminole State College', 'Seton Hall University', 'Seton Hill University', 'Sewanee – The University of the South', 'Seward County Community College', 'Shasta College', 'Shaw University', 'Shawnee Community College', 'Shawnee State University', 'Shelton State Community College', 'Shenandoah University', 'Shepherd University', 'Shippensburg University of Pennsylvania', 'Shoreline Community College', 'Shorter University', 'Siena College', 'Siena Heights University', 'Simmons College of Kentucky', 'Simpson College', 'Simpson University', 'Sinclair Community College', 'Skagit Valley College', 'Skidmore College', 'Skyline College – San Bruno', 'Slippery Rock University', 'Snead State Community College', 'Snow College', 'Sonoma State University', 'South Arkansas Community College', 'South Carolina State University', 'South Dakota Mines', 'South Dakota State University', 'South Georgia State College', 'South Georgia Technical College', 'South Mountain Community College', 'South Plains College', 'South Puget Sound Community College', 'South Suburban College', 'Southeast Community College – Lincoln', 'Southeast Missouri State University', 'Southeastern Community College – Iowa', 'Southeastern Illinois College', 'Southeastern Louisiana University', 'Southeastern Oklahoma State University', 'Southeastern University', 'Southern Arkansas University', 'Southern Arkansas University Tech', 'Southern Connecticut State University', 'Southern Crescent Technical College', 'Southern Illinois University Carbondale', 'Southern Illinois University Edwardsville', 'Southern Maine Community College', 'Southern Methodist University – SMU', 'Southern Nazarene University', 'Southern New Hampshire University', 'Southern Oregon University', 'Southern Union State Community College', 'Southern University & A&M College', 'Southern University at New Orleans', 'Southern University at Shreveport', 'Southern Utah University', 'Southern Virginia University', 'Southern Wesleyan University', 'Southwest Baptist University', 'Southwest Minnesota State University', 'Southwest Mississippi Community College', 'Southwest Tennessee Community College', 'Southwest Virginia Community College', 'Southwestern Assemblies of God University', 'Southwestern Christian College', 'Southwestern Christian University', 'Southwestern College – Kansas', 'Southwestern Community College', 'Southwestern Illinois College', 'Southwestern Oklahoma State University', 'Southwestern Oregon Community College', 'Southwestern University', 'Spalding University', 'Spartanburg Methodist College', 'Spokane Falls Community College', 'Spoon River College', 'Spring Arbor University', 'Spring Hill College', 'Springfield College', 'Springfield Technical Community College', 'St. Ambrose University', 'St. Andrews University', 'St. Bonaventure University', 'St. Catherine University', 'St. Clair County Community College', 'St. Cloud State University', 'St. Cloud Technical & Community College', \"St. Edward's University\", 'St. Francis College', 'St. John Fisher College', \"St. John's University – New York\", \"St. Joseph's College – Long Island\", \"St. Joseph's University – New York\", 'St. Lawrence University', 'St. Louis Community College – Forest Park', 'St. Louis Community College – Meramec', \"St. Mary's College of Maryland\", \"St. Mary's University – Texas\", 'St. Norbert College', 'St. Olaf College', 'St. Petersburg College', 'St. Thomas Aquinas College', 'St. Thomas University – Florida', 'Stanford University', 'State College of Florida – Manatee-Sarasota', 'State Fair Community College', 'Stephen F Austin State University', 'Sterling College – Kansas', 'Stetson University', 'Stevens Institute of Technology', 'Stevenson University', 'Stillman College', 'Stockton University', 'Stonehill College', 'Stonehill College', 'Suffolk County Community College', 'Suffolk University', 'Sul Ross State University', 'SUNY Adirondack Community College', 'SUNY Binghamton University', 'SUNY Broome Community College', 'SUNY Buffalo State University', 'SUNY Canton', 'SUNY Cayuga Community College', 'SUNY Clinton Community College', 'SUNY College at Brockport', 'SUNY College at Old Westbury', 'SUNY College at Oneonta', 'SUNY College of Agriculture & Technology at Cobleskill', 'SUNY Cortland', 'SUNY Dutchess Community College', 'SUNY Erie Community College', 'SUNY Farmingdale State College', 'SUNY Fredonia', 'SUNY Fulton-Montgomery Community College', 'SUNY Genesee Community College', 'SUNY Geneseo', 'SUNY Herkimer County Community College', 'SUNY Hudson Valley Community College', 'SUNY Jamestown Community College', 'SUNY Jefferson Community College', 'SUNY Maritime College', 'SUNY Mohawk Valley Community College', 'SUNY Monroe Community College', 'SUNY Morrisville', 'SUNY New Paltz', 'SUNY Niagara County Community College', 'SUNY North Country Community College', 'SUNY Orange County Community College', 'SUNY Oswego', 'SUNY Plattsburgh', 'SUNY Potsdam', 'SUNY Purchase College', 'SUNY Rockland Community College', 'SUNY Stony Brook University', 'SUNY Sullivan County Community College', 'SUNY Tompkins Cortland Community College', 'SUNY Ulster County Community College', 'SUNY University at Albany', 'SUNY University at Buffalo', 'SUNY Westchester Community College', 'Susquehanna University', 'Sussex County Community College', 'Swarthmore College', 'Syracuse University', 'Tabor College', 'Tacoma Community College', 'Talladega College', 'Tallahassee Community College', 'Tarleton State University', 'Tarleton State University', 'Taylor University', 'Temple College', 'Temple University', 'Tennessee State University', 'Tennessee Wesleyan University', 'Terra State Community College', 'Texas A&M International University', 'Texas A&M University', 'Texas A&M University – Commerce', 'Texas A&M University – Corpus Christi', 'Texas A&M University – Kingsville', 'Texas Christian University', 'Texas College', 'Texas Lutheran University', 'Texas Southern University', 'Texas State University', 'Texas Tech University', 'Texas Wesleyan University', 'Thaddeus Stevens College of Technology', 'The Citadel', 'The College of Idaho', 'The College of New Jersey', 'The College of Saint Rose', 'The College of St. Scholastica', 'The Community College of Baltimore County – Catonsville Campus', \"The Master's University\", \"The University of Virginia's College at Wise\", 'Thiel College', 'Thomas College', 'Thomas Jefferson University (Formerly Philadelphia University)', 'Thomas More University', 'Thomas University', 'Three Rivers College', 'Tiffin University', 'Tougaloo College', 'Towson University', 'Transylvania University', 'Treasure Valley Community College', 'Trevecca Nazarene University', 'Trine University', 'Trinidad State College', 'Trinity Christian College', 'Trinity College – Connecticut', 'Trinity University – Texas', 'Trinity Valley Community College', 'Triton College', 'Troy University', 'Truett-McConnell University', 'Truman State University', 'Tufts University', 'Tulane University', 'Tusculum University', 'Tuskegee University', 'Tyler Junior College', 'Umpqua Community College', 'Union College – Kentucky', 'Union College – New York', 'Union County College', 'Union University', 'United States Air Force Academy', 'United States Coast Guard Academy', 'United States Merchant Marine Academy', 'United States Military Academy', 'United States Naval Academy', 'United Tribes Technical College', 'University of Akron', 'University of Alabama', 'University of Alabama – Birmingham', 'University of Alabama – Huntsville', 'University of Alaska – Anchorage', 'University of Alaska – Fairbanks', 'University of Antelope Valley', 'University of Arizona', 'University of Arkansas', 'University of Arkansas – Cossatot', 'University of Arkansas – Fort Smith', 'University of Arkansas at Little Rock', 'University of Arkansas at Monticello', 'University of Arkansas at Pine Bluff', 'University of Bridgeport', 'University of California – Berkeley', 'University of California – Davis', 'University of California – Irvine', 'University of California – Los Angeles – UCLA', 'University of California – Merced', 'University of California – Riverside', 'University of California – San Diego', 'University of California – Santa Barbara', 'University of California – Santa Cruz', 'University of Central Arkansas', 'University of Central Florida', 'University of Central Florida', 'University of Central Missouri', 'University of Central Oklahoma', 'University of Charleston', 'University of Chicago', 'University of Cincinnati', 'University of Colorado – Boulder', 'University of Colorado – Colorado Springs', 'University of Connecticut', 'University of Connecticut – Avery Point', 'University of Dallas', 'University of Dayton', 'University of Delaware', 'University of Denver', 'University of Detroit Mercy', 'University of Dubuque', 'University of Evansville', 'University of Findlay', 'University of Florida', 'University of Georgia', 'University of Hartford', 'University of Hawaii at Hilo', 'University of Hawaii at Manoa', 'University of Health Sciences & Pharmacy in St. Louis (UHSP)', 'University of Houston', 'University of Houston – Downtown', 'University of Idaho', 'University of Illinois', 'University of Illinois at Chicago', 'University of Illinois at Springfield', 'University of Indianapolis', 'University of Iowa', 'University of Jamestown', 'University of Kansas', 'University of Kentucky', 'University of La Verne', 'University of Louisiana', 'University of Louisiana – Monroe', 'University of Louisville', 'University of Lynchburg', 'University of Maine', 'University of Maine at Farmington', 'University of Maine at Presque Isle', 'University of Mary', 'University of Mary Hardin-Baylor', 'University of Mary Washington', 'University of Maryland', 'University of Maryland – Baltimore County', 'University of Maryland Eastern Shore', 'University of Massachusetts – Amherst', 'University of Massachusetts – Boston', 'University of Massachusetts – Dartmouth', 'University of Massachusetts – Lowell', 'University of Memphis', 'University of Miami', 'University of Michigan', 'University of Michigan – Dearborn', 'University of Minnesota', 'University of Minnesota – Crookston', 'University of Minnesota – Duluth', 'University of Minnesota – Morris', 'University of Mississippi', 'University of Missouri', 'University of Missouri – Kansas City', 'University of Missouri – St. Louis', 'University of Mobile', 'University of Montana', 'University of Montana – Western', 'University of Montevallo', 'University of Mount Olive', 'University of Mount Union', 'University of Nebraska', 'University of Nebraska at Kearney', 'University of Nebraska at Omaha', 'University of Nevada – Las Vegas', 'University of Nevada – Reno', 'University of New England', 'University of New Hampshire', 'University of New Haven', 'University of New Mexico', 'University of New Orleans', 'University of North Alabama', 'University of North Carolina – Greensboro', 'University of North Carolina – Wilmington', 'University of North Carolina Asheville', 'University of North Carolina at Chapel Hill', 'University of North Carolina at Charlotte', 'University of North Carolina at Pembroke', 'University of North Dakota', 'University of North Florida', 'University of North Georgia', 'University of North Texas', 'University of North Texas at Dallas', 'University of Northern Colorado', 'University of Northern Iowa', 'University of Northwestern – St. Paul', 'University of Northwestern Ohio', 'University of Notre Dame', 'University of Oklahoma', 'University of Oregon', 'University of Pennsylvania – Penn', 'University of Pikeville', 'University of Pittsburgh', 'University of Pittsburgh – Bradford', 'University of Pittsburgh – Greensburg', 'University of Pittsburgh – Johnstown', 'University of Portland', 'University of Providence', 'University of Puget Sound', 'University of Redlands', 'University of Rhode Island', 'University of Richmond', 'University of Rio Grande', 'University of Rochester', 'University of Saint Francis – Indiana', 'University of Saint Joseph', 'University of Saint Katherine', 'University of Saint Mary', 'University of San Diego', 'University of San Francisco', 'University of Science & Arts of Oklahoma', 'University of Scranton', 'University of Sioux Falls', 'University of South Alabama', 'University of South Carolina', 'University of South Carolina – Salkehatchie', 'University of South Carolina – Upstate', 'University of South Carolina Aiken', 'University of South Dakota', 'University of South Florida', 'University of Southern California', 'University of Southern Indiana', 'University of Southern Maine', 'University of Southern Mississippi', 'University of St. Francis – Illinois', 'University of St. Thomas – Minnesota', 'University of St. Thomas – Texas', 'University of Tampa', 'University of Tennessee', 'University of Tennessee – Chattanooga', 'University of Tennessee – Martin', 'University of Texas – Arlington', 'University of Texas – Arlington', 'University of Texas – Austin', 'University of Texas – El Paso', 'University of Texas – Permian Basin', 'University of Texas – Rio Grande Valley', 'University of Texas – San Antonio', 'University of Texas at Dallas', 'University of the Cumberlands', 'University of the Incarnate Word', 'University of the Ozarks', 'University of the Pacific', 'University of the Southwest', 'University of Toledo', 'University of Tulsa', 'University of Utah', 'University of Vermont', 'University of Virginia', 'University of Washington', 'University of West Alabama', 'University of West Florida', 'University of West Georgia', 'University of Wisconsin', 'University of Wisconsin – Eau Claire', 'University of Wisconsin – Fond du Lac Campus', 'University of Wisconsin – Green Bay', 'University of Wisconsin – La Crosse', 'University of Wisconsin – Milwaukee', 'University of Wisconsin – Oshkosh', 'University of Wisconsin – Parkside', 'University of Wisconsin – Platteville', 'University of Wisconsin – River Falls', 'University of Wisconsin – Stevens Point', 'University of Wisconsin – Stout', 'University of Wisconsin – Superior', 'University of Wisconsin – Waukesha', 'University of Wisconsin – Whitewater', 'University of Wisconsin — Marinette', 'University of Wisconsin — Marshfield-Wood County Campus', 'University of Wyoming', 'Upper Iowa University', 'Ursinus College', 'Utah State University', 'Utah State University Eastern', 'Utah Tech University (Formerly Dixie State University)', 'Utah Valley University', 'Utica University', 'Valdosta State University', 'Valley City State University', 'Valparaiso University', 'Vance-Granville Community College', 'Vanderbilt University', 'Vanguard University of Southern California', 'Vassar College', 'Vermont State University – Johnson', 'Victor Valley College', 'Victoria College', 'Villanova University', 'Vincennes University', 'Virginia Commonwealth University', 'Virginia Military Institute – VMI', 'Virginia Peninsula Community College', 'Virginia State University', 'Virginia Tech', 'Virginia Union University', 'Virginia Wesleyan University', 'Viterbo University', 'Volunteer State Community College', 'Voorhees College', 'Wabash College', 'Wabash Valley College', 'Wagner College', 'Wake Forest University', 'Wake Technical Community College', 'Waldorf University', 'Walla Walla Community College', 'Wallace Community College', 'Wallace State Community College – Hanceville', 'Walsh University', 'Walters State Community College', 'Warner Pacific University', 'Warner University', 'Warren Wilson College', 'Wartburg College', 'Washburn University', 'Washington & Jefferson College', 'Washington & Lee University', 'Washington Adventist University', 'Washington College', 'Washington State University', 'Washington University in St. Louis', 'Waubonsee Community College', 'Wayland Baptist University', 'Wayne County Community College', 'Wayne State College', 'Wayne State University', 'Waynesburg University', 'Weatherford College', 'Webber International University', 'Weber State University', 'Webster University', 'Wells College', 'Wenatchee Valley College', 'Wentworth Institute of Technology', 'Wesleyan University', 'West Chester University of Pennsylvania', 'West Hills College – Coalinga', 'West Hills College – Lemoore', 'West Liberty University', 'West Los Angeles College', 'West Texas A&M University', 'West Virginia State University', 'West Virginia University', 'West Virginia University Institute of Technology', 'West Virginia University Potomac State College', 'West Virginia Wesleyan College', 'Westcliff University', 'Western Carolina University', 'Western Colorado University', 'Western Connecticut State University', 'Western Illinois University', 'Western Kentucky University', 'Western Michigan University', 'Western Nebraska Community College', 'Western New England University', 'Western New Mexico University', 'Western Oklahoma State College', 'Western Oregon University', 'Western Technical College – Wisconsin', 'Western Texas College', 'Western Washington University', 'Western Wyoming Community College', 'Westfield State University', 'Westminster College – Missouri', 'Westminster College – Pennsylvania', 'Westminster College – Utah', 'Westmont College', 'Westmont College', 'Westmoreland County Community College', 'Whatcom Community College', 'Wheaton College – Illinois', 'Wheaton College – Massachusetts', 'Wheeling University', 'Whitman College', 'Whittier College', 'Whitworth University', 'Wichita State University', 'Widener University', 'Wilberforce University', 'Wiley College', 'Wilkes University', 'Willamette University', 'William & Mary', 'William Carey University', 'William Jessup University', 'William Jewell College', 'William Paterson University of New Jersey', 'William Peace University', 'William Penn University', 'William Woods University', 'Williams Baptist University', 'Williams College', 'Williamson College of the Trades', 'Williston State College', 'Wilmington College', 'Wilmington University', 'Wilson College', 'Wingate University', 'Winona State University', 'Winston-Salem State University', 'Winthrop University', 'Wittenberg University', 'Wofford College', 'Worcester Polytechnic Institute', 'Worcester State University', 'Wright State University', 'Xavier University', 'Xavier University of Louisiana', 'Yakima Valley College', 'Yale University', 'Yavapai College', 'Yeshiva University', 'York College of Pennsylvania', 'York University', 'Young Harris College', 'Youngstown State University']\n",
            "{'Abilene Christian University': 'NCAA D1', 'Academy of Art University': 'NCAA D2', 'Adams State University': 'NCAA D2', 'Adelphi University': 'NCAA D2', 'Adrian College': 'NCAA D3', 'Alabama A&M University': 'NCAA D1', 'Alabama State University': 'NCAA D1', 'Albany State University': 'NCAA D2', 'Albany Technical College': 'JC', 'Albertus Magnus College': 'NCAA D3', 'Albion College': 'NCAA D3', 'Albright College': 'NCAA D3', 'Alcorn State University': 'NCAA D1', 'Alderson Broaddus University': 'NCAA D2', 'Alfred University': 'NCAA D3', 'Alice Lloyd College': 'NAIA', 'Allan Hancock College': 'JC', 'Allegany College of Maryland': 'JC', 'Allegheny College': 'NCAA D3', 'Allen Community College': 'JC', 'Allen University': 'NCAA D2', 'Alliance University': 'NCAA D2', 'Alma College': 'NCAA D3', 'Alpena Community College': 'JC', 'Alvernia University': 'NCAA D3', 'American International College': 'NCAA D2', 'American River College': 'JC', 'American University': 'NCAA D1', 'Amherst College': 'NCAA D3', 'Anderson University – Indiana': 'NCAA D3', 'Anderson University – South Carolina': 'NCAA D2', 'Andrew College': 'JC', 'Angelina College': 'JC', 'Angelo State University': 'NCAA D2', 'Anna Maria College': 'NCAA D3', 'Anne Arundel Community College': 'JC', 'Anoka-Ramsey Community College': 'JC', 'Appalachian State University': 'NCAA D1', 'Aquinas College – Michigan': 'NAIA', 'Arcadia University': 'NCAA D3', 'Arizona Christian University': 'NAIA', 'Arizona State University': 'NCAA D1', 'Arizona Western College': 'JC', 'Arkansas Baptist College': 'NAIA', 'Arkansas State University': 'NCAA D1', 'Arkansas State University – Mid-South': 'JC', 'Arkansas Tech University': 'NCAA D2', 'ASA College – Miami': 'JC', 'Asbury University': 'NCAA D3', 'Ashland University': 'NCAA D2', 'Assumption University': 'NCAA D2', 'Atlantic Cape Community College': 'JC', 'Auburn University': 'NCAA D1', 'Auburn University – Montgomery': 'NCAA D2', 'Augsburg University': 'NCAA D3', 'Augusta University': 'NCAA D2', 'Augustana College – Illinois': 'NCAA D3', 'Augustana University – South Dakota': 'NCAA D2', 'Aurora University': 'NCAA D3', 'Austin College': 'NCAA D3', 'Austin Peay State University': 'NCAA D1', 'Ave Maria University': 'NAIA', 'Averett University': 'NCAA D3', 'Avila University': 'NAIA', 'Azusa Pacific University': 'NCAA D2', 'Babson College': 'NCAA D3', 'Bacone College': 'NAIA', 'Baker University': 'NAIA', 'Bakersfield College': 'JC', 'Baldwin Wallace University': 'NCAA D3', 'Ball State University': 'NCAA D1', 'Baltimore City Community College': 'JC', 'Bard College': 'NCAA D3', 'Barry University': 'NCAA D2', 'Barstow Community College': 'JC', 'Barton College': 'NCAA D2', 'Barton Community College': 'JC', 'Bates College': 'NCAA D3', 'Baton Rouge Community College': 'JC', 'Bay College': 'JC', 'Baylor University': 'NCAA D1', 'Belhaven University': 'NCAA D3', 'Bellarmine University': 'NCAA D2', 'Bellevue College': 'JC', 'Bellevue University': 'NAIA', 'Belmont Abbey College': 'NCAA D2', 'Belmont University': 'NCAA D1', 'Beloit College': 'NCAA D3', 'Bemidji State University': 'NCAA D2', 'Benedict College': 'NCAA D2', 'Benedictine College': 'NAIA', 'Benedictine University': 'NCAA D3', 'Benedictine University – Mesa': 'NAIA', 'Bentley University': 'NCAA D2', 'Berea College': 'NCAA D3', 'Bergen Community College': 'JC', 'Berry College': 'NCAA D3', 'Bethany College – Kansas': 'NAIA', 'Bethany College – West Virginia': 'NCAA D3', 'Bethany Lutheran College': 'NCAA D3', 'Bethel College – Kansas': 'NAIA', 'Bethel University – Indiana': 'NAIA', 'Bethel University – Minnesota': 'NCAA D3', 'Bethel University – Tennessee': 'NAIA', 'Bethune-Cookman University': 'NCAA D1', 'Bevill State Community College': 'JC', 'Big Bend Community College': 'JC', 'Biola University': 'NCAA D2', 'Birmingham-Southern College': 'NCAA D3', 'Bishop State Community College': 'JC', 'Bismarck State College': 'JC', 'Black Hawk College – East Campus': 'JC', 'Black Hawk College – Quad Cities': 'JC', 'Black Hills State University': 'NCAA D2', 'Blackburn College': 'NCAA D3', 'Blinn College': 'JC', 'Bloomfield College': 'NCAA D2', 'Bloomsburg University of Pennsylvania': 'NCAA D2', 'Blue Mountain College': 'NAIA', 'Blue Mountain Community College': 'JC', 'Bluefield State University': 'NCAA D2', 'Bluefield University': 'NAIA', 'Bluffton University': 'NCAA D3', 'Boise State University': 'NCAA D1', 'Bossier Parish Community College': 'JC', 'Boston College': 'NCAA D1', 'Boston University': 'NCAA D1', 'Bowdoin College': 'NCAA D3', 'Bowie State University': 'NCAA D2', 'Bowling Green State University': 'NCAA D1', 'Bradley University': 'NCAA D1', 'Brandeis University': 'NCAA D3', 'Brescia University': 'NAIA', 'Brevard College': 'NCAA D3', 'Brewton-Parker College': 'NAIA', 'Briar Cliff University': 'NAIA', 'Bridgewater College': 'NCAA D3', 'Bridgewater State University': 'NCAA D3', 'Brigham Young University': 'NCAA D1', 'Bristol Community College': 'JC', 'Brookdale Community College': 'JC', 'Brookhaven College': 'JC', 'Brown University': 'NCAA D1', 'Brunswick Community College': 'JC', 'Bryan College – Tennessee': 'NAIA', 'Bryant & Stratton College – Milwaukee': 'JC', 'Bryant & Stratton College – Ohio': 'JC', 'Bryant & Stratton College – Virginia': 'JC', 'Bryant University': 'NCAA D1', 'Bucknell University': 'NCAA D1', 'Bucks County Community College': 'JC', 'Buena Vista University': 'NCAA D3', 'Bunker Hill Community College': 'JC', 'Bushnell University': 'NAIA', 'Butler Community College': 'JC', 'Butler County Community College': 'JC', 'Butler University': 'NCAA D1', 'Butte College': 'JC', 'Cabrini University': 'NCAA D3', 'Cairn University': 'NCAA D3', 'Cal Poly Humboldt': 'NCAA D2', 'Caldwell Community College & Technical Institute': 'JC', 'Caldwell University': 'NCAA D2', 'Calhoun Community College': 'JC', 'California Baptist University': 'NCAA D1', 'California Institute of Technology': 'NCAA D3', 'California Lutheran University': 'NCAA D3', 'California Polytechnic State University – San Luis Obispo': 'NCAA D1', 'California State Polytechnic University – Pomona': 'NCAA D2', 'California State University – Bakersfield': 'NCAA D1', 'California State University – Chico': 'NCAA D2', 'California State University – Dominguez Hills': 'NCAA D2', 'California State University – East Bay': 'NCAA D2', 'California State University – Fresno': 'NCAA D1', 'California State University – Fullerton': 'NCAA D1', 'California State University – Long Beach': 'NCAA D1', 'California State University – Los Angeles': 'NCAA D2', 'California State University – Monterey Bay': 'NCAA D2', 'California State University – Northridge': 'NCAA D1', 'California State University – Sacramento': 'NCAA D1', 'California State University – San Bernardino': 'NCAA D2', 'California State University – San Marcos': 'NCAA D2', 'California State University – Stanislaus': 'NCAA D2', 'California State University Maritime Academy': 'NAIA', 'Calumet College of St. Joseph': 'NAIA', 'Calvin University': 'NCAA D3', 'Camden County College': 'JC', 'Cameron University': 'NCAA D2', 'Campbell University': 'NCAA D1', 'Campbellsville University': 'NAIA', 'Canisius College': 'NCAA D1', 'Cape Fear Community College': 'JC', 'Capital University': 'NCAA D3', 'Carl Sandburg College': 'JC', 'Carleton College': 'NCAA D3', 'Carlow University': 'NAIA', 'Carnegie Mellon University': 'NCAA D3', 'Carroll College': 'NAIA', 'Carroll University': 'NCAA D3', 'Carson-Newman University': 'NCAA D2', 'Carthage College': 'NCAA D3', 'Case Western Reserve University': 'NCAA D3', 'Casper College': 'JC', 'Castleton University': 'NCAA D3', 'Catawba College': 'NCAA D2', 'Catawba Valley Community College': 'JC', 'Catholic University of America': 'NCAA D3', 'Cecil College': 'JC', 'Cedar Valley College': 'JC', 'Cedarville University': 'NCAA D2', 'Centenary College of Louisiana': 'NCAA D3', 'Centenary University – New Jersey': 'NCAA D3', 'Central Arizona College': 'JC', 'Central Baptist College': 'NAIA', 'Central Carolina Community College': 'JC', 'Central Christian College of Kansas': 'NAIA', 'Central College': 'NCAA D3', 'Central Community College': 'JC', 'Central Connecticut State University': 'NCAA D1', 'Central Georgia Technical College': 'JC', 'Central Lakes College – Brainerd': 'JC', 'Central Maine Community College': 'JC', 'Central Methodist University': 'NAIA', 'Central Michigan University': 'NCAA D1', 'Central State University': 'NCAA D2', 'Central Washington University': 'NCAA D2', 'Central Wyoming College': 'JC', 'Centralia College': 'JC', 'Centre College': 'NCAA D3', 'Chabot College': 'JC', 'Chadron State College': 'NCAA D2', 'Chaffey College': 'JC', 'Chaminade University of Honolulu': 'NCAA D2', 'Chandler-Gilbert Community College': 'JC', 'Chapman University': 'NCAA D3', 'Charleston Southern University': 'NCAA D1', 'Chatham University': 'NCAA D3', 'Chattahoochee Valley Community College': 'JC', 'Chattanooga State Community College': 'JC', 'Chemeketa Community College': 'JC', 'Chesapeake College': 'JC', 'Chestnut Hill College': 'NCAA D2', 'Chicago State University': 'NCAA D1', 'Chipola College': 'JC', 'Chowan University': 'NCAA D2', 'Christian Brothers University': 'NCAA D2', 'Christopher Newport University': 'NCAA D3', 'Citrus College': 'JC', 'City Colleges of Chicago – Kennedy-King College': 'JC', 'City Colleges of Chicago – Malcolm X College': 'JC', 'City Colleges of Chicago – Olive-Harvey College': 'JC', 'Clackamas Community College': 'JC', 'Claflin University': 'NCAA D2', 'Claremont-Mudd-Scripps Colleges': 'NCAA D3', 'Clarendon College': 'JC', 'Clark Atlanta University': 'NCAA D2', 'Clark State College': 'JC', 'Clark University': 'NCAA D3', 'Clarke University': 'NAIA', 'Clarks Summit University': 'NCAA D3', 'Clarkson University': 'NCAA D3', 'Clayton State University': 'NCAA D2', 'Clemson University': 'NCAA D1', 'Cleveland State Community College': 'JC', 'Cleveland State University': 'NCAA D1', 'Cloud County Community College': 'JC', 'Coahoma Community College': 'JC', 'Coastal Alabama Community College – Bay Minette (South)': 'JC', 'Coastal Alabama Community College – Monroeville (North)': 'JC', 'Coastal Bend College': 'JC', 'Coastal Carolina University': 'NCAA D1', 'Cochise College': 'JC', 'Coe College': 'NCAA D3', 'Coffeyville Community College': 'JC', 'Coker University': 'NCAA D2', 'Colby College': 'NCAA D3', 'Colby Community College': 'JC', 'Colby-Sawyer College': 'NCAA D3', 'Colgate University': 'NCAA D1', 'College of Charleston': 'NCAA D1', 'College of Coastal Georgia': 'NAIA', 'College of DuPage': 'JC', 'College of Lake County': 'JC', 'College of Marin': 'JC', 'College of Mount Saint Vincent': 'NCAA D3', 'College of Southern Idaho': 'JC', 'College of Southern Maryland': 'JC', 'College of Southern Nevada': 'JC', 'College of the Canyons': 'JC', 'College of the Desert': 'JC', 'College of the Holy Cross': 'NCAA D1', 'College of the Redwoods': 'JC', 'College of the Sequoias': 'JC', 'College of Wooster': 'NCAA D3', 'Collin College': 'JC', 'Colorado Christian University': 'NCAA D2', 'Colorado College': 'NCAA D3', 'Colorado Mesa University': 'NCAA D2', 'Colorado Northwestern Community College': 'JC', 'Colorado School of Mines': 'NCAA D2', 'Colorado State University': 'NCAA D1', 'Colorado State University – Pueblo': 'NCAA D2', 'Columbia Basin College': 'JC', 'Columbia College – California': 'JC', 'Columbia College – Missouri': 'NAIA', 'Columbia International University': 'NAIA', 'Columbia State Community College': 'JC', 'Columbia University': 'NCAA D1', 'Columbia-Greene Community College': 'JC', 'Columbus State University': 'NCAA D2', 'Community Christian College': 'JC', 'Community College of Allegheny County': 'JC', 'Community College of Beaver County': 'JC', 'Community College of Philadelphia': 'JC', 'Community College of Rhode Island': 'JC', 'Concord University': 'NCAA D2', 'Concordia College – Minnesota': 'NCAA D3', 'Concordia University – Ann Arbor': 'NAIA', 'Concordia University – Chicago': 'NCAA D3', 'Concordia University – Irvine': 'NCAA D2', 'Concordia University – Nebraska': 'NAIA', 'Concordia University – Texas': 'NCAA D3', 'Concordia University Wisconsin': 'NCAA D3', 'Concordia University, St. Paul – Minnesota': 'NCAA D2', 'Connecticut College': 'NCAA D3', 'Connors State College': 'JC', 'Converse University': 'NCAA D2', 'Copiah-Lincoln Community College': 'JC', 'Copper Mountain College': 'JC', 'Coppin State University': 'NCAA D1', 'Corban University': 'NAIA', 'Cornell College': 'NCAA D3', 'Cornell University': 'NCAA D1', 'Cornerstone University': 'NAIA', 'Corning Community College': 'JC', 'County College of Morris': 'JC', 'Covenant College': 'NCAA D3', 'Cowley County Community College': 'JC', 'Creighton University': 'NCAA D1', \"Crowley's Ridge College\": 'NAIA', 'Crown College': 'NCAA D3', 'Culinary Institute of America': 'NCAA D3', 'Culver-Stockton College': 'NAIA', 'Cumberland University': 'NAIA', 'Curry College': 'NCAA D3', 'Cuyahoga Community College': 'JC', 'Cuyamaca College': 'JC', 'Cypress College': 'JC', \"D'Youville University\": 'NCAA D2', 'Daemen University': 'NCAA D2', 'Dakota College at Bottineau': 'JC', 'Dakota State University': 'NAIA', 'Dakota Wesleyan University': 'NAIA', 'Dallas Baptist University': 'NCAA D2', 'Dallas College-Mountain View ': 'JC', 'Danville Area Community College': 'JC', 'Dartmouth College': 'NCAA D1', 'Davenport University': 'NCAA D2', 'Davidson College': 'NCAA D1', 'Davidson County Community College': 'JC', 'Davis & Elkins College': 'NCAA D2', 'Dawson Community College': 'JC', 'Daytona State College': 'JC', 'Dean College': 'NCAA D3', 'Defiance College': 'NCAA D3', 'Delaware County Community College': 'JC', 'Delaware State University': 'NCAA D1', 'Delaware Technical Community College': 'JC', 'Delaware Valley University': 'NCAA D3', 'Delgado Community College': 'JC', 'Delta College – Michigan': 'JC', 'Delta State University': 'NCAA D2', 'Denison University': 'NCAA D3', 'Denmark Technical College': 'JC', 'DePaul University': 'NCAA D1', 'DePauw University': 'NCAA D3', 'Des Moines Area Community College': 'JC', 'DeSales University': 'NCAA D3', 'Dickinson College': 'NCAA D3', 'Dickinson State University': 'NAIA', 'Dillard University': 'NAIA', 'Doane University': 'NAIA', 'Dodge City Community College': 'JC', 'Dominican University – Illinois': 'NCAA D3', 'Dominican University – New York': 'NCAA D2', 'Dominican University of California': 'NCAA D2', 'Dordt University': 'NAIA', 'Drake University': 'NCAA D1', 'Drew University': 'NCAA D3', 'Drexel University': 'NCAA D1', 'Drury University': 'NCAA D2', 'Duke University': 'NCAA D1', 'Duquesne University': 'NCAA D1', 'Dyersburg State Community College': 'JC', 'Earlham College': 'NCAA D3', 'East Carolina University': 'NCAA D1', 'East Central Community College': 'JC', 'East Central University': 'NCAA D2', 'East Georgia State College': 'JC', 'East Los Angeles College': 'JC', 'East Mississippi Community College': 'JC', 'East Stroudsburg University of Pennsylvania': 'NCAA D2', 'East Tennessee State University': 'NCAA D1', 'East Texas Baptist University': 'NCAA D3', 'Eastern Arizona College': 'JC', 'Eastern Connecticut State University': 'NCAA D3', 'Eastern Florida State College': 'JC', 'Eastern Illinois University': 'NCAA D1', 'Eastern Kentucky University': 'NCAA D1', 'Eastern Mennonite University': 'NCAA D3', 'Eastern Michigan University': 'NCAA D1', 'Eastern Nazarene College': 'NCAA D3', 'Eastern New Mexico University': 'NCAA D2', 'Eastern Oklahoma State College': 'JC', 'Eastern Oregon University': 'NAIA', 'Eastern University': 'NCAA D3', 'Eastern Washington University': 'NCAA D1', 'Eastern Wyoming College': 'JC', 'Eastfield College': 'JC', 'Eckerd College': 'NCAA D2', 'Edgewood College': 'NCAA D3', 'Edison State Community College': 'JC', 'Edmonds College': 'JC', 'Edward Waters University': 'NCAA D2', 'El Camino College': 'JC', 'Elgin Community College': 'JC', 'Elizabeth City State University': 'NCAA D2', 'Elizabethtown College': 'NCAA D3', 'Ellsworth Community College': 'JC', 'Elmhurst University': 'NCAA D3', 'Elmira College': 'NCAA D3', 'Elms College': 'NCAA D3', 'Elon University': 'NCAA D1', 'Embry-Riddle Aeronautical University': 'NCAA D2', 'Embry-Riddle Aeronautical University (Arizona Campus)': 'NAIA', 'Emerson College': 'NCAA D3', 'Emmanuel College – Georgia': 'NCAA D2', 'Emmanuel College – Massachusetts': 'NCAA D3', 'Emory & Henry College': 'NCAA D2', 'Emory University': 'NCAA D3', 'Emporia State University': 'NCAA D2', 'Endicott College': 'NCAA D3', 'Enterprise State Community College': 'JC', 'Erskine College': 'NCAA D2', 'Essex County College': 'JC', 'Eureka College': 'NCAA D3', 'Evangel University': 'NAIA', 'Everett Community College': 'JC', 'Evergreen State College': 'NAIA', 'Fairfield University': 'NCAA D1', 'Fairleigh Dickinson University': 'NCAA D1', 'Fairleigh Dickinson University – College at Florham': 'NCAA D3', 'Fairmont State University': 'NCAA D2', 'Faulkner University': 'NAIA', 'Fayetteville State University': 'NCAA D2', 'Fayetteville Technical Community College': 'JC', 'Feather River College': 'JC', 'Felician University': 'NCAA D2', 'Ferris State University': 'NCAA D2', 'Ferrum College': 'NCAA D3', 'Finger Lakes Community College': 'JC', 'Finlandia University': 'NCAA D3', 'Fisher College': 'NAIA', 'Fisk University': 'NAIA', 'Fitchburg State University': 'NCAA D3', 'Flagler College – St. Augustine': 'NCAA D2', 'Florida A&M University': 'NCAA D1', 'Florida Atlantic University': 'NCAA D1', 'Florida College': 'NAIA', 'Florida Gulf Coast University': 'NCAA D1', 'Florida International University': 'NCAA D1', 'Florida Memorial University': 'NAIA', 'Florida Southern College': 'NCAA D2', 'Florida SouthWestern State College': 'JC', 'Florida State College at Jacksonville': 'JC', 'Florida State University': 'NCAA D1', 'Fontbonne University': 'NCAA D3', 'Fordham University': 'NCAA D1', 'Fort Berthold Community College': 'JC', 'Fort Hays State University': 'NCAA D2', 'Fort Lewis College': 'NCAA D2', 'Fort Scott Community College': 'JC', 'Fort Valley State University': 'NCAA D2', 'Framingham State University': 'NCAA D3', 'Francis Marion University': 'NCAA D2', 'Franciscan University of Steubenville': 'NCAA D3', 'Frank Phillips College': 'JC', 'Franklin & Marshall College': 'NCAA D3', 'Franklin College': 'NCAA D3', 'Franklin Pierce University': 'NCAA D2', 'Frederick Community College': 'JC', 'Freed-Hardeman University': 'NAIA', 'Fresno City College': 'JC', 'Fresno Pacific University': 'NCAA D2', 'Friends University': 'NAIA', 'Frostburg State University': 'NCAA D2', 'Furman University': 'NCAA D1', 'Gadsden State Community College': 'JC', 'Gallaudet University': 'NCAA D3', 'Gannon University': 'NCAA D2', 'Garden City Community College': 'JC', 'Gardner-Webb University': 'NCAA D1', 'Garrett College': 'JC', 'Gaston College': 'JC', 'Gateway Community College – Connecticut': 'JC', 'Geneva College': 'NCAA D3', 'George Fox University': 'NCAA D3', 'George Mason University': 'NCAA D1', 'George Washington University': 'NCAA D1', 'Georgetown College': 'NAIA', 'Georgetown University': 'NCAA D1', 'Georgia College & State University': 'NCAA D2', 'Georgia Highlands College': 'JC', 'Georgia Southern University': 'NCAA D1', 'Georgia Southwestern State University': 'NCAA D2', 'Georgia State University': 'NCAA D1', 'Georgia Tech': 'NCAA D1', 'Georgian Court University': 'NCAA D2', 'Gettysburg College': 'NCAA D3', 'Glen Oaks Community College': 'JC', 'Glendale Community College – Arizona': 'JC', 'Glenville State University': 'NCAA D2', 'Gogebic Community College': 'JC', 'Goldey-Beacom College': 'NCAA D2', 'Gonzaga University': 'NCAA D1', 'Gordon College': 'NCAA D3', 'Gordon State College': 'JC', 'Goshen College': 'NAIA', 'Goucher College': 'NCAA D3', 'Grace College': 'NAIA', 'Graceland University': 'NAIA', 'Grambling State University': 'NCAA D1', 'Grand Canyon University': 'NCAA D1', 'Grand Rapids Community College': 'JC', 'Grand Valley State University': 'NCAA D2', 'Grand View University': 'NAIA', 'Grays Harbor College': 'JC', 'Grayson College': 'JC', 'Great Bay Community College': 'JC', 'Greensboro College': 'NCAA D3', 'Greenville University': 'NCAA D3', 'Grinnell College': 'NCAA D3', 'Grove City College': 'NCAA D3', 'Guilford College': 'NCAA D3', 'Guilford Technical Community College': 'JC', 'Gulf Coast State College': 'JC', 'Gustavus Adolphus College': 'NCAA D3', 'Gwynedd Mercy University': 'NCAA D3', 'Hagerstown Community College': 'JC', 'Hamilton College': 'NCAA D3', 'Hamline University': 'NCAA D3', 'Hampden-Sydney College': 'NCAA D3', 'Hampton University': 'NCAA D1', 'Hannibal-LaGrange University': 'NAIA', 'Hanover College': 'NCAA D3', 'Harcum College': 'JC', 'Hardin-Simmons University': 'NCAA D3', 'Harding University': 'NCAA D2', 'Harford Community College': 'JC', 'Harper College': 'JC', 'Harris-Stowe State University': 'NAIA', 'Harrisburg Area Community College': 'JC', 'Harry S Truman College': 'JC', 'Hartwick College': 'NCAA D3', 'Harvard University': 'NCAA D1', 'Hastings College': 'NAIA', 'Haverford College': 'NCAA D3', 'Hawaii Pacific University': 'NCAA D2', 'Heidelberg University': 'NCAA D3', 'Henderson State University': 'NCAA D2', 'Hendrix College': 'NCAA D3', 'Henry Ford College': 'JC', 'Hesston College': 'JC', 'Hibbing Community College – A Technical & Community College': 'JC', 'High Point University': 'NCAA D1', 'Highland Community College – Illinois': 'JC', 'Highland Community College – Kansas': 'JC', 'Highline College': 'JC', 'Hilbert College': 'NCAA D3', 'Hill College': 'JC', 'Hillsborough Community College': 'JC', 'Hillsdale College': 'NCAA D2', 'Hinds Community College': 'JC', 'Hiram College': 'NCAA D3', 'Hobart & William Smith College': 'NCAA D3', 'Hocking College': 'JC', 'Hofstra University': 'NCAA D1', 'Holmes Community College': 'JC', 'Holy Family University': 'NCAA D2', 'Holy Names University': 'NCAA D2', 'Holyoke Community College': 'JC', 'Hood College': 'NCAA D3', 'Hope College': 'NCAA D3', 'Hope International University': 'NAIA', 'Houghton University': 'NCAA D3', 'Houston Christian University': 'NCAA D1', 'Howard College': 'JC', 'Howard Community College': 'JC', 'Howard Payne University': 'NCAA D3', 'Howard University': 'NCAA D1', 'Huntingdon College': 'NCAA D3', 'Huntington University': 'NAIA', 'Husson University': 'NCAA D3', 'Huston-Tillotson University': 'NAIA', 'Hutchinson Community College': 'JC', 'Idaho State University': 'NCAA D1', 'Illinois Central College': 'JC', 'Illinois College': 'NCAA D3', 'Illinois Institute of Technology': 'NCAA D3', 'Illinois State University': 'NCAA D1', 'Illinois Valley Community College': 'JC', 'Illinois Wesleyan University': 'NCAA D3', 'Immaculata University': 'NCAA D3', 'Independence Community College': 'JC', 'Indian Hills Community College': 'JC', 'Indian River State College': 'JC', 'Indiana State University': 'NCAA D1', 'Indiana Tech': 'NAIA', 'Indiana University': 'NCAA D1', 'Indiana University – East': 'NAIA', 'Indiana University – Kokomo': 'NAIA', 'Indiana University – Northwest': 'NAIA', 'Indiana University – South Bend': 'NAIA', 'Indiana University – Southeast': 'NAIA', 'Indiana University of Pennsylvania': 'NCAA D2', 'Indiana University-Purdue University – Indianapolis (IUPUI)': 'NCAA D1', 'Indiana Wesleyan University': 'NAIA', 'Iona University': 'NCAA D1', 'Iowa Central Community College': 'JC', 'Iowa Lakes Community College – Estherville Campus': 'JC', 'Iowa State University': 'NCAA D1', 'Iowa Western Community College': 'JC', 'Itasca Community College': 'JC', 'Itawamba Community College — Fulton Campus': 'JC', 'Ithaca College': 'NCAA D3', 'Jackson College': 'JC', 'Jackson State Community College': 'JC', 'Jackson State University': 'NCAA D1', 'Jacksonville College': 'JC', 'Jacksonville State University': 'NCAA D1', 'Jacksonville University': 'NCAA D1', 'James Madison University': 'NCAA D1', 'Jarvis Christian University': 'NAIA', 'Jefferson College': 'JC', 'John A Logan College': 'JC', 'John Brown University': 'NAIA', 'John Carroll University': 'NCAA D3', 'John Wood Community College': 'JC', 'Johns Hopkins University': 'NCAA D3', 'Johnson & Wales University – Providence': 'NCAA D3', 'Johnson C. Smith University': 'NCAA D2', 'Johnson County Community College': 'JC', 'Johnson University': 'NAIA', 'Johnston Community College': 'JC', 'Joliet Junior College': 'JC', 'Jones County Junior College': 'JC', 'Judson University': 'NAIA', 'Juniata College': 'NCAA D3', 'Kalamazoo College': 'NCAA D3', 'Kalamazoo Valley Community College': 'JC', 'Kankakee Community College': 'JC', 'Kansas City Kansas Community College': 'JC', 'Kansas State University': 'NCAA D1', 'Kansas Wesleyan University': 'NAIA', 'Kaskaskia College': 'JC', 'Kean University': 'NCAA D3', 'Keene State College': 'NCAA D3', 'Keiser University': 'NAIA', 'Kellogg Community College': 'JC', 'Kennesaw State University': 'NCAA D1', 'Kent State University': 'NCAA D1', 'Kentucky Christian University': 'NAIA', 'Kentucky State University': 'NCAA D2', 'Kentucky Wesleyan College': 'NCAA D2', 'Kenyon College': 'NCAA D3', 'Keuka College': 'NCAA D3', 'Keystone College': 'NCAA D3', 'Kilgore College': 'JC', 'King University – Tennessee': 'NCAA D2', \"King's College – Pennsylvania\": 'NCAA D3', 'Kirkwood Community College': 'JC', 'Kirtland Community College': 'JC', 'Kishwaukee College': 'JC', 'Knox College': 'NCAA D3', 'Kutztown University of Pennsylvania': 'NCAA D2', 'La Roche University': 'NCAA D3', 'La Salle University': 'NCAA D1', 'La Sierra University': 'NAIA', 'Labette Community College': 'JC', 'Lackawanna College': 'JC', 'Lafayette College': 'NCAA D1', 'LaGrange College': 'NCAA D3', 'Lake Erie College': 'NCAA D2', 'Lake Forest College': 'NCAA D3', 'Lake Land College': 'JC', 'Lake Michigan College': 'JC', 'Lake Region State College': 'JC', 'Lake Superior State University': 'NCAA D2', 'Lakeland Community College': 'JC', 'Lakeland University': 'NCAA D3', 'Lamar Community College': 'JC', 'Lamar State College': 'JC', 'Lamar University': 'NCAA D1', 'Lancaster Bible College': 'NCAA D3', 'Lander University': 'NCAA D2', 'Lane College': 'NCAA D2', 'Lane Community College': 'JC', 'Langston University': 'NAIA', 'Lansing Community College': 'JC', 'Laramie County Community College': 'JC', 'Lasell University': 'NCAA D3', 'Lassen Community College': 'JC', 'Lawrence Technological University': 'NAIA', 'Lawrence University': 'NCAA D3', 'Lawson State Community College – Birmingham': 'JC', 'Le Moyne College': 'NCAA D2', 'Lebanon Valley College': 'NCAA D3', 'Lee University': 'NCAA D2', 'Lees-McRae College': 'NCAA D2', 'Lehigh Carbon Community College': 'JC', 'Lehigh University': 'NCAA D1', 'LeMoyne-Owen College': 'NCAA D2', 'Lenoir Community College': 'JC', 'Lenoir-Rhyne University': 'NCAA D2', 'Lesley University': 'NCAA D3', 'Lewis & Clark College': 'NCAA D3', 'Lewis & Clark Community College': 'JC', 'Lewis University': 'NCAA D2', 'Lewis-Clark State College': 'NAIA', 'Liberty University': 'NCAA D1', 'Life Pacific University': 'NAIA', 'Life University': 'NAIA', 'Limestone University': 'NCAA D2', 'Lincoln Land Community College': 'JC', 'Lincoln Memorial University': 'NCAA D2', 'Lincoln Trail College': 'JC', 'Lincoln University – Missouri': 'NCAA D2', 'Lincoln University Pennsylvania': 'NCAA D2', 'Lindenwood University': 'NCAA D2', 'Lindsey Wilson College': 'NAIA', 'Linfield University': 'NCAA D3', 'Linn-Benton Community College': 'JC', 'Lipscomb University': 'NCAA D1', 'Little Big Horn College': 'JC', 'Livingstone College': 'NCAA D2', 'Lock Haven University': 'NCAA D2', 'Long Island University': 'NCAA D1', 'Longwood University': 'NCAA D1', 'Lorain County Community College': 'JC', 'Loras College': 'NCAA D3', 'Los Angeles Harbor College': 'JC', 'Los Angeles Southwest College': 'JC', 'Los Angeles Trade – Technical College': 'JC', 'Los Angeles Valley College': 'JC', 'Louisburg College': 'JC', 'Louisiana Christian University': 'NAIA', 'Louisiana State University – Alexandria': 'NAIA', 'Louisiana State University – Eunice': 'JC', 'Louisiana State University – Shreveport': 'NAIA', 'Louisiana State University (LSU)': 'NCAA D1', 'Louisiana Tech University': 'NCAA D1', 'Lourdes University': 'NAIA', 'Lower Columbia College': 'JC', 'Loyola Marymount University': 'NCAA D1', 'Loyola University Chicago': 'NCAA D1', 'Loyola University Maryland': 'NCAA D1', 'Loyola University New Orleans': 'NAIA', 'Lubbock Christian University': 'NCAA D2', 'Lurleen B Wallace Community College': 'JC', 'Luther College': 'NCAA D3', 'Luzerne County Community College': 'JC', 'Lycoming College': 'NCAA D3', 'Lynn University': 'NCAA D2', 'Lyon College': 'NAIA', 'Macalester College': 'NCAA D3', 'Macomb Community College': 'JC', 'Madison College': 'JC', 'Madonna University': 'NAIA', 'Maine Maritime Academy': 'NCAA D3', 'Malone University': 'NCAA D2', 'Manchester University': 'NCAA D3', 'Manhattan College': 'NCAA D1', 'Manhattanville College': 'NCAA D3', 'Manor College': 'JC', 'Mansfield University of Pennsylvania': 'NCAA D2', 'Maranatha Baptist University': 'NCAA D3', 'Marian University – Indiana': 'NAIA', 'Marian University – Wisconsin': 'NCAA D3', \"Marian University's Ancilla College\": 'JC', 'Marietta College': 'NCAA D3', 'Marion Military Institute': 'JC', 'Marist College': 'NCAA D1', 'Marquette University': 'NCAA D1', 'Mars Hill University': 'NCAA D2', 'Marshall University': 'NCAA D1', 'Marshalltown Community College': 'JC', 'Martin Luther College': 'NCAA D3', 'Mary Baldwin University': 'NCAA D3', 'Marymount University (VA)': 'NCAA D3', 'Maryville College': 'NCAA D3', 'Maryville University': 'NCAA D2', 'Marywood University': 'NCAA D3', 'Massachusetts Bay Community College': 'JC', 'Massachusetts College of Liberal Arts': 'NCAA D3', 'Massachusetts Institute of Technology – MIT': 'NCAA D3', 'Massasoit Community College': 'JC', 'Mayville State University': 'NAIA', 'McCook Community College': 'JC', 'McDaniel College': 'NCAA D3', 'McHenry County College': 'JC', 'McKendree University': 'NCAA D2', 'McLennan Community College': 'JC', 'McMurry University': 'NCAA D3', 'McNeese State University': 'NCAA D1', 'McPherson College': 'NAIA', 'Medaille University': 'NCAA D3', 'Menlo College': 'NAIA', 'Merced College': 'JC', 'Mercer County Community College': 'JC', 'Mercer University': 'NCAA D1', 'Mercy College': 'NCAA D2', 'Mercyhurst University': 'NCAA D2', 'Meridian Community College': 'JC', 'Merrimack College': 'NCAA D1', 'Merritt College': 'JC', 'Mesa Community College': 'JC', 'Mesabi Range College': 'JC', 'Messiah University': 'NCAA D3', 'Methodist University': 'NCAA D3', 'Metropolitan Community College': 'JC', 'Metropolitan State University of Denver': 'NCAA D2', 'Miami Dade College': 'JC', 'Miami University': 'NCAA D1', 'Miami University – Hamilton': 'JC', 'Miami University – Middletown': 'JC', 'Michigan State University': 'NCAA D1', 'Michigan Technological University': 'NCAA D2', 'Mid Michigan Community College': 'JC', 'Mid-America Christian University': 'NAIA', 'MidAmerica Nazarene University': 'NAIA', 'Middle Georgia State University': 'NAIA', 'Middle Tennessee State University': 'NCAA D1', 'Middlebury College': 'NCAA D3', 'Middlesex College': 'JC', 'Midland College': 'JC', 'Midland University': 'NAIA', 'Midway University': 'NAIA', 'Midwestern State University': 'NCAA D2', 'Miles College': 'NCAA D2', 'Miles Community College': 'JC', 'Millersville University of Pennsylvania': 'NCAA D2', 'Milligan University': 'NAIA', 'Millikin University': 'NCAA D3', 'Millsaps College': 'NCAA D3', 'Milwaukee Area Technical College': 'JC', 'Milwaukee School of Engineering': 'NCAA D3', 'Mineral Area College': 'JC', 'Minnesota North College – Vermilion': 'JC', 'Minnesota State Community & Technical College': 'JC', 'Minnesota State University – Mankato': 'NCAA D2', 'Minnesota State University – Moorhead': 'NCAA D2', 'Minnesota West Community & Technical College': 'JC', 'Minot State University': 'NCAA D2', 'MiraCosta College': 'JC', 'Misericordia University': 'NCAA D3', 'Mississippi College': 'NCAA D2', 'Mississippi Delta Community College': 'JC', 'Mississippi Gulf Coast Community College': 'JC', 'Mississippi State University': 'NCAA D1', 'Mississippi Valley State University': 'NCAA D1', 'Missouri Baptist University': 'NAIA', 'Missouri Southern State University': 'NCAA D2', 'Missouri State University': 'NCAA D1', 'Missouri State University – West Plains': 'JC', 'Missouri University of Science & Technology': 'NCAA D2', 'Missouri Valley College': 'NAIA', 'Missouri Western State University': 'NCAA D2', 'Mitchell College': 'NCAA D3', 'Moberly Area Community College': 'JC', 'Modesto Junior College': 'JC', 'Molloy University': 'NCAA D2', 'Monmouth College': 'NCAA D3', 'Monmouth University': 'NCAA D1', 'Monroe College – New Rochelle': 'JC', 'Montana State University': 'NCAA D1', 'Montana State University – Billings': 'NCAA D2', 'Montana State University – Northern': 'NAIA', 'Montana Tech of the University of Montana': 'NAIA', 'Montclair State University': 'NCAA D3', 'Montgomery College': 'JC', 'Montgomery County Community College': 'JC', 'Montreat College': 'NAIA', 'Moorpark College': 'JC', 'Moraine Valley Community College': 'JC', 'Moravian University': 'NCAA D3', 'Morehead State University': 'NCAA D1', 'Morehouse College': 'NCAA D2', 'Morgan State University': 'NCAA D1', 'Morningside University': 'NAIA', 'Morris College': 'NAIA', 'Morton College': 'JC', 'Motlow State Community College': 'JC', 'Mott Community College': 'JC', 'Mount Aloysius College': 'NCAA D3', 'Mount Marty University': 'NAIA', 'Mount Mercy University': 'NAIA', 'Mount Saint Mary College – New York': 'NCAA D3', 'Mount St. Joseph University': 'NCAA D3', \"Mount St. Mary's University\": 'NCAA D1', 'Mount Vernon Nazarene University': 'NAIA', 'Mountain Gateway Community College': 'JC', 'Mountain View College': 'JC', 'Mt. Hood Community College': 'JC', 'Mt. San Antonio College': 'JC', 'Mt. San Jacinto College': 'JC', 'Muhlenberg College': 'NCAA D3', 'Multnomah University': 'NAIA', 'Murray State College': 'JC', 'Murray State University': 'NCAA D1', 'Muskegon Community College': 'JC', 'Muskingum University': 'NCAA D3', 'Nassau Community College': 'JC', 'Navarro College': 'JC', 'Nazareth College': 'NCAA D3', 'Nebraska Wesleyan University': 'NCAA D3', 'Neosho County Community College': 'JC', 'Neumann University': 'NCAA D3', 'New College of Florida': 'JC', 'New England College': 'NCAA D3', 'New Jersey City University': 'NCAA D3', 'New Jersey Institute of Technology': 'NCAA D1', 'New Mexico Highlands University': 'NCAA D2', 'New Mexico Junior College': 'JC', 'New Mexico Military Institute': 'JC', 'New Mexico State University': 'NCAA D1', 'New York University': 'NCAA D3', 'Newberry College': 'NCAA D2', 'Newman University': 'NCAA D2', 'Niagara University': 'NCAA D1', 'Nicholls State University': 'NCAA D1', 'Nichols College': 'NCAA D3', 'Norfolk State University': 'NCAA D1', 'North American University': 'NAIA', 'North Arkansas College': 'JC', 'North Carolina A&T State University': 'NCAA D1', 'North Carolina Central University': 'NCAA D1', 'North Carolina State University': 'NCAA D1', 'North Carolina Wesleyan College': 'NCAA D3', 'North Central College': 'NCAA D3', 'North Central Missouri College': 'JC', 'North Central University': 'NCAA D3', 'North Dakota State College of Science': 'JC', 'North Dakota State University': 'NCAA D1', 'North Greenville University': 'NCAA D2', 'North Idaho College': 'JC', 'North Iowa Area Community College': 'JC', 'North Lake College': 'JC', 'North Park University': 'NCAA D3', 'North Platte Community College': 'JC', 'Northampton County Area Community College': 'JC', 'Northeast Community College': 'JC', 'Northeast Mississippi Community College': 'JC', 'Northeastern Junior College': 'JC', 'Northeastern Oklahoma A&M College': 'JC', 'Northeastern State University': 'NCAA D2', 'Northeastern University': 'NCAA D1', 'Northern Arizona University': 'NCAA D1', 'Northern Essex Community College': 'JC', 'Northern Illinois University': 'NCAA D1', 'Northern Kentucky University': 'NCAA D1', 'Northern Michigan University': 'NCAA D2', 'Northern New Mexico College': 'NAIA', 'Northern Oklahoma College': 'JC', 'Northern Oklahoma College – Enid': 'JC', 'Northern State University': 'NCAA D2', 'Northern Vermont University – Lyndon': 'NCAA D3', 'Northern Virginia Community College': 'JC', 'Northland College': 'NCAA D3', 'Northland Community & Technical College': 'JC', 'Northwest College – Wyoming': 'JC', 'Northwest Florida State College': 'JC', 'Northwest Kansas Technical College': 'JC', 'Northwest Mississippi Community College': 'JC', 'Northwest Missouri State University': 'NCAA D2', 'Northwest Nazarene University': 'NCAA D2', 'Northwest University': 'NAIA', 'Northwestern College – Iowa': 'NAIA', 'Northwestern Oklahoma State University': 'NCAA D2', 'Northwestern State University of Louisiana': 'NCAA D1', 'Northwestern University': 'NCAA D1', 'Northwood University – Michigan': 'NCAA D2', 'Norwich University': 'NCAA D3', 'Notre Dame College': 'NCAA D2', 'Nova Southeastern University': 'NCAA D2', 'Oakland City University': 'NAIA', 'Oakland Community College': 'JC', 'Oakland University': 'NCAA D1', 'Oakton College': 'JC', 'Oberlin College': 'NCAA D3', 'Occidental College': 'NCAA D3', 'Ocean County College': 'JC', 'Odessa College': 'JC', 'Oglethorpe University': 'NCAA D3', 'Ohio Christian University': 'NAIA', 'Ohio Dominican University': 'NCAA D2', 'Ohio Northern University': 'NCAA D3', 'Ohio State University': 'NCAA D1', 'Ohio University': 'NCAA D1', 'Ohio Wesleyan University': 'NCAA D3', 'Oklahoma Baptist University': 'NCAA D2', 'Oklahoma Christian University': 'NCAA D2', 'Oklahoma City University': 'NAIA', 'Oklahoma Panhandle State University': 'NAIA', 'Oklahoma State University': 'NCAA D1', 'Oklahoma Wesleyan University': 'NAIA', 'Old Dominion University': 'NCAA D1', 'Olivet College': 'NCAA D3', 'Olivet Nazarene University': 'NAIA', 'Olney Central College': 'JC', 'Olympic College': 'JC', 'Onondaga Community College': 'JC', 'Oral Roberts University': 'NCAA D1', 'Orange Coast College': 'JC', 'Oregon Institute of Technology': 'NAIA', 'Oregon State University': 'NCAA D1', 'Otero Junior College': 'JC', 'Ottawa University': 'NAIA', 'Ottawa University – Arizona': 'NAIA', 'Otterbein University': 'NCAA D3', 'Ouachita Baptist University': 'NCAA D2', 'Our Lady of the Lake University': 'NAIA', 'Owens Community College': 'JC', 'Oxford College of Emory University': 'JC', 'Pace University': 'NCAA D2', 'Pacific Lutheran University': 'NCAA D3', 'Pacific Union College': 'NAIA', 'Pacific University': 'NCAA D3', 'Palm Beach Atlantic University': 'NCAA D2', 'Palm Beach State College': 'JC', 'Palo Verde College': 'JC', 'Palomar College': 'JC', 'Panola College': 'JC', 'Paris Junior College': 'JC', 'Park University': 'NAIA', 'Parkland College': 'JC', 'Pasadena City College': 'JC', 'Pasco-Hernando State College': 'JC', 'Passaic County Community College': 'JC', 'Patrick & Henry Community College': 'JC', 'Paul Quinn College': 'NAIA', 'Pearl River Community College': 'JC', 'Peninsula College': 'JC', 'Penn State': 'NCAA D1', 'Penn State Abington': 'NCAA D3', 'Penn State Altoona': 'NCAA D3', 'Penn State Berks': 'NCAA D3', 'Penn State Erie – The Behrend College': 'NCAA D3', 'Penn State Harrisburg': 'NCAA D3', 'Pennsylvania College of Technology': 'NCAA D3', 'Pennsylvania Highlands Community College': 'JC', 'Pensacola State College': 'JC', 'Pepperdine University': 'NCAA D1', 'Peru State College': 'NAIA', 'Pfeiffer University': 'NCAA D3', 'Phoenix College': 'JC', 'Piedmont University': 'NCAA D3', 'Pierce College at Fort Steilacoom': 'JC', 'Pima Community College': 'JC', 'Pitt Community College': 'JC', 'Pittsburg State University': 'NCAA D2', 'Plymouth State University': 'NCAA D3', 'Point Loma Nazarene University': 'NCAA D2', 'Point Park University': 'NAIA', 'Point University': 'NAIA', 'Polk State College': 'JC', 'Pomona-Pitzer Colleges': 'NCAA D3', 'Porterville College': 'JC', 'Portland Community College — Cascade Campus': 'JC', 'Portland State University': 'NCAA D1', 'Post University': 'NCAA D2', 'Prairie State College': 'JC', 'Prairie View A & M University': 'NCAA D1', 'Pratt Community College': 'JC', 'Pratt Institute': 'NCAA D3', 'Presbyterian College': 'NCAA D1', \"Prince George's Community College\": 'JC', 'Princeton University': 'NCAA D1', 'Principia College': 'NCAA D3', 'Providence College': 'NCAA D1', 'Purdue University': 'NCAA D1', 'Purdue University – Fort Wayne': 'NCAA D1', 'Purdue University – Northwest': 'NCAA D2', 'Queens University of Charlotte': 'NCAA D2', 'Quincy College': 'JC', 'Quincy University': 'NCAA D2', 'Quinnipiac University': 'NCAA D1', 'Quinsigamond Community College': 'JC', 'Radford University': 'NCAA D1', 'Rainy River Community College': 'JC', 'Ramapo College of New Jersey': 'NCAA D3', 'Randolph College': 'NCAA D3', 'Randolph-Macon College': 'NCAA D3', 'Ranger College': 'JC', 'Raritan Valley Community College': 'JC', 'Redlands Community College': 'JC', 'Reedley College': 'JC', 'Regis College': 'NCAA D3', 'Regis University': 'NCAA D2', 'Reinhardt University': 'NAIA', 'Rend Lake College': 'JC', 'Rensselaer Polytechnic Institute – RPI': 'NCAA D3', 'Rhode Island College': 'NCAA D3', 'Rhodes College': 'NCAA D3', 'Rice University': 'NCAA D1', 'Richard Bland College': 'JC', 'Richland College': 'JC', 'Rider University': 'NCAA D1', 'Ridgewater College': 'JC', 'Ripon College': 'NCAA D3', 'Riverland Community College': 'JC', 'Rivier University': 'NCAA D3', 'Roane State Community College': 'JC', 'Roanoke College': 'NCAA D3', 'Robert Morris University – Pennsylvania': 'NCAA D1', 'Roberts Wesleyan University': 'NCAA D2', 'Rochester Community & Technical College': 'JC', 'Rochester Institute of Technology': 'NCAA D3', 'Rochester University': 'NAIA', 'Rock Valley College': 'JC', 'Rockford University': 'NCAA D3', 'Rockhurst University': 'NCAA D2', 'Rocky Mountain College': 'NAIA', 'Roger Williams University': 'NCAA D3', 'Rogers State University': 'NCAA D2', 'Rollins College': 'NCAA D2', 'Roosevelt University': 'NAIA', 'Rose-Hulman Institute of Technology': 'NCAA D3', 'Rosemont College': 'NCAA D3', 'Rowan College – South Jersey (Formerly Cumberland County College)': 'JC', 'Rowan College – South Jersey (Gloucester)': 'JC', 'Rowan University': 'NCAA D3', 'Roxbury Community College': 'JC', 'Russell Sage College': 'NCAA D3', 'Rutgers University': 'NCAA D1', 'Rutgers University – Newark': 'NCAA D3', 'Sacramento City College': 'JC', 'Sacred Heart University': 'NCAA D1', 'Saddleback College': 'JC', 'Saginaw Valley State University': 'NCAA D2', 'Saint Anselm College': 'NCAA D2', \"Saint Augustine's University\": 'NCAA D2', 'Saint Elizabeth University': 'NCAA D3', 'Saint Francis University': 'NCAA D1', \"Saint John's University – Minnesota\": 'NCAA D3', \"Saint Joseph's College of Maine\": 'NCAA D3', \"Saint Joseph's University\": 'NCAA D1', 'Saint Leo University': 'NCAA D2', 'Saint Louis University': 'NCAA D1', \"Saint Martin's University\": 'NCAA D2', \"Saint Mary's College of California\": 'NCAA D1', \"Saint Mary's University of Minnesota\": 'NCAA D3', \"Saint Michael's College\": 'NCAA D2', \"Saint Peter's University\": 'NCAA D1', 'Saint Vincent College – Pennsylvania': 'NCAA D3', 'Saint Xavier University': 'NAIA', 'Salem Community College': 'JC', 'Salem State University': 'NCAA D3', 'Salem University': 'NCAA D2', 'Salisbury University': 'NCAA D3', 'Salt Lake Community College': 'JC', 'Salve Regina University': 'NCAA D3', 'Sam Houston State University': 'NCAA D1', 'Samford University': 'NCAA D1', 'San Bernardino Valley College': 'JC', 'San Diego Christian College': 'NAIA', 'San Diego City College': 'JC', 'San Diego Miramar College': 'JC', 'San Diego State University': 'NCAA D1', 'San Francisco State University': 'NCAA D2', 'San Jose City College': 'JC', 'San Jose State University': 'NCAA D1', 'Sandhills Community College': 'JC', 'Santa Barbara City College': 'JC', 'Santa Clara University': 'NCAA D1', 'Santa Fe College': 'JC', 'Santa Monica College': 'JC', 'Santa Rosa Junior College': 'JC', 'Santiago Canyon College': 'JC', 'Sarah Lawrence College': 'NCAA D3', 'Sauk Valley Community College': 'JC', 'Savannah State University': 'NCAA D2', 'Schoolcraft College': 'JC', 'Schreiner University': 'NCAA D3', 'Scottsdale Community College': 'JC', 'Seattle Pacific University': 'NCAA D2', 'Seattle University': 'NCAA D1', 'Seminole State College': 'JC', 'Seton Hall University': 'NCAA D1', 'Seton Hill University': 'NCAA D2', 'Sewanee – The University of the South': 'NCAA D3', 'Seward County Community College': 'JC', 'Shasta College': 'JC', 'Shaw University': 'NCAA D2', 'Shawnee Community College': 'JC', 'Shawnee State University': 'NAIA', 'Shelton State Community College': 'JC', 'Shenandoah University': 'NCAA D3', 'Shepherd University': 'NCAA D2', 'Shippensburg University of Pennsylvania': 'NCAA D2', 'Shoreline Community College': 'JC', 'Shorter University': 'NCAA D2', 'Siena College': 'NCAA D1', 'Siena Heights University': 'NAIA', 'Simmons College of Kentucky': 'JC', 'Simpson College': 'NCAA D3', 'Simpson University': 'NAIA', 'Sinclair Community College': 'JC', 'Skagit Valley College': 'JC', 'Skidmore College': 'NCAA D3', 'Skyline College – San Bruno': 'JC', 'Slippery Rock University': 'NCAA D2', 'Snead State Community College': 'JC', 'Snow College': 'JC', 'Sonoma State University': 'NCAA D2', 'South Arkansas Community College': 'JC', 'South Carolina State University': 'NCAA D1', 'South Dakota Mines': 'NCAA D2', 'South Dakota State University': 'NCAA D1', 'South Georgia State College': 'JC', 'South Georgia Technical College': 'JC', 'South Mountain Community College': 'JC', 'South Plains College': 'JC', 'South Puget Sound Community College': 'JC', 'South Suburban College': 'JC', 'Southeast Community College – Lincoln': 'JC', 'Southeast Missouri State University': 'NCAA D1', 'Southeastern Community College – Iowa': 'JC', 'Southeastern Illinois College': 'JC', 'Southeastern Louisiana University': 'NCAA D1', 'Southeastern Oklahoma State University': 'NCAA D2', 'Southeastern University': 'NAIA', 'Southern Arkansas University': 'NCAA D2', 'Southern Arkansas University Tech': 'JC', 'Southern Connecticut State University': 'NCAA D2', 'Southern Crescent Technical College': 'JC', 'Southern Illinois University Carbondale': 'NCAA D1', 'Southern Illinois University Edwardsville': 'NCAA D1', 'Southern Maine Community College': 'JC', 'Southern Methodist University – SMU': 'NCAA D1', 'Southern Nazarene University': 'NCAA D2', 'Southern New Hampshire University': 'NCAA D2', 'Southern Oregon University': 'NAIA', 'Southern Union State Community College': 'JC', 'Southern University & A&M College': 'NCAA D1', 'Southern University at New Orleans': 'NAIA', 'Southern University at Shreveport': 'JC', 'Southern Utah University': 'NCAA D1', 'Southern Virginia University': 'NCAA D3', 'Southern Wesleyan University': 'NCAA D2', 'Southwest Baptist University': 'NCAA D2', 'Southwest Minnesota State University': 'NCAA D2', 'Southwest Mississippi Community College': 'JC', 'Southwest Tennessee Community College': 'JC', 'Southwest Virginia Community College': 'JC', 'Southwestern Assemblies of God University': 'NAIA', 'Southwestern Christian College': 'JC', 'Southwestern Christian University': 'NAIA', 'Southwestern College – Kansas': 'NAIA', 'Southwestern Community College': 'JC', 'Southwestern Illinois College': 'JC', 'Southwestern Oklahoma State University': 'NCAA D2', 'Southwestern Oregon Community College': 'JC', 'Southwestern University': 'NCAA D3', 'Spalding University': 'NCAA D3', 'Spartanburg Methodist College': 'JC', 'Spokane Falls Community College': 'JC', 'Spoon River College': 'JC', 'Spring Arbor University': 'NAIA', 'Spring Hill College': 'NCAA D2', 'Springfield College': 'NCAA D3', 'Springfield Technical Community College': 'JC', 'St. Ambrose University': 'NAIA', 'St. Andrews University': 'NAIA', 'St. Bonaventure University': 'NCAA D1', 'St. Catherine University': 'NCAA D3', 'St. Clair County Community College': 'JC', 'St. Cloud State University': 'NCAA D2', 'St. Cloud Technical & Community College': 'JC', \"St. Edward's University\": 'NCAA D2', 'St. Francis College': 'NCAA D1', 'St. John Fisher College': 'NCAA D3', \"St. John's University – New York\": 'NCAA D1', \"St. Joseph's College – Long Island\": 'NCAA D3', \"St. Joseph's University – New York\": 'NCAA D3', 'St. Lawrence University': 'NCAA D3', 'St. Louis Community College – Forest Park': 'JC', 'St. Louis Community College – Meramec': 'JC', \"St. Mary's College of Maryland\": 'NCAA D3', \"St. Mary's University – Texas\": 'NCAA D2', 'St. Norbert College': 'NCAA D3', 'St. Olaf College': 'NCAA D3', 'St. Petersburg College': 'JC', 'St. Thomas Aquinas College': 'NCAA D2', 'St. Thomas University – Florida': 'NAIA', 'Stanford University': 'NCAA D1', 'State College of Florida – Manatee-Sarasota': 'JC', 'State Fair Community College': 'JC', 'Stephen F Austin State University': 'NCAA D1', 'Sterling College – Kansas': 'NAIA', 'Stetson University': 'NCAA D1', 'Stevens Institute of Technology': 'NCAA D3', 'Stevenson University': 'NCAA D3', 'Stillman College': 'NAIA', 'Stockton University': 'NCAA D3', 'Stonehill College': 'NCAA D2', 'Suffolk County Community College': 'JC', 'Suffolk University': 'NCAA D3', 'Sul Ross State University': 'NCAA D3', 'SUNY Adirondack Community College': 'JC', 'SUNY Binghamton University': 'NCAA D1', 'SUNY Broome Community College': 'JC', 'SUNY Buffalo State University': 'NCAA D3', 'SUNY Canton': 'NCAA D3', 'SUNY Cayuga Community College': 'JC', 'SUNY Clinton Community College': 'JC', 'SUNY College at Brockport': 'NCAA D3', 'SUNY College at Old Westbury': 'NCAA D3', 'SUNY College at Oneonta': 'NCAA D3', 'SUNY College of Agriculture & Technology at Cobleskill': 'NCAA D3', 'SUNY Cortland': 'NCAA D3', 'SUNY Dutchess Community College': 'JC', 'SUNY Erie Community College': 'JC', 'SUNY Farmingdale State College': 'NCAA D3', 'SUNY Fredonia': 'NCAA D3', 'SUNY Fulton-Montgomery Community College': 'JC', 'SUNY Genesee Community College': 'JC', 'SUNY Geneseo': 'NCAA D3', 'SUNY Herkimer County Community College': 'JC', 'SUNY Hudson Valley Community College': 'JC', 'SUNY Jamestown Community College': 'JC', 'SUNY Jefferson Community College': 'JC', 'SUNY Maritime College': 'NCAA D3', 'SUNY Mohawk Valley Community College': 'JC', 'SUNY Monroe Community College': 'JC', 'SUNY Morrisville': 'NCAA D3', 'SUNY New Paltz': 'NCAA D3', 'SUNY Niagara County Community College': 'JC', 'SUNY North Country Community College': 'JC', 'SUNY Orange County Community College': 'JC', 'SUNY Oswego': 'NCAA D3', 'SUNY Plattsburgh': 'NCAA D3', 'SUNY Potsdam': 'NCAA D3', 'SUNY Purchase College': 'NCAA D3', 'SUNY Rockland Community College': 'JC', 'SUNY Stony Brook University': 'NCAA D1', 'SUNY Sullivan County Community College': 'JC', 'SUNY Tompkins Cortland Community College': 'JC', 'SUNY Ulster County Community College': 'JC', 'SUNY University at Albany': 'NCAA D1', 'SUNY University at Buffalo': 'NCAA D1', 'SUNY Westchester Community College': 'JC', 'Susquehanna University': 'NCAA D3', 'Sussex County Community College': 'JC', 'Swarthmore College': 'NCAA D3', 'Syracuse University': 'NCAA D1', 'Tabor College': 'NAIA', 'Tacoma Community College': 'JC', 'Talladega College': 'NAIA', 'Tallahassee Community College': 'JC', 'Tarleton State University': 'NCAA D2', 'Taylor University': 'NAIA', 'Temple College': 'JC', 'Temple University': 'NCAA D1', 'Tennessee State University': 'NCAA D1', 'Tennessee Wesleyan University': 'NAIA', 'Terra State Community College': 'JC', 'Texas A&M International University': 'NCAA D2', 'Texas A&M University': 'NCAA D1', 'Texas A&M University – Commerce': 'NCAA D1', 'Texas A&M University – Corpus Christi': 'NCAA D1', 'Texas A&M University – Kingsville': 'NCAA D2', 'Texas Christian University': 'NCAA D1', 'Texas College': 'NAIA', 'Texas Lutheran University': 'NCAA D3', 'Texas Southern University': 'NCAA D1', 'Texas State University': 'NCAA D1', 'Texas Tech University': 'NCAA D1', 'Texas Wesleyan University': 'NAIA', 'Thaddeus Stevens College of Technology': 'JC', 'The Citadel': 'NCAA D1', 'The College of Idaho': 'NAIA', 'The College of New Jersey': 'NCAA D3', 'The College of Saint Rose': 'NCAA D2', 'The College of St. Scholastica': 'NCAA D3', 'The Community College of Baltimore County – Catonsville Campus': 'JC', \"The Master's University\": 'NAIA', \"The University of Virginia's College at Wise\": 'NCAA D2', 'Thiel College': 'NCAA D3', 'Thomas College': 'NCAA D3', 'Thomas Jefferson University (Formerly Philadelphia University)': 'NCAA D2', 'Thomas More University': 'NCAA D2', 'Thomas University': 'NAIA', 'Three Rivers College': 'JC', 'Tiffin University': 'NCAA D2', 'Tougaloo College': 'NAIA', 'Towson University': 'NCAA D1', 'Transylvania University': 'NCAA D3', 'Treasure Valley Community College': 'JC', 'Trevecca Nazarene University': 'NCAA D2', 'Trine University': 'NCAA D3', 'Trinidad State College': 'JC', 'Trinity Christian College': 'NAIA', 'Trinity College – Connecticut': 'NCAA D3', 'Trinity University – Texas': 'NCAA D3', 'Trinity Valley Community College': 'JC', 'Triton College': 'JC', 'Troy University': 'NCAA D1', 'Truett-McConnell University': 'NAIA', 'Truman State University': 'NCAA D2', 'Tufts University': 'NCAA D3', 'Tulane University': 'NCAA D1', 'Tusculum University': 'NCAA D2', 'Tuskegee University': 'NCAA D2', 'Tyler Junior College': 'JC', 'Umpqua Community College': 'JC', 'Union College – Kentucky': 'NAIA', 'Union College – New York': 'NCAA D3', 'Union County College': 'JC', 'Union University': 'NCAA D2', 'United States Air Force Academy': 'NCAA D1', 'United States Coast Guard Academy': 'NCAA D3', 'United States Merchant Marine Academy': 'NCAA D3', 'United States Military Academy': 'NCAA D1', 'United States Naval Academy': 'NCAA D1', 'United Tribes Technical College': 'JC', 'University of Akron': 'NCAA D1', 'University of Alabama': 'NCAA D1', 'University of Alabama – Birmingham': 'NCAA D1', 'University of Alabama – Huntsville': 'NCAA D2', 'University of Alaska – Anchorage': 'NCAA D2', 'University of Alaska – Fairbanks': 'NCAA D2', 'University of Antelope Valley': 'NAIA', 'University of Arizona': 'NCAA D1', 'University of Arkansas': 'NCAA D1', 'University of Arkansas – Cossatot': 'JC', 'University of Arkansas – Fort Smith': 'NCAA D2', 'University of Arkansas at Little Rock': 'NCAA D1', 'University of Arkansas at Monticello': 'NCAA D2', 'University of Arkansas at Pine Bluff': 'NCAA D1', 'University of Bridgeport': 'NCAA D2', 'University of California – Berkeley': 'NCAA D1', 'University of California – Davis': 'NCAA D1', 'University of California – Irvine': 'NCAA D1', 'University of California – Los Angeles – UCLA': 'NCAA D1', 'University of California – Merced': 'NAIA', 'University of California – Riverside': 'NCAA D1', 'University of California – San Diego': 'NCAA D1', 'University of California – Santa Barbara': 'NCAA D1', 'University of California – Santa Cruz': 'NCAA D3', 'University of Central Arkansas': 'NCAA D1', 'University of Central Florida': 'NCAA D1', 'University of Central Missouri': 'NCAA D2', 'University of Central Oklahoma': 'NCAA D2', 'University of Charleston': 'NCAA D2', 'University of Chicago': 'NCAA D3', 'University of Cincinnati': 'NCAA D1', 'University of Colorado – Boulder': 'NCAA D1', 'University of Colorado – Colorado Springs': 'NCAA D2', 'University of Connecticut': 'NCAA D1', 'University of Connecticut – Avery Point': 'JC', 'University of Dallas': 'NCAA D3', 'University of Dayton': 'NCAA D1', 'University of Delaware': 'NCAA D1', 'University of Denver': 'NCAA D1', 'University of Detroit Mercy': 'NCAA D1', 'University of Dubuque': 'NCAA D3', 'University of Evansville': 'NCAA D1', 'University of Findlay': 'NCAA D2', 'University of Florida': 'NCAA D1', 'University of Georgia': 'NCAA D1', 'University of Hartford': 'NCAA D3', 'University of Hawaii at Hilo': 'NCAA D2', 'University of Hawaii at Manoa': 'NCAA D1', 'University of Health Sciences & Pharmacy in St. Louis (UHSP)': 'NAIA', 'University of Houston': 'NCAA D1', 'University of Houston – Downtown': 'NCAA D3', 'University of Idaho': 'NCAA D1', 'University of Illinois': 'NCAA D1', 'University of Illinois at Chicago': 'NCAA D1', 'University of Illinois at Springfield': 'NCAA D2', 'University of Indianapolis': 'NCAA D2', 'University of Iowa': 'NCAA D1', 'University of Jamestown': 'NAIA', 'University of Kansas': 'NCAA D1', 'University of Kentucky': 'NCAA D1', 'University of La Verne': 'NCAA D3', 'University of Louisiana': 'NCAA D1', 'University of Louisiana – Monroe': 'NCAA D1', 'University of Louisville': 'NCAA D1', 'University of Lynchburg': 'NCAA D3', 'University of Maine': 'NCAA D1', 'University of Maine at Farmington': 'NCAA D3', 'University of Maine at Presque Isle': 'NCAA D3', 'University of Mary': 'NCAA D2', 'University of Mary Hardin-Baylor': 'NCAA D3', 'University of Mary Washington': 'NCAA D3', 'University of Maryland': 'NCAA D1', 'University of Maryland – Baltimore County': 'NCAA D1', 'University of Maryland Eastern Shore': 'NCAA D1', 'University of Massachusetts – Amherst': 'NCAA D1', 'University of Massachusetts – Boston': 'NCAA D3', 'University of Massachusetts – Dartmouth': 'NCAA D3', 'University of Massachusetts – Lowell': 'NCAA D1', 'University of Memphis': 'NCAA D1', 'University of Miami': 'NCAA D1', 'University of Michigan': 'NCAA D1', 'University of Michigan – Dearborn': 'NAIA', 'University of Minnesota': 'NCAA D1', 'University of Minnesota – Crookston': 'NCAA D2', 'University of Minnesota – Duluth': 'NCAA D2', 'University of Minnesota – Morris': 'NCAA D3', 'University of Mississippi': 'NCAA D1', 'University of Missouri': 'NCAA D1', 'University of Missouri – Kansas City': 'NCAA D1', 'University of Missouri – St. Louis': 'NCAA D2', 'University of Mobile': 'NAIA', 'University of Montana': 'NCAA D1', 'University of Montana – Western': 'NAIA', 'University of Montevallo': 'NCAA D2', 'University of Mount Olive': 'NCAA D2', 'University of Mount Union': 'NCAA D3', 'University of Nebraska': 'NCAA D1', 'University of Nebraska at Kearney': 'NCAA D2', 'University of Nebraska at Omaha': 'NCAA D1', 'University of Nevada – Las Vegas': 'NCAA D1', 'University of Nevada – Reno': 'NCAA D1', 'University of New England': 'NCAA D3', 'University of New Hampshire': 'NCAA D1', 'University of New Haven': 'NCAA D2', 'University of New Mexico': 'NCAA D1', 'University of New Orleans': 'NCAA D1', 'University of North Alabama': 'NCAA D1', 'University of North Carolina – Greensboro': 'NCAA D1', 'University of North Carolina – Wilmington': 'NCAA D1', 'University of North Carolina Asheville': 'NCAA D1', 'University of North Carolina at Chapel Hill': 'NCAA D1', 'University of North Carolina at Charlotte': 'NCAA D1', 'University of North Carolina at Pembroke': 'NCAA D2', 'University of North Dakota': 'NCAA D1', 'University of North Florida': 'NCAA D1', 'University of North Georgia': 'NCAA D2', 'University of North Texas': 'NCAA D1', 'University of North Texas at Dallas': 'NAIA', 'University of Northern Colorado': 'NCAA D1', 'University of Northern Iowa': 'NCAA D1', 'University of Northwestern – St. Paul': 'NCAA D3', 'University of Northwestern Ohio': 'NAIA', 'University of Notre Dame': 'NCAA D1', 'University of Oklahoma': 'NCAA D1', 'University of Oregon': 'NCAA D1', 'University of Pennsylvania – Penn': 'NCAA D1', 'University of Pikeville': 'NAIA', 'University of Pittsburgh': 'NCAA D1', 'University of Pittsburgh – Bradford': 'NCAA D3', 'University of Pittsburgh – Greensburg': 'NCAA D3', 'University of Pittsburgh – Johnstown': 'NCAA D2', 'University of Portland': 'NCAA D1', 'University of Providence': 'NAIA', 'University of Puget Sound': 'NCAA D3', 'University of Redlands': 'NCAA D3', 'University of Rhode Island': 'NCAA D1', 'University of Richmond': 'NCAA D1', 'University of Rio Grande': 'NAIA', 'University of Rochester': 'NCAA D3', 'University of Saint Francis – Indiana': 'NAIA', 'University of Saint Joseph': 'NCAA D3', 'University of Saint Katherine': 'NAIA', 'University of Saint Mary': 'NAIA', 'University of San Diego': 'NCAA D1', 'University of San Francisco': 'NCAA D1', 'University of Science & Arts of Oklahoma': 'NAIA', 'University of Scranton': 'NCAA D3', 'University of Sioux Falls': 'NCAA D2', 'University of South Alabama': 'NCAA D1', 'University of South Carolina': 'NCAA D1', 'University of South Carolina – Salkehatchie': 'JC', 'University of South Carolina – Upstate': 'NCAA D1', 'University of South Carolina Aiken': 'NCAA D2', 'University of South Dakota': 'NCAA D1', 'University of South Florida': 'NCAA D1', 'University of Southern California': 'NCAA D1', 'University of Southern Indiana': 'NCAA D2', 'University of Southern Maine': 'NCAA D3', 'University of Southern Mississippi': 'NCAA D1', 'University of St. Francis – Illinois': 'NAIA', 'University of St. Thomas – Minnesota': 'NCAA D1', 'University of St. Thomas – Texas': 'NCAA D3', 'University of Tampa': 'NCAA D2', 'University of Tennessee': 'NCAA D1', 'University of Tennessee – Chattanooga': 'NCAA D1', 'University of Tennessee – Martin': 'NCAA D1', 'University of Texas – Arlington': 'NCAA D1', 'University of Texas – Austin': 'NCAA D1', 'University of Texas – El Paso': 'NCAA D1', 'University of Texas – Permian Basin': 'NCAA D2', 'University of Texas – Rio Grande Valley': 'NCAA D1', 'University of Texas – San Antonio': 'NCAA D1', 'University of Texas at Dallas': 'NCAA D3', 'University of the Cumberlands': 'NAIA', 'University of the Incarnate Word': 'NCAA D1', 'University of the Ozarks': 'NCAA D3', 'University of the Pacific': 'NCAA D1', 'University of the Southwest': 'NAIA', 'University of Toledo': 'NCAA D1', 'University of Tulsa': 'NCAA D1', 'University of Utah': 'NCAA D1', 'University of Vermont': 'NCAA D1', 'University of Virginia': 'NCAA D1', 'University of Washington': 'NCAA D1', 'University of West Alabama': 'NCAA D2', 'University of West Florida': 'NCAA D2', 'University of West Georgia': 'NCAA D2', 'University of Wisconsin': 'NCAA D1', 'University of Wisconsin – Eau Claire': 'NCAA D3', 'University of Wisconsin – Fond du Lac Campus': 'JC', 'University of Wisconsin – Green Bay': 'NCAA D1', 'University of Wisconsin – La Crosse': 'NCAA D3', 'University of Wisconsin – Milwaukee': 'NCAA D1', 'University of Wisconsin – Oshkosh': 'NCAA D3', 'University of Wisconsin – Parkside': 'NCAA D2', 'University of Wisconsin – Platteville': 'NCAA D3', 'University of Wisconsin – River Falls': 'NCAA D3', 'University of Wisconsin – Stevens Point': 'NCAA D3', 'University of Wisconsin – Stout': 'NCAA D3', 'University of Wisconsin – Superior': 'NCAA D3', 'University of Wisconsin – Waukesha': 'JC', 'University of Wisconsin – Whitewater': 'NCAA D3', 'University of Wisconsin — Marinette': 'JC', 'University of Wisconsin — Marshfield-Wood County Campus': 'JC', 'University of Wyoming': 'NCAA D1', 'Upper Iowa University': 'NCAA D2', 'Ursinus College': 'NCAA D3', 'Utah State University': 'NCAA D1', 'Utah State University Eastern': 'JC', 'Utah Tech University (Formerly Dixie State University)': 'NCAA D1', 'Utah Valley University': 'NCAA D1', 'Utica University': 'NCAA D3', 'Valdosta State University': 'NCAA D2', 'Valley City State University': 'NAIA', 'Valparaiso University': 'NCAA D1', 'Vance-Granville Community College': 'JC', 'Vanderbilt University': 'NCAA D1', 'Vanguard University of Southern California': 'NAIA', 'Vassar College': 'NCAA D3', 'Vermont State University – Johnson': 'NCAA D3', 'Victor Valley College': 'JC', 'Victoria College': 'JC', 'Villanova University': 'NCAA D1', 'Vincennes University': 'JC', 'Virginia Commonwealth University': 'NCAA D1', 'Virginia Military Institute – VMI': 'NCAA D1', 'Virginia Peninsula Community College': 'JC', 'Virginia State University': 'NCAA D2', 'Virginia Tech': 'NCAA D1', 'Virginia Union University': 'NCAA D2', 'Virginia Wesleyan University': 'NCAA D3', 'Viterbo University': 'NAIA', 'Volunteer State Community College': 'JC', 'Voorhees College': 'NAIA', 'Wabash College': 'NCAA D3', 'Wabash Valley College': 'JC', 'Wagner College': 'NCAA D1', 'Wake Forest University': 'NCAA D1', 'Wake Technical Community College': 'JC', 'Waldorf University': 'NAIA', 'Walla Walla Community College': 'JC', 'Wallace Community College': 'JC', 'Wallace State Community College – Hanceville': 'JC', 'Walsh University': 'NCAA D2', 'Walters State Community College': 'JC', 'Warner Pacific University': 'NAIA', 'Warner University': 'NAIA', 'Warren Wilson College': 'NCAA D3', 'Wartburg College': 'NCAA D3', 'Washburn University': 'NCAA D2', 'Washington & Jefferson College': 'NCAA D3', 'Washington & Lee University': 'NCAA D3', 'Washington Adventist University': 'NAIA', 'Washington College': 'NCAA D3', 'Washington State University': 'NCAA D1', 'Washington University in St. Louis': 'NCAA D3', 'Waubonsee Community College': 'JC', 'Wayland Baptist University': 'NAIA', 'Wayne County Community College': 'JC', 'Wayne State College': 'NCAA D2', 'Wayne State University': 'NCAA D2', 'Waynesburg University': 'NCAA D3', 'Weatherford College': 'JC', 'Webber International University': 'NAIA', 'Weber State University': 'NCAA D1', 'Webster University': 'NCAA D3', 'Wells College': 'NCAA D3', 'Wenatchee Valley College': 'JC', 'Wentworth Institute of Technology': 'NCAA D3', 'Wesleyan University': 'NCAA D3', 'West Chester University of Pennsylvania': 'NCAA D2', 'West Hills College – Coalinga': 'JC', 'West Hills College – Lemoore': 'JC', 'West Liberty University': 'NCAA D2', 'West Los Angeles College': 'JC', 'West Texas A&M University': 'NCAA D2', 'West Virginia State University': 'NCAA D2', 'West Virginia University': 'NCAA D1', 'West Virginia University Institute of Technology': 'NAIA', 'West Virginia University Potomac State College': 'JC', 'West Virginia Wesleyan College': 'NCAA D2', 'Westcliff University': 'NAIA', 'Western Carolina University': 'NCAA D1', 'Western Colorado University': 'NCAA D2', 'Western Connecticut State University': 'NCAA D3', 'Western Illinois University': 'NCAA D1', 'Western Kentucky University': 'NCAA D1', 'Western Michigan University': 'NCAA D1', 'Western Nebraska Community College': 'JC', 'Western New England University': 'NCAA D3', 'Western New Mexico University': 'NCAA D2', 'Western Oklahoma State College': 'JC', 'Western Oregon University': 'NCAA D2', 'Western Technical College – Wisconsin': 'JC', 'Western Texas College': 'JC', 'Western Washington University': 'NCAA D2', 'Western Wyoming Community College': 'JC', 'Westfield State University': 'NCAA D3', 'Westminster College – Missouri': 'NCAA D3', 'Westminster College – Pennsylvania': 'NCAA D3', 'Westminster College – Utah': 'NCAA D2', 'Westmont College': 'NAIA', 'Westmoreland County Community College': 'JC', 'Whatcom Community College': 'JC', 'Wheaton College – Illinois': 'NCAA D3', 'Wheaton College – Massachusetts': 'NCAA D3', 'Wheeling University': 'NCAA D2', 'Whitman College': 'NCAA D3', 'Whittier College': 'NCAA D3', 'Whitworth University': 'NCAA D3', 'Wichita State University': 'NCAA D1', 'Widener University': 'NCAA D3', 'Wilberforce University': 'NAIA', 'Wiley College': 'NAIA', 'Wilkes University': 'NCAA D3', 'Willamette University': 'NCAA D3', 'William & Mary': 'NCAA D1', 'William Carey University': 'NAIA', 'William Jessup University': 'NAIA', 'William Jewell College': 'NCAA D2', 'William Paterson University of New Jersey': 'NCAA D3', 'William Peace University': 'NCAA D3', 'William Penn University': 'NAIA', 'William Woods University': 'NAIA', 'Williams Baptist University': 'NAIA', 'Williams College': 'NCAA D3', 'Williamson College of the Trades': 'JC', 'Williston State College': 'JC', 'Wilmington College': 'NCAA D3', 'Wilmington University': 'NCAA D2', 'Wilson College': 'NCAA D3', 'Wingate University': 'NCAA D2', 'Winona State University': 'NCAA D2', 'Winston-Salem State University': 'NCAA D2', 'Winthrop University': 'NCAA D1', 'Wittenberg University': 'NCAA D3', 'Wofford College': 'NCAA D1', 'Worcester Polytechnic Institute': 'NCAA D3', 'Worcester State University': 'NCAA D3', 'Wright State University': 'NCAA D1', 'Xavier University': 'NCAA D1', 'Xavier University of Louisiana': 'NAIA', 'Yakima Valley College': 'JC', 'Yale University': 'NCAA D1', 'Yavapai College': 'JC', 'Yeshiva University': 'NCAA D3', 'York College of Pennsylvania': 'NCAA D3', 'York University': 'NAIA', 'Young Harris College': 'NCAA D2', 'Youngstown State University': 'NCAA D1'}\n"
          ]
        }
      ]
    },
    {
      "cell_type": "code",
      "source": [
        "# Checks to see if best_college_rank was originally lower. If so, clears input array\n",
        "def new_best_college_rank_clear(arr, best_college_rank, new_best_college_rank):\n",
        "  if new_best_college_rank > best_college_rank:\n",
        "    arr.clear()\n",
        "    best_college_rank = new_best_college_rank\n",
        "  return arr\n",
        "\n",
        "def match_school(input_name, school_list, college_and_division_together, limit=10):\n",
        "  top_x = rapidfuzz.process.extract(input_name, school_list, limit=limit)\n",
        "\n",
        "  rankings = {\n",
        "      5: 'NCAA D1',\n",
        "      4: 'NCAA D2',\n",
        "      3: 'NCAA D3',\n",
        "      2: 'NAIA',\n",
        "      1: 'JC'\n",
        "  }\n",
        "\n",
        "  best_college_rank = 0\n",
        "  best_colleges = []\n",
        "  for x in top_x:\n",
        "    if college_and_division_together[x[0]] == 'NCAA D1' and best_college_rank <= 5:\n",
        "      best_colleges = new_best_college_rank_clear(best_colleges, best_college_rank, 5)\n",
        "      best_colleges.append(x[0])\n",
        "      best_college_rank = 5\n",
        "    elif college_and_division_together[x[0]] == 'NCAA D2' and best_college_rank <= 4:\n",
        "      best_colleges = new_best_college_rank_clear(best_colleges, best_college_rank, 4)\n",
        "      best_colleges.append(x[0])\n",
        "      best_college_rank = 4\n",
        "    elif college_and_division_together[x[0]] == 'NCAA D3' and best_college_rank <= 3:\n",
        "      best_colleges = new_best_college_rank_clear(best_colleges, best_college_rank, 3)\n",
        "      best_colleges.append(x[0])\n",
        "      best_college_rank = 3\n",
        "    elif college_and_division_together[x[0]] == 'NAIA' and best_college_rank <= 2:\n",
        "      best_colleges = new_best_college_rank_clear(best_colleges, best_college_rank, 2)\n",
        "      best_colleges.append(x[0])\n",
        "      best_college_rank = 2\n",
        "    elif college_and_division_together[x[0]] == 'JC' and best_college_rank <= 1:\n",
        "      best_colleges = new_best_college_rank_clear(best_colleges, best_college_rank, 1)\n",
        "      best_colleges.append(x[0])\n",
        "      best_college_rank = 1\n",
        "\n",
        "  if best_college_rank == 0:\n",
        "    return None\n",
        "\n",
        "  # Otherwise, do another rapidfuzz for the best college\n",
        "  return rapidfuzz.process.extractOne(input_name, best_colleges)[0]"
      ],
      "metadata": {
        "id": "zmLPNMOj2Ghq"
      },
      "execution_count": 27,
      "outputs": []
    },
    {
      "cell_type": "code",
      "source": [
        "print(match_school(player['Team'], colleges, college_and_division))"
      ],
      "metadata": {
        "colab": {
          "base_uri": "https://localhost:8080/"
        },
        "id": "2zVR2kRe2OqI",
        "outputId": "f092e07a-8adb-4919-a018-4656bf485007"
      },
      "execution_count": 28,
      "outputs": [
        {
          "output_type": "stream",
          "name": "stdout",
          "text": [
            "Georgia Southern University\n"
          ]
        }
      ]
    },
    {
      "cell_type": "code",
      "source": [
        "from itertools import combinations"
      ],
      "metadata": {
        "id": "dXBzzLTMpIZR"
      },
      "execution_count": 30,
      "outputs": []
    },
    {
      "cell_type": "code",
      "source": [
        "# Extra helper functions for making ID's for each school\n",
        "\n",
        "# Function to strip everything not a letter and uppercase letters\n",
        "def strip_and_uppercase_string(string):\n",
        "  # Sub anything not regex in string with nothing, then uppercase\n",
        "  return re.sub(r'[^A-Za-z]', '', string).upper()\n",
        "\n",
        "# Takes string of letters and returns all possible combinations\n",
        "def all_possible_ids(letter_string):\n",
        "  ids = range(len(letter_string))\n",
        "  for combo in combinations(ids, 4):\n",
        "    yield ''.join(letter_string[i] for i in combo)\n",
        "\n",
        "def unique_college_ids(names):\n",
        "  # For easier addition\n",
        "  used = set()\n",
        "  result = {}\n",
        "  for name in names:\n",
        "    letters = strip_and_uppercase_string(name)\n",
        "    for id in all_possible_ids(letters):\n",
        "      if id not in used:\n",
        "        used.add(id)\n",
        "        result[name] = id\n",
        "        break\n",
        "  return result"
      ],
      "metadata": {
        "id": "d9QuumAJosNS"
      },
      "execution_count": 31,
      "outputs": []
    },
    {
      "cell_type": "code",
      "source": [
        "college_ids = unique_college_ids(colleges)"
      ],
      "metadata": {
        "collapsed": true,
        "id": "YZ7fB_i4rMA4"
      },
      "execution_count": 34,
      "outputs": []
    },
    {
      "cell_type": "code",
      "source": [
        "# Make the colleges table I guess\n",
        "# Needed fields - College_Name, College_State, Conference, Division\n",
        "def player_info_to_college_sql(player, college_ids=college_ids, colleges=colleges, college_and_division=college_and_division, college_info=college_info):\n",
        "  # Figure out what school it is\n",
        "  college_name = match_school(player['Team'], colleges, college_and_division)\n",
        "\n",
        "  # Use college_ids to figure out what the ID should be\n",
        "  college_id = college_ids[college_name]\n",
        "\n",
        "  ### Figure out remaining college information needed\n",
        "  info = {\n",
        "      'College_ID': college_id,\n",
        "      'College_Name': college_name,\n",
        "      'College_City': college_info[college_name]['College_City'],\n",
        "      'College_State': college_info[college_name]['College_State'],\n",
        "      'Conference': college_info[college_name]['Conference'],\n",
        "      'Division': college_and_division[college_name]\n",
        "  }\n",
        "\n",
        "  # Make SQL Query\n",
        "  sql_query = f\"insert into College values (\"\n",
        "  for key in info.keys():\n",
        "    sql_query += f\"'{info[key]}', \"\n",
        "  sql_query = sql_query[:-2]\n",
        "  sql_query += \");\"\n",
        "\n",
        "  return sql_query"
      ],
      "metadata": {
        "id": "DI1ZWOQo9hnW"
      },
      "execution_count": 87,
      "outputs": []
    },
    {
      "cell_type": "code",
      "source": [
        "print(player_info_to_college_sql(player, college_ids, colleges, college_and_division))"
      ],
      "metadata": {
        "colab": {
          "base_uri": "https://localhost:8080/"
        },
        "id": "n_lGsEZHsqdP",
        "outputId": "46b36b7a-4c03-4f1f-ebcb-b28ca8399909"
      },
      "execution_count": 69,
      "outputs": [
        {
          "output_type": "stream",
          "name": "stdout",
          "text": [
            "insert into college values ('GEOS', 'Georgia Southern University', 'Statesboro', 'Georgia', 'Sun Belt Conference', 'NCAA D1');\n"
          ]
        }
      ]
    },
    {
      "cell_type": "code",
      "source": [
        "# Changing the date format into something that I can use with SQL\n",
        "from datetime import datetime\n",
        "\n",
        "def to_sql_date(date_str):\n",
        "  for fmt in ('%b %d, %Y', '%B %d, %Y'):\n",
        "    try:\n",
        "      return datetime.strptime(date_str, fmt).strftime('%Y-%m-%d')\n",
        "    except ValueError:\n",
        "      pass\n",
        "  raise ValueError('no valid date format found')"
      ],
      "metadata": {
        "id": "ONQaVNLr4GdP"
      },
      "execution_count": 72,
      "outputs": []
    },
    {
      "cell_type": "code",
      "source": [
        "# Check to see if something can be made into an integer\n",
        "def is_intable(str):\n",
        "  try:\n",
        "    int(str)\n",
        "    return True\n",
        "  except (ValueError, TypeError):\n",
        "    return False"
      ],
      "metadata": {
        "id": "acJkuS2t8tsj"
      },
      "execution_count": 100,
      "outputs": []
    },
    {
      "cell_type": "code",
      "source": [
        "# Player time!\n",
        "def player_info_to_player_sql(player, player_id='00000000'):\n",
        "  needed_info = {\n",
        "      'P_ID': player_id, # Input to function - have\n",
        "      'P_Name': player['Name'], # Have\n",
        "      'P_Position': player['Position'], # Have\n",
        "      'Height_In_Inches': convert_height_to_inches(player['Height']), # Have\n",
        "      'Weight_In_lbs': player['Weight'], # Have\n",
        "      'International': player['International'], # Have\n",
        "      'P_Rank': player['Mock Draft Position'], # Have\n",
        "      'Team': player['Team'], # Have\n",
        "      'Birth_date': to_sql_date(player['Birthday']) # Have\n",
        "  }\n",
        "\n",
        "  sql_query = f\"insert into Players values (\"\n",
        "  for key in needed_info.keys():\n",
        "    if is_intable(needed_info[key]) and key != 'P_ID':\n",
        "      sql_query += f\"{needed_info[key]}, \"\n",
        "    else:\n",
        "      sql_query += f\"'{needed_info[key]}', \"\n",
        "  sql_query = sql_query[:-2]\n",
        "  sql_query += \");\"\n",
        "\n",
        "  return sql_query\n",
        "\n"
      ],
      "metadata": {
        "id": "7lhO3hfTzxzl"
      },
      "execution_count": 103,
      "outputs": []
    },
    {
      "cell_type": "code",
      "source": [
        "# Small function to pad zeros onto the front of integer id value\n",
        "def id_pad_zeros(id, length=8):\n",
        "  return str(id).zfill(length)"
      ],
      "metadata": {
        "id": "gggozW5X5aXP"
      },
      "execution_count": 79,
      "outputs": []
    },
    {
      "cell_type": "code",
      "source": [
        "# One full test run to make sure everything works together\n",
        "player = get_player_info(player_links[34])\n",
        "player_id_val = 0\n",
        "stats_id_val = 0\n",
        "\n",
        "stats_sql = player_info_to_stats_sql(player, id_pad_zeros(stats_id_val))\n",
        "player_sql = player_info_to_player_sql(player, id_pad_zeros(player_id_val))\n",
        "if player['International'] != 1:\n",
        "  college_sql = player_info_to_college_sql(player, college_ids, colleges, college_and_division)\n",
        "else:\n",
        "  college_sql = f\"insert into College values('0000', 'International', '', '', '', '');\"\n",
        "\n",
        "print(stats_sql)\n",
        "print(player_sql)\n",
        "print(college_sql)"
      ],
      "metadata": {
        "colab": {
          "base_uri": "https://localhost:8080/"
        },
        "id": "lAZTLS0M5xlF",
        "outputId": "88ffd7c4-8274-4309-e167-01ae8bd1fffc"
      },
      "execution_count": 130,
      "outputs": [
        {
          "output_type": "stream",
          "name": "stdout",
          "text": [
            "insert into Stats values ('00000000', 35, 34.5, 7.7, 11.9, .653, 0.6, 1.7, .344, 3.1, 4.6, .681, 8.7, 1.5, 2.7, 0.5, 1.5, 1.4, 19.2, .684, .678, .147, .386, .326, 23.6, 0.42, 1.06);\n",
            "insert into Players values ('00000000', 'Ryan Kalkbrenner', 'C', 86, 252, 0, 35, 'Creighton', '2002-01-17');\n",
            "insert into College values ('CREI', 'Creighton University', 'Omaha', 'Nebraska', 'Big East Conference', 'NCAA D1');\n"
          ]
        }
      ]
    },
    {
      "cell_type": "code",
      "source": [
        "player_id_val = 0\n",
        "stats_id_val = 0\n",
        "sql_queries = {\n",
        "    'college_queries': [],\n",
        "    'player_queries': [],\n",
        "    'stat_queries': []\n",
        "}"
      ],
      "metadata": {
        "id": "5H3mivZ9L08c"
      },
      "execution_count": 131,
      "outputs": []
    },
    {
      "cell_type": "code",
      "source": [
        "# Finally, it is time to put it all together!\n",
        "for link in player_links:\n",
        "  player = get_player_info(link)\n",
        "\n",
        "  print(f\"Player {player['Name']}: Position {player['Mock Draft Position']} found!\")\n",
        "\n",
        "  stats_sql = player_info_to_stats_sql(player, id_pad_zeros(stats_id_val))\n",
        "  player_sql = player_info_to_player_sql(player, id_pad_zeros(player_id_val))\n",
        "  if player['International'] != 1:\n",
        "    college_sql = player_info_to_college_sql(player, college_ids, colleges, college_and_division)\n",
        "  else:\n",
        "    college_sql = f\"insert into College values('0000', 'International', '', '', '', '');\"\n",
        "\n",
        "  if college_sql not in sql_queries['college_queries']:\n",
        "    sql_queries['college_queries'].append(college_sql)\n",
        "  if player_sql not in sql_queries['player_queries']:\n",
        "    sql_queries['player_queries'].append(player_sql)\n",
        "  if stats_sql not in sql_queries['stat_queries']:\n",
        "    sql_queries['stat_queries'].append(stats_sql)\n",
        "\n",
        "  player_id_val += 1\n",
        "  stats_id_val += 1\n",
        "\n",
        "  print(f\"Player {player['Name']} logged!\")"
      ],
      "metadata": {
        "colab": {
          "base_uri": "https://localhost:8080/"
        },
        "id": "QhuIobHr4nCd",
        "outputId": "d8e6543c-8262-4489-a07e-b7c5ae74c58c"
      },
      "execution_count": 132,
      "outputs": [
        {
          "output_type": "stream",
          "name": "stdout",
          "text": [
            "Player Cooper Flagg: Position 1 found!\n",
            "Player Cooper Flagg logged!\n",
            "Player Dylan Harper: Position 2 found!\n",
            "Player Dylan Harper logged!\n",
            "Player Ace Bailey: Position 3 found!\n",
            "Player Ace Bailey logged!\n",
            "Player V.J. Edgecombe: Position 4 found!\n",
            "Player V.J. Edgecombe logged!\n",
            "Player Tre Johnson: Position 5 found!\n",
            "Player Tre Johnson logged!\n",
            "Player Kon Knueppel: Position 6 found!\n",
            "Player Kon Knueppel logged!\n",
            "Player Khaman Maluach: Position 7 found!\n",
            "Player Khaman Maluach logged!\n",
            "Player Jeremiah Fears: Position 8 found!\n",
            "Player Jeremiah Fears logged!\n",
            "Player Derik Queen: Position 9 found!\n",
            "Player Derik Queen logged!\n",
            "Player Asa Newell: Position 10 found!\n",
            "Player Asa Newell logged!\n",
            "Player Kasparas Jakucionis: Position 11 found!\n",
            "Player Kasparas Jakucionis logged!\n",
            "Player Jase Richardson: Position 12 found!\n",
            "Player Jase Richardson logged!\n",
            "Player Collin Murray-Boyles: Position 13 found!\n",
            "Player Collin Murray-Boyles logged!\n",
            "Player Liam McNeeley: Position 14 found!\n",
            "Player Liam McNeeley logged!\n",
            "Player Egor Demin: Position 15 found!\n",
            "Player Egor Demin logged!\n",
            "Player Noa Essengue: Position 16 found!\n",
            "Player Noa Essengue logged!\n",
            "Player Nolan Traore: Position 17 found!\n",
            "Player Nolan Traore logged!\n",
            "Player Thomas Sorber: Position 18 found!\n",
            "Player Thomas Sorber logged!\n",
            "Player Joan Beringer: Position 19 found!\n",
            "Player Joan Beringer logged!\n",
            "Player Rasheer Fleming: Position 20 found!\n",
            "Player Rasheer Fleming logged!\n",
            "Player Ben Saraf: Position 21 found!\n",
            "Player Ben Saraf logged!\n",
            "Player Danny Wolf: Position 22 found!\n",
            "Player Danny Wolf logged!\n",
            "Player Will Riley: Position 23 found!\n",
            "Player Will Riley logged!\n",
            "Player Nique Clifford: Position 24 found!\n",
            "Player Nique Clifford logged!\n",
            "Player Walter Clayton Jr.: Position 25 found!\n",
            "Player Walter Clayton Jr. logged!\n",
            "Player Carter Bryant: Position 26 found!\n",
            "Player Carter Bryant logged!\n",
            "Player Yaxel Lendeborg: Position 27 found!\n",
            "Player Yaxel Lendeborg logged!\n",
            "Player Labaron Philon: Position 28 found!\n",
            "Player Labaron Philon logged!\n",
            "Player Kam Jones: Position 29 found!\n",
            "Player Kam Jones logged!\n",
            "Player Alex Condon: Position 30 found!\n",
            "Player Alex Condon logged!\n",
            "Player Johni Broome: Position 31 found!\n",
            "Player Johni Broome logged!\n",
            "Player Noah Penda: Position 32 found!\n",
            "Player Noah Penda logged!\n",
            "Player Boogie Fland: Position 33 found!\n",
            "Player Boogie Fland logged!\n",
            "Player Hugo González: Position 34 found!\n",
            "Player Hugo González logged!\n",
            "Player Ryan Kalkbrenner: Position 35 found!\n",
            "Player Ryan Kalkbrenner logged!\n",
            "Player Bogoljub Marković: Position 36 found!\n",
            "Player Bogoljub Marković logged!\n",
            "Player Adou Thiero: Position 37 found!\n",
            "Player Adou Thiero logged!\n",
            "Player Chaz Lanier: Position 38 found!\n",
            "Player Chaz Lanier logged!\n",
            "Player Tahaad Pettiford: Position 39 found!\n",
            "Player Tahaad Pettiford logged!\n",
            "Player Isaiah Evans: Position 40 found!\n",
            "Player Isaiah Evans logged!\n",
            "Player Miles Byrd: Position 41 found!\n",
            "Player Miles Byrd logged!\n",
            "Player Milos Uzan: Position 42 found!\n",
            "Player Milos Uzan logged!\n",
            "Player Maxime Raynaud: Position 43 found!\n",
            "Player Maxime Raynaud logged!\n",
            "Player Alex Toohey: Position 44 found!\n",
            "Player Alex Toohey logged!\n",
            "Player Rocco Zikarsky: Position 45 found!\n",
            "Player Rocco Zikarsky logged!\n",
            "Player Drake Powell: Position 46 found!\n",
            "Player Drake Powell logged!\n",
            "Player Darrion Williams: Position 47 found!\n",
            "Player Darrion Williams logged!\n",
            "Player Sion James: Position 48 found!\n",
            "Player Sion James logged!\n",
            "Player Dink Pate: Position 49 found!\n",
            "Player Dink Pate logged!\n",
            "Player Michael Ruzic: Position 50 found!\n",
            "Player Michael Ruzic logged!\n",
            "Player Tyrese Proctor: Position 51 found!\n",
            "Player Tyrese Proctor logged!\n",
            "Player Eric Dixon: Position 52 found!\n",
            "Player Eric Dixon logged!\n",
            "Player Hansen Yang: Position 53 found!\n",
            "Player Hansen Yang logged!\n",
            "Player Koby Brea: Position 54 found!\n",
            "Player Koby Brea logged!\n",
            "Player JoJo Tugler: Position 55 found!\n",
            "Player JoJo Tugler logged!\n",
            "Player John Tonje: Position 56 found!\n",
            "Player John Tonje logged!\n",
            "Player Alijah Martin: Position 57 found!\n",
            "Player Alijah Martin logged!\n",
            "Player Xaivian Lee: Position 58 found!\n",
            "Player Xaivian Lee logged!\n",
            "Player Hunter Sallis: Position 59 found!\n",
            "Player Hunter Sallis logged!\n"
          ]
        }
      ]
    },
    {
      "cell_type": "code",
      "source": [
        "print(sql_queries['college_queries'].__len__())\n",
        "print(sql_queries['player_queries'].__len__())\n",
        "print(sql_queries['stat_queries'].__len__())"
      ],
      "metadata": {
        "id": "_Pq66_RjC61c",
        "outputId": "223f8b49-c2e1-40cc-ccf9-a9fc7e804f04",
        "colab": {
          "base_uri": "https://localhost:8080/"
        }
      },
      "execution_count": 133,
      "outputs": [
        {
          "output_type": "stream",
          "name": "stdout",
          "text": [
            "36\n",
            "59\n",
            "59\n"
          ]
        }
      ]
    },
    {
      "cell_type": "code",
      "source": [
        "for query in sql_queries['college_queries']:\n",
        "  print(query)"
      ],
      "metadata": {
        "id": "TgV9cb4SDkus",
        "outputId": "b8f51dc4-0cce-4bd4-b867-8c92a8c3206e",
        "colab": {
          "base_uri": "https://localhost:8080/"
        }
      },
      "execution_count": 134,
      "outputs": [
        {
          "output_type": "stream",
          "name": "stdout",
          "text": [
            "insert into College values ('DUKE', 'Duke University', 'Durham', 'North Carolina', 'Atlantic Coast Conference', 'NCAA D1');\n",
            "insert into College values ('RUTG', 'Rutgers University', 'Piscataway', 'New Jersey', 'Big Ten Conference', 'NCAA D1');\n",
            "insert into College values ('BAYL', 'Baylor University', 'Waco', 'Texas', 'Big 12 Conference', 'NCAA D1');\n",
            "insert into College values ('TEXS', 'Texas A&M University', 'College Station', 'Texas', 'Southeastern Conference', 'NCAA D1');\n",
            "insert into College values ('OKLS', 'Oklahoma State University', 'Stillwater', 'Oklahoma', 'Big 12 Conference', 'NCAA D1');\n",
            "insert into College values ('LOYA', 'Loyola University Maryland', 'Baltimore', 'Maryland', 'Patriot League', 'NCAA D1');\n",
            "insert into College values ('GEOS', 'Georgia Southern University', 'Statesboro', 'Georgia', 'Sun Belt Conference', 'NCAA D1');\n",
            "insert into College values ('EASI', 'Eastern Illinois University', 'Charleston', 'Illinois', 'Ohio Valley Conference', 'NCAA D1');\n",
            "insert into College values ('MICH', 'Michigan State University', 'East Lansing', 'Michigan', 'Big Ten Conference', 'NCAA D1');\n",
            "insert into College values ('SOUH', 'South Carolina State University', 'Orangeburg', 'South Carolina', 'Mid-Eastern Athletic Conference', 'NCAA D1');\n",
            "insert into College values ('UNEI', 'University of Connecticut', 'Storrs', 'Connecticut', 'Big East Conference', 'NCAA D1');\n",
            "insert into College values ('BALL', 'Ball State University', 'Muncie', 'Indiana', 'Mid-American Conference', 'NCAA D1');\n",
            "insert into College values('0000', 'International', '', '', '', '');\n",
            "insert into College values ('GEOO', 'Georgetown University', 'Washington', 'District Of Columbia', 'Patriot League', 'NCAA D1');\n",
            "insert into College values ('SAIS', 'Saint Joseph's University', 'Philadelphia', 'Pennsylvania', 'Atlantic 10 Conference', 'NCAA D1');\n",
            "insert into College values ('CENU', 'Central Michigan University', 'Mount Pleasant', 'Michigan', 'Mid-American Conference', 'NCAA D1');\n",
            "insert into College values ('COLV', 'Colorado State University', 'Fort Collins', 'Colorado', 'Mountain West Conference', 'NCAA D1');\n",
            "insert into College values ('FLOR', 'Florida A&M University', 'Tallahassee', 'Florida', 'Southwestern Athletic Conference', 'NCAA D1');\n",
            "insert into College values ('ARIO', 'Arizona State University', 'Tempe', 'Arizona', 'Pacific-12 Conference', 'NCAA D1');\n",
            "insert into College values ('ALAB', 'Alabama A&M University', 'Normal', 'Alabama', 'Southwestern Athletic Conference', 'NCAA D1');\n",
            "insert into College values ('MARQ', 'Marquette University', 'Milwaukee', 'Wisconsin', 'Big East Conference', 'NCAA D1');\n",
            "insert into College values ('AUBU', 'Auburn University', 'Auburn', 'Alabama', 'Southeastern Conference', 'NCAA D1');\n",
            "insert into College values ('ARKN', 'Arkansas State University', 'Jonesboro', 'Arkansas', 'Sun Belt Conference', 'NCAA D1');\n",
            "insert into College values ('CREI', 'Creighton University', 'Omaha', 'Nebraska', 'Big East Conference', 'NCAA D1');\n",
            "insert into College values ('EASN', 'East Tennessee State University', 'Johnson City', 'Tennessee', 'Southern Conference', 'NCAA D1');\n",
            "insert into College values ('SANG', 'San Diego State University', 'San Diego', 'California', 'Mountain West Conference', 'NCAA D1');\n",
            "insert into College values ('HOUS', 'Houston Christian University', 'Houston', 'Texas', 'Southland Conference', 'NCAA D1');\n",
            "insert into College values ('STAF', 'Stanford University', 'Stanford', 'California', 'Pacific-12 Conference', 'NCAA D1');\n",
            "insert into College values ('NORC', 'North Carolina A&T State University', 'Greensboro', 'North Carolina', 'Mid-Eastern Athletic Conference', 'NCAA D1');\n",
            "insert into College values ('TEXH', 'Texas Tech University', 'Lubbock', 'Texas', 'Big 12 Conference', 'NCAA D1');\n",
            "insert into College values ('EASW', 'Eastern New Mexico University', 'Portales', 'New Mexico', 'Lone Star Conference', 'NCAA D2');\n",
            "insert into College values ('VILL', 'Villanova University', 'Villanova', 'Pennsylvania', 'Big East Conference', 'NCAA D1');\n",
            "insert into College values ('EASK', 'Eastern Kentucky University', 'Richmond', 'Kentucky', 'Asun Conference', 'NCAA D1');\n",
            "insert into College values ('UNFI', 'University of Wisconsin', 'Madison', 'Wisconsin', 'Big Ten Conference', 'NCAA D1');\n",
            "insert into College values ('PRIC', 'Princeton University', 'Princeton', 'New Jersey', 'Ivy League', 'NCAA D1');\n",
            "insert into College values ('WAKE', 'Wake Forest University', 'Winston-Salem', 'North Carolina', 'Atlantic Coast Conference', 'NCAA D1');\n"
          ]
        }
      ]
    },
    {
      "cell_type": "code",
      "source": [
        "for query in sql_queries['player_queries']:\n",
        "  print(query)"
      ],
      "metadata": {
        "id": "kVRGia-YSqfV",
        "outputId": "b22789e5-a686-4ec5-e7b8-13ecfa1899c7",
        "colab": {
          "base_uri": "https://localhost:8080/"
        }
      },
      "execution_count": 135,
      "outputs": [
        {
          "output_type": "stream",
          "name": "stdout",
          "text": [
            "insert into Players values ('00000000', 'Cooper Flagg', 'SF/PF', 81, 205, 0, 1, 'Duke', '2006-12-21');\n",
            "insert into Players values ('00000001', 'Dylan Harper', 'PG/SG', 78, 220, 0, 2, 'Rutgers', '2006-03-02');\n",
            "insert into Players values ('00000002', 'Ace Bailey', 'SF', 82, 200, 0, 3, 'Rutgers', '2006-08-13');\n",
            "insert into Players values ('00000003', 'V.J. Edgecombe', 'SG', 77, 180, 0, 4, 'Baylor', '2005-07-30');\n",
            "insert into Players values ('00000004', 'Tre Johnson', 'SG', 78, 184, 0, 5, 'Texas', '2006-03-07');\n",
            "insert into Players values ('00000005', 'Kon Knueppel', 'SG/SF', 79, 217, 0, 6, 'Duke', '2005-08-03');\n",
            "insert into Players values ('00000006', 'Khaman Maluach', 'C', 86, 250, 0, 7, 'Duke', '2006-09-14');\n",
            "insert into Players values ('00000007', 'Jeremiah Fears', 'PG', 76, 182, 0, 8, 'Oklahoma', '2006-10-14');\n",
            "insert into Players values ('00000008', 'Derik Queen', 'C', 82, 246, 0, 9, 'Maryland', '2004-12-27');\n",
            "insert into Players values ('00000009', 'Asa Newell', 'PF', 82, 205, 0, 10, 'Georgia', '2005-10-05');\n",
            "insert into Players values ('00000010', 'Kasparas Jakucionis', 'PG/SG', 78, 205, 0, 11, 'Illinois', '2006-05-29');\n",
            "insert into Players values ('00000011', 'Jase Richardson', 'SG/PG', 75, 185, 0, 12, 'Michigan State', '2006-10-16');\n",
            "insert into Players values ('00000012', 'Collin Murray-Boyles', 'PF', 79, 231, 0, 13, 'South Carolina', '2005-06-10');\n",
            "insert into Players values ('00000013', 'Liam McNeeley', 'SF', 80, 185, 0, 14, 'UConn', '2005-10-10');\n",
            "insert into Players values ('00000014', 'Egor Demin', 'PG/SG', 81, 190, 0, 15, 'BYU', '2006-03-03');\n",
            "insert into Players values ('00000015', 'Noa Essengue', 'SF/PF', 81, 194, 1, 16, 'Ratiopharm Ulm (Germany)', '2006-12-18');\n",
            "insert into Players values ('00000016', 'Nolan Traore', 'PG', 75, 175, 1, 17, 'Saint-Quentin (France)', '2006-05-28');\n",
            "insert into Players values ('00000017', 'Thomas Sorber', 'PF/C', 82, 255, 0, 18, 'Georgetown', '2005-12-25');\n",
            "insert into Players values ('00000018', 'Joan Beringer', 'C', 82, 230, 1, 19, 'KK Cedevita Junior (Croatia)', '2006-11-11');\n",
            "insert into Players values ('00000019', 'Rasheer Fleming', 'PF', 81, 240, 0, 20, 'Saint Joseph's', '2004-07-10');\n",
            "insert into Players values ('00000020', 'Ben Saraf', 'PG/SG', 77, 200, 1, 21, 'Ratiopharm Ulm', '2006-04-14');\n",
            "insert into Players values ('00000021', 'Danny Wolf', 'C', 84, 250, 0, 22, 'Michigan', '2004-05-04');\n",
            "insert into Players values ('00000022', 'Will Riley', 'SG/SF', 80, 195, 0, 23, 'Illinois', '2006-02-10');\n",
            "insert into Players values ('00000023', 'Nique Clifford', 'SG/SF', 78, 200, 0, 24, 'Colorado State', '2002-02-09');\n",
            "insert into Players values ('00000024', 'Walter Clayton Jr.', 'PG', 75, 195, 0, 25, 'Florida', '2003-03-06');\n",
            "insert into Players values ('00000025', 'Carter Bryant', 'SF/PF', 80, 225, 0, 26, 'Arizona', '2005-11-26');\n",
            "insert into Players values ('00000026', 'Yaxel Lendeborg', 'PF', 81, 240, 0, 27, 'UAB', '2002-09-30');\n",
            "insert into Players values ('00000027', 'Labaron Philon', 'PG', 76, 177, 0, 28, 'Alabama', '2005-11-24');\n",
            "insert into Players values ('00000028', 'Kam Jones', 'PG/SG', 77, 200, 0, 29, 'Marquette', '2002-02-25');\n",
            "insert into Players values ('00000029', 'Alex Condon', 'PF/C', 83, 230, 0, 30, 'Florida', '2004-07-25');\n",
            "insert into Players values ('00000030', 'Johni Broome', 'PF/C', 82, 240, 0, 31, 'Auburn', '2002-07-19');\n",
            "insert into Players values ('00000031', 'Noah Penda', 'SF', 79, 225, 1, 32, 'Le Mans Sarthe (France)', '2005-01-07');\n",
            "insert into Players values ('00000032', 'Boogie Fland', 'PG', 74, 175, 0, 33, 'Arkansas', '2006-07-10');\n",
            "insert into Players values ('00000033', 'Hugo González', 'SF', 78, 207, 1, 34, 'Real Madrid (Spain)', '2006-02-05');\n",
            "insert into Players values ('00000034', 'Ryan Kalkbrenner', 'C', 86, 252, 0, 35, 'Creighton', '2002-01-17');\n",
            "insert into Players values ('00000035', 'Bogoljub Marković', 'PF', 83, 190, 1, 36, 'KK Mega Basket (Serbia)', '2005-07-12');\n",
            "insert into Players values ('00000036', 'Adou Thiero', 'SF/PF', 80, 220, 0, 37, 'Arkansas', '2004-05-08');\n",
            "insert into Players values ('00000037', 'Chaz Lanier', 'SG', 77, 207, 0, 38, 'Tennessee', '2001-12-19');\n",
            "insert into Players values ('00000038', 'Tahaad Pettiford', 'PG', 73, 175, 0, 39, 'Auburn', '2005-08-04');\n",
            "insert into Players values ('00000039', 'Isaiah Evans', 'SF', 78, 175, 0, 40, 'Duke', '2005-12-06');\n",
            "insert into Players values ('00000040', 'Miles Byrd', 'SG', 79, 190, 0, 41, 'San Diego State', '2004-09-08');\n",
            "insert into Players values ('00000041', 'Milos Uzan', 'PG', 76, 190, 0, 42, 'Houston', '2002-12-26');\n",
            "insert into Players values ('00000042', 'Maxime Raynaud', 'C', 85, 245, 0, 43, 'Stanford', '2003-04-07');\n",
            "insert into Players values ('00000043', 'Alex Toohey', 'SF', 80, 223, 1, 44, 'Sydney (NBL)', '2004-05-04');\n",
            "insert into Players values ('00000044', 'Rocco Zikarsky', 'C', 87, 227, 1, 45, 'Brisbane (NBL)', '2006-07-10');\n",
            "insert into Players values ('00000045', 'Drake Powell', 'SG', 77, 185, 0, 46, 'North Carolina', '2005-09-08');\n",
            "insert into Players values ('00000046', 'Darrion Williams', 'SF', 78, 225, 0, 47, 'Texas Tech', '2003-04-23');\n",
            "insert into Players values ('00000047', 'Sion James', 'SF', 78, 220, 0, 48, 'Duke', '2002-12-04');\n",
            "insert into Players values ('00000048', 'Dink Pate', 'SF', 80, 210, 0, 49, 'Mexico City', '2006-03-10');\n",
            "insert into Players values ('00000049', 'Michael Ruzic', 'PF', 82, 220, 1, 50, 'Joventut (Spain)', '2006-10-04');\n",
            "insert into Players values ('00000050', 'Tyrese Proctor', 'PG', 77, 183, 0, 51, 'Duke', '2004-04-01');\n",
            "insert into Players values ('00000051', 'Eric Dixon', 'PF', 80, 265, 0, 52, 'Villanova', '2001-01-26');\n",
            "insert into Players values ('00000052', 'Hansen Yang', 'C', 85, 249, 1, 53, 'Qingdao (China)', '2005-06-26');\n",
            "insert into Players values ('00000053', 'Koby Brea', 'SG', 79, 215, 0, 54, 'Kentucky', '2002-11-06');\n",
            "insert into Players values ('00000054', 'JoJo Tugler', 'PF', 80, 230, 0, 55, 'Houston', '2005-05-16');\n",
            "insert into Players values ('00000055', 'John Tonje', 'SG', 77, 218, 0, 56, 'Wisconsin', '2001-04-23');\n",
            "insert into Players values ('00000056', 'Alijah Martin', 'SG', 74, 210, 0, 57, 'Florida', '2001-12-26');\n",
            "insert into Players values ('00000057', 'Xaivian Lee', 'PG', 76, 180, 0, 58, 'Princeton', '2004-03-12');\n",
            "insert into Players values ('00000058', 'Hunter Sallis', 'SG/PG', 77, 179, 0, 59, 'Wake Forest', '2003-03-26');\n"
          ]
        }
      ]
    },
    {
      "cell_type": "code",
      "source": [
        "for query in sql_queries['stat_queries']:\n",
        "  print(query)"
      ],
      "metadata": {
        "id": "6yBrX8TRSsZq",
        "outputId": "86e5b4e4-51bf-4976-acab-a7895be6e43e",
        "colab": {
          "base_uri": "https://localhost:8080/"
        }
      },
      "execution_count": 136,
      "outputs": [
        {
          "output_type": "stream",
          "name": "stdout",
          "text": [
            "insert into Stats values ('00000000', 37, 30.7, 6.5, 13.4, .481, 1.4, 3.6, .385, 4.8, 5.8, .840, 7.5, 4.2, 1.4, 1.4, 2.1, 1.9, 19.2, .593, .533, .272, .429, .367, 30.9, 0.87, 2.00);\n",
            "insert into Stats values ('00000001', 29, 32.6, 6.7, 13.8, .484, 1.7, 5.2, .333, 4.3, 5.8, .750, 4.6, 4.0, 0.6, 1.4, 2.4, 1.9, 19.4, .587, .546, .374, .419, .357, 29.0, 0.93, 1.67);\n",
            "insert into Stats values ('00000002', 30, 33.3, 6.8, 14.7, .460, 1.6, 4.5, .346, 2.5, 3.6, .692, 7.2, 1.3, 1.3, 1.0, 2.0, 2.8, 17.6, .536, .514, .308, .243, .346, 27.5, 0.30, 0.62);\n",
            "insert into Stats values ('00000003', 33, 32.7, 5.0, 11.5, .436, 1.6, 4.6, .340, 3.4, 4.3, .782, 5.6, 3.2, 0.6, 2.1, 1.9, 2.5, 15.0, .552, .504, .402, .373, .359, 24.1, 0.80, 1.66);\n",
            "insert into Stats values ('00000004', 33, 34.7, 6.8, 15.9, .427, 2.7, 6.8, .397, 3.7, 4.2, .871, 3.1, 2.7, 0.3, 0.9, 1.8, 2.1, 19.9, .557, .511, .427, .265, .390, 29.1, 0.57, 1.50);\n",
            "insert into Stats values ('00000005', 39, 30.5, 4.6, 9.7, .479, 2.2, 5.3, .406, 3.0, 3.3, .914, 4.0, 2.7, 0.2, 1.0, 1.4, 2.1, 14.4, .642, .590, .548, .339, .392, 21.4, 0.73, 2.02);\n",
            "insert into Stats values ('00000006', 39, 21.2, 3.5, 4.9, .712, 0.1, 0.4, .250, 1.5, 2.0, .766, 6.6, 0.5, 1.3, 0.2, 0.8, 2.1, 8.6, .736, .723, .084, .403, .325, 16.1, 0.27, 0.67);\n",
            "insert into Stats values ('00000007', 34, 30.2, 5.3, 12.2, .434, 1.1, 3.9, .284, 5.4, 6.3, .851, 4.1, 4.1, 0.1, 1.6, 3.4, 1.9, 17.1, .562, .480, .323, .518, .360, 31.5, 0.91, 1.21);\n",
            "insert into Stats values ('00000008', 36, 30.4, 5.8, 11.1, .526, 0.2, 1.0, .200, 4.6, 6.1, .766, 9.0, 1.9, 1.1, 1.1, 2.4, 2.1, 16.5, .591, .535, .088, .546, .324, 26.6, 0.44, 0.79);\n",
            "insert into Stats values ('00000009', 33, 29.0, 5.8, 10.7, .543, 0.8, 2.7, .292, 3.1, 4.1, .748, 6.9, 0.9, 1.0, 1.0, 1.1, 2.4, 15.4, .612, .580, .253, .384, .339, 23.5, 0.29, 0.78);\n",
            "insert into Stats values ('00000010', 33, 31.8, 4.5, 10.3, .440, 1.6, 5.2, .318, 4.3, 5.1, .845, 5.7, 4.7, 0.3, 0.9, 3.7, 2.7, 15.0, .590, .519, .501, .496, .369, 24.2, 1.07, 1.27);\n",
            "insert into Stats values ('00000011', 36, 25.3, 4.0, 8.1, .493, 1.3, 3.2, .412, 2.8, 3.4, .836, 3.3, 1.9, 0.3, 0.8, 0.8, 1.5, 12.1, .624, .574, .390, .418, .370, 20.6, 0.70, 2.27);\n",
            "insert into Stats values ('00000012', 32, 30.6, 6.2, 10.6, .586, 0.3, 1.1, .265, 4.2, 5.9, .707, 8.3, 2.4, 1.3, 1.5, 2.4, 2.6, 16.8, .630, .599, .101, .556, .321, 26.7, 0.79, 0.99);\n",
            "insert into Stats values ('00000013', 27, 32.1, 4.4, 11.5, .381, 1.7, 5.4, .317, 4.1, 4.7, .866, 6.0, 2.3, 0.2, 0.6, 1.9, 2.0, 14.5, .529, .455, .468, .410, .373, 25.6, 0.51, 1.22);\n",
            "insert into Stats values ('00000014', 33, 27.5, 3.8, 9.3, .412, 1.3, 4.7, .273, 1.7, 2.5, .695, 3.9, 5.5, 0.4, 1.2, 2.9, 1.2, 10.6, .509, .480, .503, .268, .344, 24.5, 1.41, 1.86);\n",
            "insert into Stats values ('00000015', 18, 23.7, 3.9, 6.9, .560, 0.6, 1.9, .294, 4.1, 5.6, .730, 5.3, 1.1, 0.6, 1.4, 1.0, 2.6, 12.4, .646, .600, .272, .800, .335, None, None, 1.11);\n",
            "insert into Stats values ('00000016', 40, 23.0, 4.2, 10.3, .409, 1.2, 3.9, .314, 2.3, 3.1, .728, 1.9, 4.8, 0.1, 0.7, 2.5, 2.2, 12.0, .506, .469, .378, .303, .354, 29.6, 1.45, 1.91);\n",
            "insert into Stats values ('00000017', 24, 31.3, 5.5, 10.4, .532, 0.3, 1.5, .162, 3.2, 4.4, .724, 8.5, 2.4, 2.0, 1.5, 2.3, 2.2, 14.5, .580, .544, .148, .420, .318, 23.6, 0.66, 1.07);\n",
            "insert into Stats values ('00000018', 53, 18.0, 2.0, 3.3, .615, 0.0, 0.0, , 1.0, 1.7, .584, 4.6, 0.4, 1.4, 0.5, 0.6, 2.3, 5.0, .615, .615, .000, .511, .301, 12.1, 0.28, 0.65);\n",
            "insert into Stats values ('00000019', 35, 31.3, 5.4, 10.1, .531, 1.8, 4.5, .390, 2.1, 2.9, .743, 8.5, 1.3, 1.5, 1.4, 1.5, 2.5, 14.7, .638, .619, .449, .285, .360, 21.2, 0.40, 0.81);\n",
            "insert into Stats values ('00000020', 45, 23.5, 4.6, 10.2, .455, 0.7, 2.3, .286, 2.3, 3.2, .727, 2.6, 4.3, 0.3, 1.2, 2.7, 2.3, 12.2, .524, .488, .230, .313, .337, 27.8, 1.17, 1.58);\n",
            "insert into Stats values ('00000021', 37, 30.5, 5.0, 10.1, .497, 1.0, 3.1, .336, 2.1, 3.6, .594, 9.7, 3.6, 1.4, 0.7, 3.2, 2.1, 13.2, .559, .548, .302, .356, .324, 24.2, 0.94, 1.10);\n",
            "insert into Stats values ('00000022', 35, 25.7, 4.4, 10.3, .432, 1.3, 4.1, .326, 2.4, 3.3, .724, 4.1, 2.2, 0.3, 0.3, 1.2, 1.2, 12.6, .532, .497, .401, .323, .353, 23.8, 0.68, 1.86);\n",
            "insert into Stats values ('00000023', 36, 35.4, 6.6, 13.3, .496, 1.8, 4.9, .377, 3.9, 5.0, .777, 9.6, 4.4, 0.6, 1.2, 2.6, 2.4, 18.9, .603, .565, .365, .373, .361, 27.7, 0.97, 1.72);\n",
            "insert into Stats values ('00000024', 39, 32.6, 6.0, 13.4, .448, 3.0, 7.8, .386, 3.2, 3.7, .875, 3.7, 4.2, 0.5, 1.2, 2.4, 1.9, 18.3, .602, .560, .578, .275, .398, 25.6, 0.91, 1.73);\n",
            "insert into Stats values ('00000025', 37, 19.3, 2.2, 4.8, .460, 1.1, 2.8, .371, 1.1, 1.6, .695, 4.1, 1.0, 1.0, 0.9, 1.0, 2.3, 6.5, .593, .571, .597, .335, .352, 16.4, 0.51, 0.97);\n",
            "insert into Stats values ('00000026', 37, 33.6, 6.4, 12.3, .522, 0.7, 1.9, .357, 4.1, 5.5, .757, 11.4, 4.2, 1.8, 1.7, 2.2, 2.5, 17.7, .592, .549, .154, .443, .339, 23.9, 0.95, 1.96);\n",
            "insert into Stats values ('00000027', 37, 24.7, 3.8, 8.5, .452, 1.1, 3.4, .315, 1.9, 2.4, .767, 3.3, 3.8, 0.3, 1.4, 1.7, 1.7, 10.6, .549, .514, .395, .287, .353, 20.9, 1.19, 2.19);\n",
            "insert into Stats values ('00000028', 34, 33.8, 7.8, 16.2, .483, 1.9, 6.1, .311, 1.7, 2.6, .648, 4.5, 5.9, 0.3, 1.4, 1.9, 2.2, 19.2, .551, .541, .374, .160, .345, 28.9, 1.32, 3.17);\n",
            "insert into Stats values ('00000029', 37, 24.9, 3.6, 7.4, .493, 0.5, 1.6, .328, 2.8, 4.6, .604, 7.5, 2.2, 1.3, 0.9, 1.4, 2.3, 10.6, .552, .527, .212, .617, .317, 20.8, 0.72, 1.61);\n",
            "insert into Stats values ('00000030', 36, 30.2, 7.3, 14.3, .510, 0.7, 2.5, .278, 3.3, 5.6, .587, 10.8, 2.9, 2.1, 0.9, 1.6, 2.1, 18.6, .547, .534, .174, .390, .315, 30.4, 0.64, 1.82);\n",
            "insert into Stats values ('00000031', 28, 26.6, 3.4, 7.6, .449, 1.0, 3.1, .314, 2.4, 3.5, .680, 5.0, 2.6, 0.4, 1.4, 1.7, 2.1, 10.2, .548, .512, .402, .453, .337, None, None, 1.52);\n",
            "insert into Stats values ('00000032', 21, 31.8, 4.6, 12.0, .379, 1.7, 5.0, .340, 2.6, 3.1, .833, 3.2, 5.1, 0.0, 1.5, 1.4, 1.8, 13.5, .498, .451, .419, .261, .369, 23.6, 1.29, 3.72);\n",
            "insert into Stats values ('00000033', 52, 10.4, 1.1, 2.7, .403, 0.3, 1.2, .270, 0.6, 0.9, .717, 1.8, 0.6, 0.3, 0.2, 0.7, 1.8, 3.1, .504, .464, .453, .331, .337, None, None, 0.86);\n",
            "insert into Stats values ('00000034', 35, 34.5, 7.7, 11.9, .653, 0.6, 1.7, .344, 3.1, 4.6, .681, 8.7, 1.5, 2.7, 0.5, 1.5, 1.4, 19.2, .684, .678, .147, .386, .326, 23.6, 0.42, 1.06);\n",
            "insert into Stats values ('00000035', 30, 29.4, 4.7, 8.8, .538, 1.0, 2.7, .370, 3.3, 4.3, .760, 6.8, 2.7, 0.8, 0.8, 2.7, 3.4, 13.7, .633, .595, .307, .489, .348, None, None, 0.98);\n",
            "insert into Stats values ('00000036', 27, 27.5, 5.1, 9.4, .545, 0.4, 1.6, .256, 4.4, 6.5, .686, 5.8, 1.9, 0.7, 1.6, 1.7, 2.6, 15.1, .605, .567, .170, .692, .322, 25.8, 0.54, 1.11);\n",
            "insert into Stats values ('00000037', 38, 31.4, 6.4, 14.8, .431, 3.2, 8.2, .395, 2.0, 2.6, .758, 3.9, 1.1, 0.1, 0.9, 1.1, 1.6, 18.0, .560, .540, .551, .176, .389, 28.8, 0.27, 0.95);\n",
            "insert into Stats values ('00000038', 38, 22.9, 3.8, 9.1, .421, 1.8, 5.0, .366, 2.1, 2.6, .804, 2.2, 3.0, 0.2, 0.9, 1.6, 2.4, 11.6, .560, .522, .550, .280, .382, 25.9, 0.89, 1.82);\n",
            "insert into Stats values ('00000039', 36, 13.8, 2.2, 5.1, .432, 1.7, 4.1, .416, 0.7, 0.9, .812, 1.1, 0.5, 0.1, 0.2, 0.4, 0.9, 6.8, .621, .601, .814, .175, .410, 22.4, 0.29, 1.12);\n",
            "insert into Stats values ('00000040', 30, 30.1, 3.9, 10.3, .381, 1.8, 5.9, .301, 2.6, 3.2, .832, 4.4, 2.7, 1.1, 2.1, 1.6, 2.1, 12.3, .518, .466, .568, .306, .371, 23.3, 0.78, 1.74);\n",
            "insert into Stats values ('00000041', 40, 31.5, 4.3, 9.6, .453, 1.6, 3.6, .428, 1.2, 1.5, .783, 3.1, 4.3, 0.1, 0.9, 1.4, 2.0, 11.4, .554, .534, .380, .157, .362, 19.7, 1.31, 2.98);\n",
            "insert into Stats values ('00000042', 35, 33.5, 7.5, 16.1, .467, 1.9, 5.5, .347, 3.3, 4.2, .770, 10.6, 1.7, 1.4, 0.9, 2.4, 2.0, 20.2, .558, .527, .343, .263, .363, 31.5, 0.38, 0.69);\n",
            "insert into Stats values ('00000043', 32, 23.5, 4.0, 8.6, .465, 1.0, 2.9, .340, 2.4, 3.2, .738, 3.8, 1.3, 0.8, 1.4, 1.1, 1.7, 11.4, .562, .524, .342, .375, .349, 20.4, 0.46, 1.23);\n",
            "insert into Stats values ('00000044', 20, 12.2, 1.8, 3.6, .500, 0.1, 0.3, .200, 1.0, 1.6, .625, 3.5, 0.3, 0.7, 0.3, 0.6, 1.3, 4.7, .533, .507, .069, .444, .309, 17.1, 0.20, 0.50);\n",
            "insert into Stats values ('00000045', 37, 25.6, 2.8, 5.7, .483, 1.0, 2.6, .379, 0.9, 1.5, .648, 3.4, 1.1, 0.7, 0.7, 0.7, 1.8, 7.4, .581, .569, .450, .256, .336, 13.8, 0.51, 1.48);\n",
            "insert into Stats values ('00000046', 34, 30.0, 5.5, 12.5, .439, 1.4, 4.1, .340, 2.7, 3.2, .836, 5.5, 3.6, 0.4, 1.3, 1.9, 2.2, 15.1, .538, .495, .333, .259, .365, 27.0, 0.86, 1.92);\n",
            "insert into Stats values ('00000047', 39, 25.5, 2.9, 5.6, .516, 0.8, 1.9, .413, 2.1, 2.6, .810, 4.2, 2.9, 0.3, 0.8, 1.2, 2.0, 8.6, .635, .588, .346, .461, .355, 16.2, 1.17, 2.45);\n",
            "insert into Stats values ('00000048', 34, 26.9, 4.0, 9.8, .407, 0.9, 3.5, .258, 0.7, 1.3, .581, 5.2, 1.9, 0.1, 0.6, 1.7, 2.0, 10.1, .485, .453, .361, .130, .320, 20.4, 0.52, 1.09);\n",
            "insert into Stats values ('00000049', 23, 12.3, 1.3, 2.7, .492, 0.3, 1.1, .240, 0.3, 0.8, .316, 1.6, 0.2, 0.3, 0.2, 0.3, 1.7, 3.2, .514, .540, .397, .302, .275, None, None, 0.67);\n",
            "insert into Stats values ('00000050', 38, 29.9, 4.3, 9.6, .452, 2.3, 5.8, .405, 1.3, 2.0, .680, 3.0, 2.2, 0.1, 0.8, 1.1, 1.9, 12.4, .587, .574, .603, .205, .364, 20.1, 0.64, 2.12);\n",
            "insert into Stats values ('00000051', 35, 34.8, 7.7, 17.1, .451, 2.9, 7.2, .407, 5.0, 6.1, .813, 5.1, 1.9, 0.3, 0.8, 2.1, 2.0, 23.3, .583, .537, .424, .358, .386, 34.7, 0.38, 0.89);\n",
            "insert into Stats values ('00000052', 53, 33.0, 6.3, 10.6, .595, 0.3, 1.1, .286, 3.2, 4.7, .677, 10.0, 2.8, 2.7, 0.9, 3.1, 3.2, 16.2, .627, .609, .099, .446, .318, 21.4, 0.65, 0.91);\n",
            "insert into Stats values ('00000053', 36, 28.1, 4.1, 8.7, .470, 2.6, 5.9, .435, 0.9, 1.0, .914, 3.2, 1.3, 0.3, 0.5, 0.5, 1.3, 11.6, .636, .618, .684, .112, .405, 16.7, 0.48, 2.82);\n",
            "insert into Stats values ('00000054', 40, 21.7, 2.3, 4.3, .523, 0.1, 0.3, .273, 0.9, 1.6, .538, 5.9, 0.9, 1.9, 1.0, 1.0, 3.1, 5.5, .537, .532, .064, .378, .297, 14.8, 0.52, 0.97);\n",
            "insert into Stats values ('00000055', 37, 31.1, 5.5, 11.9, .465, 2.3, 5.9, .388, 6.2, 6.9, .909, 5.3, 1.8, 0.2, 0.7, 1.8, 1.7, 19.6, .647, .562, .499, .579, .392, 28.0, 0.42, 0.99);\n",
            "insert into Stats values ('00000056', 38, 30.4, 5.0, 11.0, .452, 2.1, 5.9, .350, 2.3, 3.1, .761, 4.5, 2.2, 0.2, 1.5, 1.4, 1.4, 14.4, .576, .547, .541, .280, .368, 21.7, 0.57, 1.49);\n",
            "insert into Stats values ('00000057', 30, 32.1, 6.0, 13.6, .439, 2.0, 5.4, .366, 3.0, 3.8, .789, 6.1, 5.5, 0.4, 1.2, 2.2, 2.2, 16.9, .549, .511, .395, .279, .368, 28.1, 1.29, 2.46);\n",
            "insert into Stats values ('00000058', 32, 35.9, 6.6, 14.4, .457, 1.3, 4.8, .277, 3.7, 4.6, .804, 5.1, 2.8, 0.5, 1.2, 2.4, 2.3, 18.3, .549, .503, .335, .320, .353, 27.7, 0.65, 1.15);\n"
          ]
        }
      ]
    },
    {
      "cell_type": "code",
      "source": [],
      "metadata": {
        "id": "dJCIdGLfStrs"
      },
      "execution_count": null,
      "outputs": []
    }
  ]
}